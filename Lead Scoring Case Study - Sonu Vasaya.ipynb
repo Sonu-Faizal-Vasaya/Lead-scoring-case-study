{
 "cells": [
  {
   "cell_type": "markdown",
   "id": "ceb9ad13",
   "metadata": {},
   "source": [
    "# Lead Scoring Case Study"
   ]
  },
  {
   "cell_type": "markdown",
   "id": "a1b1e022",
   "metadata": {},
   "source": [
    "#### Problem Statement: \n",
    "             "
   ]
  },
  {
   "cell_type": "markdown",
   "id": "362d3d79",
   "metadata": {},
   "source": [
    "An education company named X Education sells online courses to industry professionals. On any given day, many professionals who are interested in the courses land on their website and browse for courses. \n",
    "\n",
    "   The company markets its courses on several websites and search engines like Google. Once these people land on the website, they might browse the courses or fill up a form for the course or watch some videos. When these people fill up a form providing their email address or phone number, they are classified to be a lead. Moreover, the company also gets leads through past referrals. Once these leads are acquired, employees from the sales team start making calls, writing emails, etc. Through this process, some of the leads get converted while most do not. The typical lead conversion rate at X education is around 30%. \n",
    "\n",
    "   Now, although X Education gets a lot of leads, its lead conversion rate is very poor. For example, if, say, they acquire 100 leads in a day, only about 30 of them are converted. To make this process more efficient, the company wishes to identify the most potential leads, also known as ‘Hot Leads’. If they successfully identify this set of leads, the lead conversion rate should go up as the sales team will now be focusing more on communicating with the potential leads rather than making calls to everyone.\n",
    " \n",
    "   There are a lot of leads generated in the initial stage (top) but only a few of them come out as paying customers from the bottom. In the middle stage, you need to nurture the potential leads well (i.e. educating the leads about the product, constantly communicating etc. ) in order to get a higher lead conversion.\n",
    "\n",
    "   X Education has appointed you to help them select the most promising leads, i.e. the leads that are most likely to convert into paying customers. The company requires you to build a model wherein you need to assign a lead score to each of the leads such that the customers with a higher lead score have a higher conversion chance and the customers with a lower lead score have a lower conversion chance. The CEO, in particular, has given a ballpark of the target lead conversion rate to be around 80%.\n",
    " "
   ]
  },
  {
   "cell_type": "markdown",
   "id": "599f83bc",
   "metadata": {},
   "source": [
    "#### Data\n",
    "You have been provided with a leads dataset from the past with around 9000 data points. This dataset consists of various attributes such as Lead Source, Total Time Spent on Website, Total Visits, Last Activity, etc. which may or may not be useful in ultimately deciding whether a lead will be converted or not. The target variable, in this case, is the column ‘Converted’ which tells whether a past lead was converted or not wherein 1 means it was converted and 0 means it wasn’t converted. You can learn more about the dataset from the data dictionary provided in the zip folder at the end of the page. Another thing that you also need to check out are the levels present in the categorical variables. Many of the categorical variables have a level called 'Select' which needs to be handled because it is as good as a null value (think why?).\n",
    "\n",
    " \n",
    "\n",
    "#### Goals of the Case Study\n",
    "There are quite a few goals for this case study:\n",
    "\n",
    "Build a logistic regression model to assign a lead score between 0 and 100 to each of the leads which can be used by the company to target potential leads. A higher score would mean that the lead is hot, i.e. is most likely to convert whereas a lower score would mean that the lead is cold and will mostly not get converted."
   ]
  },
  {
   "cell_type": "markdown",
   "id": "730bae5b",
   "metadata": {},
   "source": [
    "### Data Understanding"
   ]
  },
  {
   "cell_type": "code",
   "execution_count": 720,
   "id": "c6fe8769",
   "metadata": {},
   "outputs": [],
   "source": [
    "# Importing the necessary libaries that require for analysis\n",
    "\n",
    "import numpy as np, pandas as pd, matplotlib.pyplot as plt, seaborn as sns\n",
    "\n",
    "import warnings\n",
    "warnings.filterwarnings('ignore') "
   ]
  },
  {
   "cell_type": "code",
   "execution_count": 721,
   "id": "da802ab3",
   "metadata": {},
   "outputs": [
    {
     "data": {
      "text/html": [
       "<div>\n",
       "<style scoped>\n",
       "    .dataframe tbody tr th:only-of-type {\n",
       "        vertical-align: middle;\n",
       "    }\n",
       "\n",
       "    .dataframe tbody tr th {\n",
       "        vertical-align: top;\n",
       "    }\n",
       "\n",
       "    .dataframe thead th {\n",
       "        text-align: right;\n",
       "    }\n",
       "</style>\n",
       "<table border=\"1\" class=\"dataframe\">\n",
       "  <thead>\n",
       "    <tr style=\"text-align: right;\">\n",
       "      <th></th>\n",
       "      <th>Prospect ID</th>\n",
       "      <th>Lead Number</th>\n",
       "      <th>Lead Origin</th>\n",
       "      <th>Lead Source</th>\n",
       "      <th>Do Not Email</th>\n",
       "      <th>Do Not Call</th>\n",
       "      <th>Converted</th>\n",
       "      <th>TotalVisits</th>\n",
       "      <th>Total Time Spent on Website</th>\n",
       "      <th>Page Views Per Visit</th>\n",
       "      <th>Last Activity</th>\n",
       "      <th>Country</th>\n",
       "      <th>Specialization</th>\n",
       "      <th>How did you hear about X Education</th>\n",
       "      <th>What is your current occupation</th>\n",
       "      <th>What matters most to you in choosing a course</th>\n",
       "      <th>Search</th>\n",
       "      <th>Magazine</th>\n",
       "      <th>Newspaper Article</th>\n",
       "      <th>X Education Forums</th>\n",
       "      <th>Newspaper</th>\n",
       "      <th>Digital Advertisement</th>\n",
       "      <th>Through Recommendations</th>\n",
       "      <th>Receive More Updates About Our Courses</th>\n",
       "      <th>Tags</th>\n",
       "      <th>Lead Quality</th>\n",
       "      <th>Update me on Supply Chain Content</th>\n",
       "      <th>Get updates on DM Content</th>\n",
       "      <th>Lead Profile</th>\n",
       "      <th>City</th>\n",
       "      <th>Asymmetrique Activity Index</th>\n",
       "      <th>Asymmetrique Profile Index</th>\n",
       "      <th>Asymmetrique Activity Score</th>\n",
       "      <th>Asymmetrique Profile Score</th>\n",
       "      <th>I agree to pay the amount through cheque</th>\n",
       "      <th>A free copy of Mastering The Interview</th>\n",
       "      <th>Last Notable Activity</th>\n",
       "    </tr>\n",
       "  </thead>\n",
       "  <tbody>\n",
       "    <tr>\n",
       "      <th>0</th>\n",
       "      <td>7927b2df-8bba-4d29-b9a2-b6e0beafe620</td>\n",
       "      <td>660737</td>\n",
       "      <td>API</td>\n",
       "      <td>Olark Chat</td>\n",
       "      <td>No</td>\n",
       "      <td>No</td>\n",
       "      <td>0</td>\n",
       "      <td>0.0</td>\n",
       "      <td>0</td>\n",
       "      <td>0.0</td>\n",
       "      <td>Page Visited on Website</td>\n",
       "      <td>NaN</td>\n",
       "      <td>Select</td>\n",
       "      <td>Select</td>\n",
       "      <td>Unemployed</td>\n",
       "      <td>Better Career Prospects</td>\n",
       "      <td>No</td>\n",
       "      <td>No</td>\n",
       "      <td>No</td>\n",
       "      <td>No</td>\n",
       "      <td>No</td>\n",
       "      <td>No</td>\n",
       "      <td>No</td>\n",
       "      <td>No</td>\n",
       "      <td>Interested in other courses</td>\n",
       "      <td>Low in Relevance</td>\n",
       "      <td>No</td>\n",
       "      <td>No</td>\n",
       "      <td>Select</td>\n",
       "      <td>Select</td>\n",
       "      <td>02.Medium</td>\n",
       "      <td>02.Medium</td>\n",
       "      <td>15.0</td>\n",
       "      <td>15.0</td>\n",
       "      <td>No</td>\n",
       "      <td>No</td>\n",
       "      <td>Modified</td>\n",
       "    </tr>\n",
       "    <tr>\n",
       "      <th>1</th>\n",
       "      <td>2a272436-5132-4136-86fa-dcc88c88f482</td>\n",
       "      <td>660728</td>\n",
       "      <td>API</td>\n",
       "      <td>Organic Search</td>\n",
       "      <td>No</td>\n",
       "      <td>No</td>\n",
       "      <td>0</td>\n",
       "      <td>5.0</td>\n",
       "      <td>674</td>\n",
       "      <td>2.5</td>\n",
       "      <td>Email Opened</td>\n",
       "      <td>India</td>\n",
       "      <td>Select</td>\n",
       "      <td>Select</td>\n",
       "      <td>Unemployed</td>\n",
       "      <td>Better Career Prospects</td>\n",
       "      <td>No</td>\n",
       "      <td>No</td>\n",
       "      <td>No</td>\n",
       "      <td>No</td>\n",
       "      <td>No</td>\n",
       "      <td>No</td>\n",
       "      <td>No</td>\n",
       "      <td>No</td>\n",
       "      <td>Ringing</td>\n",
       "      <td>NaN</td>\n",
       "      <td>No</td>\n",
       "      <td>No</td>\n",
       "      <td>Select</td>\n",
       "      <td>Select</td>\n",
       "      <td>02.Medium</td>\n",
       "      <td>02.Medium</td>\n",
       "      <td>15.0</td>\n",
       "      <td>15.0</td>\n",
       "      <td>No</td>\n",
       "      <td>No</td>\n",
       "      <td>Email Opened</td>\n",
       "    </tr>\n",
       "    <tr>\n",
       "      <th>2</th>\n",
       "      <td>8cc8c611-a219-4f35-ad23-fdfd2656bd8a</td>\n",
       "      <td>660727</td>\n",
       "      <td>Landing Page Submission</td>\n",
       "      <td>Direct Traffic</td>\n",
       "      <td>No</td>\n",
       "      <td>No</td>\n",
       "      <td>1</td>\n",
       "      <td>2.0</td>\n",
       "      <td>1532</td>\n",
       "      <td>2.0</td>\n",
       "      <td>Email Opened</td>\n",
       "      <td>India</td>\n",
       "      <td>Business Administration</td>\n",
       "      <td>Select</td>\n",
       "      <td>Student</td>\n",
       "      <td>Better Career Prospects</td>\n",
       "      <td>No</td>\n",
       "      <td>No</td>\n",
       "      <td>No</td>\n",
       "      <td>No</td>\n",
       "      <td>No</td>\n",
       "      <td>No</td>\n",
       "      <td>No</td>\n",
       "      <td>No</td>\n",
       "      <td>Will revert after reading the email</td>\n",
       "      <td>Might be</td>\n",
       "      <td>No</td>\n",
       "      <td>No</td>\n",
       "      <td>Potential Lead</td>\n",
       "      <td>Mumbai</td>\n",
       "      <td>02.Medium</td>\n",
       "      <td>01.High</td>\n",
       "      <td>14.0</td>\n",
       "      <td>20.0</td>\n",
       "      <td>No</td>\n",
       "      <td>Yes</td>\n",
       "      <td>Email Opened</td>\n",
       "    </tr>\n",
       "    <tr>\n",
       "      <th>3</th>\n",
       "      <td>0cc2df48-7cf4-4e39-9de9-19797f9b38cc</td>\n",
       "      <td>660719</td>\n",
       "      <td>Landing Page Submission</td>\n",
       "      <td>Direct Traffic</td>\n",
       "      <td>No</td>\n",
       "      <td>No</td>\n",
       "      <td>0</td>\n",
       "      <td>1.0</td>\n",
       "      <td>305</td>\n",
       "      <td>1.0</td>\n",
       "      <td>Unreachable</td>\n",
       "      <td>India</td>\n",
       "      <td>Media and Advertising</td>\n",
       "      <td>Word Of Mouth</td>\n",
       "      <td>Unemployed</td>\n",
       "      <td>Better Career Prospects</td>\n",
       "      <td>No</td>\n",
       "      <td>No</td>\n",
       "      <td>No</td>\n",
       "      <td>No</td>\n",
       "      <td>No</td>\n",
       "      <td>No</td>\n",
       "      <td>No</td>\n",
       "      <td>No</td>\n",
       "      <td>Ringing</td>\n",
       "      <td>Not Sure</td>\n",
       "      <td>No</td>\n",
       "      <td>No</td>\n",
       "      <td>Select</td>\n",
       "      <td>Mumbai</td>\n",
       "      <td>02.Medium</td>\n",
       "      <td>01.High</td>\n",
       "      <td>13.0</td>\n",
       "      <td>17.0</td>\n",
       "      <td>No</td>\n",
       "      <td>No</td>\n",
       "      <td>Modified</td>\n",
       "    </tr>\n",
       "    <tr>\n",
       "      <th>4</th>\n",
       "      <td>3256f628-e534-4826-9d63-4a8b88782852</td>\n",
       "      <td>660681</td>\n",
       "      <td>Landing Page Submission</td>\n",
       "      <td>Google</td>\n",
       "      <td>No</td>\n",
       "      <td>No</td>\n",
       "      <td>1</td>\n",
       "      <td>2.0</td>\n",
       "      <td>1428</td>\n",
       "      <td>1.0</td>\n",
       "      <td>Converted to Lead</td>\n",
       "      <td>India</td>\n",
       "      <td>Select</td>\n",
       "      <td>Other</td>\n",
       "      <td>Unemployed</td>\n",
       "      <td>Better Career Prospects</td>\n",
       "      <td>No</td>\n",
       "      <td>No</td>\n",
       "      <td>No</td>\n",
       "      <td>No</td>\n",
       "      <td>No</td>\n",
       "      <td>No</td>\n",
       "      <td>No</td>\n",
       "      <td>No</td>\n",
       "      <td>Will revert after reading the email</td>\n",
       "      <td>Might be</td>\n",
       "      <td>No</td>\n",
       "      <td>No</td>\n",
       "      <td>Select</td>\n",
       "      <td>Mumbai</td>\n",
       "      <td>02.Medium</td>\n",
       "      <td>01.High</td>\n",
       "      <td>15.0</td>\n",
       "      <td>18.0</td>\n",
       "      <td>No</td>\n",
       "      <td>No</td>\n",
       "      <td>Modified</td>\n",
       "    </tr>\n",
       "  </tbody>\n",
       "</table>\n",
       "</div>"
      ],
      "text/plain": [
       "                            Prospect ID  Lead Number              Lead Origin  \\\n",
       "0  7927b2df-8bba-4d29-b9a2-b6e0beafe620       660737                      API   \n",
       "1  2a272436-5132-4136-86fa-dcc88c88f482       660728                      API   \n",
       "2  8cc8c611-a219-4f35-ad23-fdfd2656bd8a       660727  Landing Page Submission   \n",
       "3  0cc2df48-7cf4-4e39-9de9-19797f9b38cc       660719  Landing Page Submission   \n",
       "4  3256f628-e534-4826-9d63-4a8b88782852       660681  Landing Page Submission   \n",
       "\n",
       "      Lead Source Do Not Email Do Not Call  Converted  TotalVisits  \\\n",
       "0      Olark Chat           No          No          0          0.0   \n",
       "1  Organic Search           No          No          0          5.0   \n",
       "2  Direct Traffic           No          No          1          2.0   \n",
       "3  Direct Traffic           No          No          0          1.0   \n",
       "4          Google           No          No          1          2.0   \n",
       "\n",
       "   Total Time Spent on Website  Page Views Per Visit            Last Activity  \\\n",
       "0                            0                   0.0  Page Visited on Website   \n",
       "1                          674                   2.5             Email Opened   \n",
       "2                         1532                   2.0             Email Opened   \n",
       "3                          305                   1.0              Unreachable   \n",
       "4                         1428                   1.0        Converted to Lead   \n",
       "\n",
       "  Country           Specialization How did you hear about X Education  \\\n",
       "0     NaN                   Select                             Select   \n",
       "1   India                   Select                             Select   \n",
       "2   India  Business Administration                             Select   \n",
       "3   India    Media and Advertising                      Word Of Mouth   \n",
       "4   India                   Select                              Other   \n",
       "\n",
       "  What is your current occupation  \\\n",
       "0                      Unemployed   \n",
       "1                      Unemployed   \n",
       "2                         Student   \n",
       "3                      Unemployed   \n",
       "4                      Unemployed   \n",
       "\n",
       "  What matters most to you in choosing a course Search Magazine  \\\n",
       "0                       Better Career Prospects     No       No   \n",
       "1                       Better Career Prospects     No       No   \n",
       "2                       Better Career Prospects     No       No   \n",
       "3                       Better Career Prospects     No       No   \n",
       "4                       Better Career Prospects     No       No   \n",
       "\n",
       "  Newspaper Article X Education Forums Newspaper Digital Advertisement  \\\n",
       "0                No                 No        No                    No   \n",
       "1                No                 No        No                    No   \n",
       "2                No                 No        No                    No   \n",
       "3                No                 No        No                    No   \n",
       "4                No                 No        No                    No   \n",
       "\n",
       "  Through Recommendations Receive More Updates About Our Courses  \\\n",
       "0                      No                                     No   \n",
       "1                      No                                     No   \n",
       "2                      No                                     No   \n",
       "3                      No                                     No   \n",
       "4                      No                                     No   \n",
       "\n",
       "                                  Tags      Lead Quality  \\\n",
       "0          Interested in other courses  Low in Relevance   \n",
       "1                              Ringing               NaN   \n",
       "2  Will revert after reading the email          Might be   \n",
       "3                              Ringing          Not Sure   \n",
       "4  Will revert after reading the email          Might be   \n",
       "\n",
       "  Update me on Supply Chain Content Get updates on DM Content    Lead Profile  \\\n",
       "0                                No                        No          Select   \n",
       "1                                No                        No          Select   \n",
       "2                                No                        No  Potential Lead   \n",
       "3                                No                        No          Select   \n",
       "4                                No                        No          Select   \n",
       "\n",
       "     City Asymmetrique Activity Index Asymmetrique Profile Index  \\\n",
       "0  Select                   02.Medium                  02.Medium   \n",
       "1  Select                   02.Medium                  02.Medium   \n",
       "2  Mumbai                   02.Medium                    01.High   \n",
       "3  Mumbai                   02.Medium                    01.High   \n",
       "4  Mumbai                   02.Medium                    01.High   \n",
       "\n",
       "   Asymmetrique Activity Score  Asymmetrique Profile Score  \\\n",
       "0                         15.0                        15.0   \n",
       "1                         15.0                        15.0   \n",
       "2                         14.0                        20.0   \n",
       "3                         13.0                        17.0   \n",
       "4                         15.0                        18.0   \n",
       "\n",
       "  I agree to pay the amount through cheque  \\\n",
       "0                                       No   \n",
       "1                                       No   \n",
       "2                                       No   \n",
       "3                                       No   \n",
       "4                                       No   \n",
       "\n",
       "  A free copy of Mastering The Interview Last Notable Activity  \n",
       "0                                     No              Modified  \n",
       "1                                     No          Email Opened  \n",
       "2                                    Yes          Email Opened  \n",
       "3                                     No              Modified  \n",
       "4                                     No              Modified  "
      ]
     },
     "execution_count": 721,
     "metadata": {},
     "output_type": "execute_result"
    }
   ],
   "source": [
    "# Importing Dataset \n",
    "df = pd.read_csv(\"Leads.csv\")\n",
    "df.head(5)"
   ]
  },
  {
   "cell_type": "code",
   "execution_count": 722,
   "id": "d453ff34",
   "metadata": {},
   "outputs": [
    {
     "name": "stdout",
     "output_type": "stream",
     "text": [
      "<class 'pandas.core.frame.DataFrame'>\n",
      "RangeIndex: 9240 entries, 0 to 9239\n",
      "Data columns (total 37 columns):\n",
      " #   Column                                         Non-Null Count  Dtype  \n",
      "---  ------                                         --------------  -----  \n",
      " 0   Prospect ID                                    9240 non-null   object \n",
      " 1   Lead Number                                    9240 non-null   int64  \n",
      " 2   Lead Origin                                    9240 non-null   object \n",
      " 3   Lead Source                                    9204 non-null   object \n",
      " 4   Do Not Email                                   9240 non-null   object \n",
      " 5   Do Not Call                                    9240 non-null   object \n",
      " 6   Converted                                      9240 non-null   int64  \n",
      " 7   TotalVisits                                    9103 non-null   float64\n",
      " 8   Total Time Spent on Website                    9240 non-null   int64  \n",
      " 9   Page Views Per Visit                           9103 non-null   float64\n",
      " 10  Last Activity                                  9137 non-null   object \n",
      " 11  Country                                        6779 non-null   object \n",
      " 12  Specialization                                 7802 non-null   object \n",
      " 13  How did you hear about X Education             7033 non-null   object \n",
      " 14  What is your current occupation                6550 non-null   object \n",
      " 15  What matters most to you in choosing a course  6531 non-null   object \n",
      " 16  Search                                         9240 non-null   object \n",
      " 17  Magazine                                       9240 non-null   object \n",
      " 18  Newspaper Article                              9240 non-null   object \n",
      " 19  X Education Forums                             9240 non-null   object \n",
      " 20  Newspaper                                      9240 non-null   object \n",
      " 21  Digital Advertisement                          9240 non-null   object \n",
      " 22  Through Recommendations                        9240 non-null   object \n",
      " 23  Receive More Updates About Our Courses         9240 non-null   object \n",
      " 24  Tags                                           5887 non-null   object \n",
      " 25  Lead Quality                                   4473 non-null   object \n",
      " 26  Update me on Supply Chain Content              9240 non-null   object \n",
      " 27  Get updates on DM Content                      9240 non-null   object \n",
      " 28  Lead Profile                                   6531 non-null   object \n",
      " 29  City                                           7820 non-null   object \n",
      " 30  Asymmetrique Activity Index                    5022 non-null   object \n",
      " 31  Asymmetrique Profile Index                     5022 non-null   object \n",
      " 32  Asymmetrique Activity Score                    5022 non-null   float64\n",
      " 33  Asymmetrique Profile Score                     5022 non-null   float64\n",
      " 34  I agree to pay the amount through cheque       9240 non-null   object \n",
      " 35  A free copy of Mastering The Interview         9240 non-null   object \n",
      " 36  Last Notable Activity                          9240 non-null   object \n",
      "dtypes: float64(4), int64(3), object(30)\n",
      "memory usage: 2.6+ MB\n"
     ]
    }
   ],
   "source": [
    "df.info()"
   ]
  },
  {
   "cell_type": "code",
   "execution_count": 723,
   "id": "8b633f06",
   "metadata": {},
   "outputs": [
    {
     "data": {
      "text/plain": [
       "(9240, 37)"
      ]
     },
     "execution_count": 723,
     "metadata": {},
     "output_type": "execute_result"
    }
   ],
   "source": [
    "# checking rows and columns in dataset\n",
    "df.shape"
   ]
  },
  {
   "cell_type": "markdown",
   "id": "dfef97ba",
   "metadata": {},
   "source": [
    "- There are 37 columns and 9240 rows in dataset."
   ]
  },
  {
   "cell_type": "code",
   "execution_count": 724,
   "id": "3dcc6a94",
   "metadata": {},
   "outputs": [
    {
     "data": {
      "text/html": [
       "<div>\n",
       "<style scoped>\n",
       "    .dataframe tbody tr th:only-of-type {\n",
       "        vertical-align: middle;\n",
       "    }\n",
       "\n",
       "    .dataframe tbody tr th {\n",
       "        vertical-align: top;\n",
       "    }\n",
       "\n",
       "    .dataframe thead th {\n",
       "        text-align: right;\n",
       "    }\n",
       "</style>\n",
       "<table border=\"1\" class=\"dataframe\">\n",
       "  <thead>\n",
       "    <tr style=\"text-align: right;\">\n",
       "      <th></th>\n",
       "      <th>Lead Number</th>\n",
       "      <th>Converted</th>\n",
       "      <th>TotalVisits</th>\n",
       "      <th>Total Time Spent on Website</th>\n",
       "      <th>Page Views Per Visit</th>\n",
       "      <th>Asymmetrique Activity Score</th>\n",
       "      <th>Asymmetrique Profile Score</th>\n",
       "    </tr>\n",
       "  </thead>\n",
       "  <tbody>\n",
       "    <tr>\n",
       "      <th>count</th>\n",
       "      <td>9240.000000</td>\n",
       "      <td>9240.000000</td>\n",
       "      <td>9103.000000</td>\n",
       "      <td>9240.000000</td>\n",
       "      <td>9103.000000</td>\n",
       "      <td>5022.000000</td>\n",
       "      <td>5022.000000</td>\n",
       "    </tr>\n",
       "    <tr>\n",
       "      <th>mean</th>\n",
       "      <td>617188.435606</td>\n",
       "      <td>0.385390</td>\n",
       "      <td>3.445238</td>\n",
       "      <td>487.698268</td>\n",
       "      <td>2.362820</td>\n",
       "      <td>14.306252</td>\n",
       "      <td>16.344883</td>\n",
       "    </tr>\n",
       "    <tr>\n",
       "      <th>std</th>\n",
       "      <td>23405.995698</td>\n",
       "      <td>0.486714</td>\n",
       "      <td>4.854853</td>\n",
       "      <td>548.021466</td>\n",
       "      <td>2.161418</td>\n",
       "      <td>1.386694</td>\n",
       "      <td>1.811395</td>\n",
       "    </tr>\n",
       "    <tr>\n",
       "      <th>min</th>\n",
       "      <td>579533.000000</td>\n",
       "      <td>0.000000</td>\n",
       "      <td>0.000000</td>\n",
       "      <td>0.000000</td>\n",
       "      <td>0.000000</td>\n",
       "      <td>7.000000</td>\n",
       "      <td>11.000000</td>\n",
       "    </tr>\n",
       "    <tr>\n",
       "      <th>25%</th>\n",
       "      <td>596484.500000</td>\n",
       "      <td>0.000000</td>\n",
       "      <td>1.000000</td>\n",
       "      <td>12.000000</td>\n",
       "      <td>1.000000</td>\n",
       "      <td>14.000000</td>\n",
       "      <td>15.000000</td>\n",
       "    </tr>\n",
       "    <tr>\n",
       "      <th>50%</th>\n",
       "      <td>615479.000000</td>\n",
       "      <td>0.000000</td>\n",
       "      <td>3.000000</td>\n",
       "      <td>248.000000</td>\n",
       "      <td>2.000000</td>\n",
       "      <td>14.000000</td>\n",
       "      <td>16.000000</td>\n",
       "    </tr>\n",
       "    <tr>\n",
       "      <th>75%</th>\n",
       "      <td>637387.250000</td>\n",
       "      <td>1.000000</td>\n",
       "      <td>5.000000</td>\n",
       "      <td>936.000000</td>\n",
       "      <td>3.000000</td>\n",
       "      <td>15.000000</td>\n",
       "      <td>18.000000</td>\n",
       "    </tr>\n",
       "    <tr>\n",
       "      <th>max</th>\n",
       "      <td>660737.000000</td>\n",
       "      <td>1.000000</td>\n",
       "      <td>251.000000</td>\n",
       "      <td>2272.000000</td>\n",
       "      <td>55.000000</td>\n",
       "      <td>18.000000</td>\n",
       "      <td>20.000000</td>\n",
       "    </tr>\n",
       "  </tbody>\n",
       "</table>\n",
       "</div>"
      ],
      "text/plain": [
       "         Lead Number    Converted  TotalVisits  Total Time Spent on Website  \\\n",
       "count    9240.000000  9240.000000  9103.000000                  9240.000000   \n",
       "mean   617188.435606     0.385390     3.445238                   487.698268   \n",
       "std     23405.995698     0.486714     4.854853                   548.021466   \n",
       "min    579533.000000     0.000000     0.000000                     0.000000   \n",
       "25%    596484.500000     0.000000     1.000000                    12.000000   \n",
       "50%    615479.000000     0.000000     3.000000                   248.000000   \n",
       "75%    637387.250000     1.000000     5.000000                   936.000000   \n",
       "max    660737.000000     1.000000   251.000000                  2272.000000   \n",
       "\n",
       "       Page Views Per Visit  Asymmetrique Activity Score  \\\n",
       "count           9103.000000                  5022.000000   \n",
       "mean               2.362820                    14.306252   \n",
       "std                2.161418                     1.386694   \n",
       "min                0.000000                     7.000000   \n",
       "25%                1.000000                    14.000000   \n",
       "50%                2.000000                    14.000000   \n",
       "75%                3.000000                    15.000000   \n",
       "max               55.000000                    18.000000   \n",
       "\n",
       "       Asymmetrique Profile Score  \n",
       "count                 5022.000000  \n",
       "mean                    16.344883  \n",
       "std                      1.811395  \n",
       "min                     11.000000  \n",
       "25%                     15.000000  \n",
       "50%                     16.000000  \n",
       "75%                     18.000000  \n",
       "max                     20.000000  "
      ]
     },
     "execution_count": 724,
     "metadata": {},
     "output_type": "execute_result"
    }
   ],
   "source": [
    "df.describe()"
   ]
  },
  {
   "cell_type": "markdown",
   "id": "ed6c8e4c",
   "metadata": {},
   "source": [
    "- The lead conversion rate that was seen above is 39%. With an average of 3.45 visits and a standard deviation of 4.85, the visit count is highly distributed. With a standard deviation of 548 seconds, the average time spent on the website is 488 seconds. With a standard deviation of 2.16, the average number of pages viewed per visit is 2.36. "
   ]
  },
  {
   "cell_type": "code",
   "execution_count": 725,
   "id": "6aa6c573",
   "metadata": {},
   "outputs": [
    {
     "data": {
      "text/plain": [
       "Lead Quality                                     4767\n",
       "Asymmetrique Activity Index                      4218\n",
       "Asymmetrique Profile Score                       4218\n",
       "Asymmetrique Activity Score                      4218\n",
       "Asymmetrique Profile Index                       4218\n",
       "Tags                                             3353\n",
       "Lead Profile                                     2709\n",
       "What matters most to you in choosing a course    2709\n",
       "What is your current occupation                  2690\n",
       "Country                                          2461\n",
       "How did you hear about X Education               2207\n",
       "Specialization                                   1438\n",
       "City                                             1420\n",
       "Page Views Per Visit                              137\n",
       "TotalVisits                                       137\n",
       "Last Activity                                     103\n",
       "Lead Source                                        36\n",
       "Receive More Updates About Our Courses              0\n",
       "I agree to pay the amount through cheque            0\n",
       "Get updates on DM Content                           0\n",
       "Update me on Supply Chain Content                   0\n",
       "A free copy of Mastering The Interview              0\n",
       "Prospect ID                                         0\n",
       "Newspaper Article                                   0\n",
       "Through Recommendations                             0\n",
       "Digital Advertisement                               0\n",
       "Newspaper                                           0\n",
       "X Education Forums                                  0\n",
       "Lead Number                                         0\n",
       "Magazine                                            0\n",
       "Search                                              0\n",
       "Total Time Spent on Website                         0\n",
       "Converted                                           0\n",
       "Do Not Call                                         0\n",
       "Do Not Email                                        0\n",
       "Lead Origin                                         0\n",
       "Last Notable Activity                               0\n",
       "dtype: int64"
      ]
     },
     "execution_count": 725,
     "metadata": {},
     "output_type": "execute_result"
    }
   ],
   "source": [
    "#Checking for the Null values\n",
    "df.isna().sum().sort_values(ascending=False)"
   ]
  },
  {
   "cell_type": "code",
   "execution_count": 726,
   "id": "2139255c",
   "metadata": {},
   "outputs": [
    {
     "data": {
      "text/plain": [
       "True"
      ]
     },
     "execution_count": 726,
     "metadata": {},
     "output_type": "execute_result"
    }
   ],
   "source": [
    "# Checking for duplicates in dataset\n",
    "df['Prospect ID'].duplicated().sum() == 0"
   ]
  },
  {
   "cell_type": "code",
   "execution_count": 727,
   "id": "718cd62b",
   "metadata": {},
   "outputs": [
    {
     "name": "stdout",
     "output_type": "stream",
     "text": [
      "Number of duplicate rows: 0\n"
     ]
    }
   ],
   "source": [
    "num_duplicates = df.duplicated().sum()\n",
    "print(f\"Number of duplicate rows: {num_duplicates}\")"
   ]
  },
  {
   "cell_type": "markdown",
   "id": "e9f829f9",
   "metadata": {},
   "source": [
    "### Data Cleaning "
   ]
  },
  {
   "cell_type": "code",
   "execution_count": 728,
   "id": "4fb8095c",
   "metadata": {},
   "outputs": [],
   "source": [
    "# As they each have a unique value, we can drop Lead Number and Prospect ID column.\n",
    "df.drop(['Prospect ID', 'Lead Number'], 1, inplace = True)"
   ]
  },
  {
   "cell_type": "markdown",
   "id": "b2824e93",
   "metadata": {},
   "source": [
    "- Several columns clearly have Select values in them. In this instance, Select is shown because the buyer made no selections from the list. Exactly as good as NULL are select values."
   ]
  },
  {
   "cell_type": "code",
   "execution_count": 729,
   "id": "d79a9da1",
   "metadata": {},
   "outputs": [],
   "source": [
    "# Converting Select Values into NaN\n",
    "\n",
    "df = df.replace('Select', np.nan)"
   ]
  },
  {
   "cell_type": "code",
   "execution_count": 730,
   "id": "e7fab3c7",
   "metadata": {},
   "outputs": [
    {
     "data": {
      "text/plain": [
       "Lead Origin                                         0\n",
       "Lead Source                                        36\n",
       "Do Not Email                                        0\n",
       "Do Not Call                                         0\n",
       "Converted                                           0\n",
       "TotalVisits                                       137\n",
       "Total Time Spent on Website                         0\n",
       "Page Views Per Visit                              137\n",
       "Last Activity                                     103\n",
       "Country                                          2461\n",
       "Specialization                                   3380\n",
       "How did you hear about X Education               7250\n",
       "What is your current occupation                  2690\n",
       "What matters most to you in choosing a course    2709\n",
       "Search                                              0\n",
       "Magazine                                            0\n",
       "Newspaper Article                                   0\n",
       "X Education Forums                                  0\n",
       "Newspaper                                           0\n",
       "Digital Advertisement                               0\n",
       "Through Recommendations                             0\n",
       "Receive More Updates About Our Courses              0\n",
       "Tags                                             3353\n",
       "Lead Quality                                     4767\n",
       "Update me on Supply Chain Content                   0\n",
       "Get updates on DM Content                           0\n",
       "Lead Profile                                     6855\n",
       "City                                             3669\n",
       "Asymmetrique Activity Index                      4218\n",
       "Asymmetrique Profile Index                       4218\n",
       "Asymmetrique Activity Score                      4218\n",
       "Asymmetrique Profile Score                       4218\n",
       "I agree to pay the amount through cheque            0\n",
       "A free copy of Mastering The Interview              0\n",
       "Last Notable Activity                               0\n",
       "dtype: int64"
      ]
     },
     "execution_count": 730,
     "metadata": {},
     "output_type": "execute_result"
    }
   ],
   "source": [
    "df.isnull().sum()"
   ]
  },
  {
   "cell_type": "code",
   "execution_count": 731,
   "id": "f90c6ae5",
   "metadata": {},
   "outputs": [
    {
     "data": {
      "text/plain": [
       "Lead Origin                                       0.000000\n",
       "Lead Source                                       0.389610\n",
       "Do Not Email                                      0.000000\n",
       "Do Not Call                                       0.000000\n",
       "Converted                                         0.000000\n",
       "TotalVisits                                       1.482684\n",
       "Total Time Spent on Website                       0.000000\n",
       "Page Views Per Visit                              1.482684\n",
       "Last Activity                                     1.114719\n",
       "Country                                          26.634199\n",
       "Specialization                                   36.580087\n",
       "How did you hear about X Education               78.463203\n",
       "What is your current occupation                  29.112554\n",
       "What matters most to you in choosing a course    29.318182\n",
       "Search                                            0.000000\n",
       "Magazine                                          0.000000\n",
       "Newspaper Article                                 0.000000\n",
       "X Education Forums                                0.000000\n",
       "Newspaper                                         0.000000\n",
       "Digital Advertisement                             0.000000\n",
       "Through Recommendations                           0.000000\n",
       "Receive More Updates About Our Courses            0.000000\n",
       "Tags                                             36.287879\n",
       "Lead Quality                                     51.590909\n",
       "Update me on Supply Chain Content                 0.000000\n",
       "Get updates on DM Content                         0.000000\n",
       "Lead Profile                                     74.188312\n",
       "City                                             39.707792\n",
       "Asymmetrique Activity Index                      45.649351\n",
       "Asymmetrique Profile Index                       45.649351\n",
       "Asymmetrique Activity Score                      45.649351\n",
       "Asymmetrique Profile Score                       45.649351\n",
       "I agree to pay the amount through cheque          0.000000\n",
       "A free copy of Mastering The Interview            0.000000\n",
       "Last Notable Activity                             0.000000\n",
       "dtype: float64"
      ]
     },
     "execution_count": 731,
     "metadata": {},
     "output_type": "execute_result"
    }
   ],
   "source": [
    "# Converting the null values into percentages\n",
    "df.isnull().mean()*100"
   ]
  },
  {
   "cell_type": "code",
   "execution_count": 732,
   "id": "de9c0964",
   "metadata": {},
   "outputs": [],
   "source": [
    "# Removing null values with percentages higher than 40%\n",
    "df = df.loc[:, (df.isnull().sum()/len(df)*100) < 40]"
   ]
  },
  {
   "cell_type": "code",
   "execution_count": 733,
   "id": "022b52d8",
   "metadata": {},
   "outputs": [
    {
     "data": {
      "text/plain": [
       "Lead Origin                                       0.0\n",
       "Lead Source                                       0.4\n",
       "Do Not Email                                      0.0\n",
       "Do Not Call                                       0.0\n",
       "Converted                                         0.0\n",
       "TotalVisits                                       1.5\n",
       "Total Time Spent on Website                       0.0\n",
       "Page Views Per Visit                              1.5\n",
       "Last Activity                                     1.1\n",
       "Country                                          26.6\n",
       "Specialization                                   36.6\n",
       "What is your current occupation                  29.1\n",
       "What matters most to you in choosing a course    29.3\n",
       "Search                                            0.0\n",
       "Magazine                                          0.0\n",
       "Newspaper Article                                 0.0\n",
       "X Education Forums                                0.0\n",
       "Newspaper                                         0.0\n",
       "Digital Advertisement                             0.0\n",
       "Through Recommendations                           0.0\n",
       "Receive More Updates About Our Courses            0.0\n",
       "Tags                                             36.3\n",
       "Update me on Supply Chain Content                 0.0\n",
       "Get updates on DM Content                         0.0\n",
       "City                                             39.7\n",
       "I agree to pay the amount through cheque          0.0\n",
       "A free copy of Mastering The Interview            0.0\n",
       "Last Notable Activity                             0.0\n",
       "dtype: float64"
      ]
     },
     "execution_count": 733,
     "metadata": {},
     "output_type": "execute_result"
    }
   ],
   "source": [
    "# Checking B\n",
    "round(df.isnull().mean()*100,1)"
   ]
  },
  {
   "cell_type": "code",
   "execution_count": 734,
   "id": "f4e96a07",
   "metadata": {},
   "outputs": [
    {
     "data": {
      "text/plain": [
       "India                   6492\n",
       "NaN                     2461\n",
       "United States             69\n",
       "United Arab Emirates      53\n",
       "Singapore                 24\n",
       "Saudi Arabia              21\n",
       "United Kingdom            15\n",
       "Australia                 13\n",
       "Qatar                     10\n",
       "Bahrain                    7\n",
       "Hong Kong                  7\n",
       "Oman                       6\n",
       "France                     6\n",
       "unknown                    5\n",
       "Kuwait                     4\n",
       "South Africa               4\n",
       "Canada                     4\n",
       "Nigeria                    4\n",
       "Germany                    4\n",
       "Sweden                     3\n",
       "Philippines                2\n",
       "Uganda                     2\n",
       "Italy                      2\n",
       "Bangladesh                 2\n",
       "Netherlands                2\n",
       "Asia/Pacific Region        2\n",
       "China                      2\n",
       "Belgium                    2\n",
       "Ghana                      2\n",
       "Kenya                      1\n",
       "Sri Lanka                  1\n",
       "Tanzania                   1\n",
       "Malaysia                   1\n",
       "Liberia                    1\n",
       "Switzerland                1\n",
       "Denmark                    1\n",
       "Russia                     1\n",
       "Vietnam                    1\n",
       "Indonesia                  1\n",
       "Name: Country, dtype: int64"
      ]
     },
     "execution_count": 734,
     "metadata": {},
     "output_type": "execute_result"
    }
   ],
   "source": [
    "# Checking the Outlies and handling Missing values\n",
    "df['Country'].value_counts(dropna=False)"
   ]
  },
  {
   "cell_type": "code",
   "execution_count": 735,
   "id": "ca1c8b87",
   "metadata": {},
   "outputs": [
    {
     "data": {
      "text/plain": [
       "Index(['Lead Origin', 'Lead Source', 'Do Not Email', 'Do Not Call',\n",
       "       'Converted', 'TotalVisits', 'Total Time Spent on Website',\n",
       "       'Page Views Per Visit', 'Last Activity', 'Country', 'Specialization',\n",
       "       'What is your current occupation',\n",
       "       'What matters most to you in choosing a course', 'Search', 'Magazine',\n",
       "       'Newspaper Article', 'X Education Forums', 'Newspaper',\n",
       "       'Digital Advertisement', 'Through Recommendations',\n",
       "       'Receive More Updates About Our Courses', 'Tags',\n",
       "       'Update me on Supply Chain Content', 'Get updates on DM Content',\n",
       "       'City', 'I agree to pay the amount through cheque',\n",
       "       'A free copy of Mastering The Interview', 'Last Notable Activity'],\n",
       "      dtype='object')"
      ]
     },
     "execution_count": 735,
     "metadata": {},
     "output_type": "execute_result"
    }
   ],
   "source": [
    "df.columns"
   ]
  },
  {
   "cell_type": "code",
   "execution_count": 736,
   "id": "dac64f65",
   "metadata": {},
   "outputs": [],
   "source": [
    "# EDA"
   ]
  },
  {
   "cell_type": "code",
   "execution_count": 737,
   "id": "1d847013",
   "metadata": {},
   "outputs": [],
   "source": [
    "def categorical_graph(c):\n",
    "    print(df[c].value_counts())\n",
    "    plt.figure(figsize=(15,7))\n",
    "    plt.subplot(121)\n",
    "    sns.countplot(x=df[c],ec='black',palette='gist_rainbow')\n",
    "    plt.xticks(rotation=60, ha='right',fontsize=12)\n",
    "    plt.title(f'Categorical chart of {c} Column',fontsize=15)\n",
    "    plt.xlabel(c, fontsize=16)\n",
    "    plt.ylabel('Count', fontsize=16)\n",
    "    plt.subplot(122)\n",
    "    sns.countplot(x=df[c], palette=[\"orange\", \"red\"], data=df, hue='Converted',ec='black')\n",
    "    plt.xticks(rotation=60, ha='right',fontsize=12)\n",
    "    plt.title(f'Categorical chart of {c} Column w.r.t Converted',fontsize=15)\n",
    "    plt.xlabel(c, fontsize=16)\n",
    "    plt.ylabel('Count', fontsize=16)\n",
    "    plt.legend(labels=['Not Converted', 'Converted'], loc='upper right')\n",
    "    plt.show()"
   ]
  },
  {
   "cell_type": "code",
   "execution_count": 738,
   "id": "134b3422",
   "metadata": {
    "scrolled": true
   },
   "outputs": [
    {
     "name": "stdout",
     "output_type": "stream",
     "text": [
      "Unemployed              5600\n",
      "Working Professional     706\n",
      "Student                  210\n",
      "Other                     16\n",
      "Housewife                 10\n",
      "Businessman                8\n",
      "Name: What is your current occupation, dtype: int64\n"
     ]
    },
    {
     "data": {
      "image/png": "[encoded data removed]",
      "text/plain": [
       "<Figure size 1080x504 with 2 Axes>"
      ]
     },
     "metadata": {
      "needs_background": "light"
     },
     "output_type": "display_data"
    },
    {
     "name": "stdout",
     "output_type": "stream",
     "text": [
      "Landing Page Submission    4886\n",
      "API                        3580\n",
      "Lead Add Form               718\n",
      "Lead Import                  55\n",
      "Quick Add Form                1\n",
      "Name: Lead Origin, dtype: int64\n"
     ]
    },
    {
     "data": {
      "image/png": "[encoded data removed]",
      "text/plain": [
       "<Figure size 1080x504 with 2 Axes>"
      ]
     },
     "metadata": {
      "needs_background": "light"
     },
     "output_type": "display_data"
    },
    {
     "name": "stdout",
     "output_type": "stream",
     "text": [
      "Google               2868\n",
      "Direct Traffic       2543\n",
      "Olark Chat           1755\n",
      "Organic Search       1154\n",
      "Reference             534\n",
      "Welingak Website      142\n",
      "Referral Sites        125\n",
      "Facebook               55\n",
      "bing                    6\n",
      "google                  5\n",
      "Click2call              4\n",
      "Press_Release           2\n",
      "Social Media            2\n",
      "Live Chat               2\n",
      "youtubechannel          1\n",
      "testone                 1\n",
      "Pay per Click Ads       1\n",
      "welearnblog_Home        1\n",
      "WeLearn                 1\n",
      "blog                    1\n",
      "NC_EDM                  1\n",
      "Name: Lead Source, dtype: int64\n"
     ]
    },
    {
     "data": {
      "image/png": "[encoded data removed]",
      "text/plain": [
       "<Figure size 1080x504 with 2 Axes>"
      ]
     },
     "metadata": {
      "needs_background": "light"
     },
     "output_type": "display_data"
    },
    {
     "name": "stdout",
     "output_type": "stream",
     "text": [
      "Finance Management                   976\n",
      "Human Resource Management            848\n",
      "Marketing Management                 838\n",
      "Operations Management                503\n",
      "Business Administration              403\n",
      "IT Projects Management               366\n",
      "Supply Chain Management              349\n",
      "Banking, Investment And Insurance    338\n",
      "Travel and Tourism                   203\n",
      "Media and Advertising                203\n",
      "International Business               178\n",
      "Healthcare Management                159\n",
      "Hospitality Management               114\n",
      "E-COMMERCE                           112\n",
      "Retail Management                    100\n",
      "Rural and Agribusiness                73\n",
      "E-Business                            57\n",
      "Services Excellence                   40\n",
      "Name: Specialization, dtype: int64\n"
     ]
    },
    {
     "data": {
      "image/png": "[encoded data removed]",
      "text/plain": [
       "<Figure size 1080x504 with 2 Axes>"
      ]
     },
     "metadata": {
      "needs_background": "light"
     },
     "output_type": "display_data"
    }
   ],
   "source": [
    "for col in ['What is your current occupation','Lead Origin','Lead Source','Specialization']:\n",
    "    categorical_graph(col)"
   ]
  },
  {
   "cell_type": "markdown",
   "id": "ff2341f9",
   "metadata": {},
   "source": [
    "- Lead add forms and landing page submissions account for the majority of conversions.\n",
    "- Websites like Google, organic search, direct traffic, and referrals are the top sources of leads.\n",
    "- The most popular category is \"other,\" which includes chosen departments like finance, marketing, and HR, where the majority of consumers are employed.\n",
    "- The majority of clients are jobless, with working professionals constituting the largest percentage of converted clients.\n",
    "- A higher percentage of clients say no than yes.\n"
   ]
  },
  {
   "cell_type": "code",
   "execution_count": 739,
   "id": "b8b4148f",
   "metadata": {},
   "outputs": [],
   "source": [
    "#creating a list of columns to be droppped\n",
    "\n",
    "cols_to_drop=['Country']"
   ]
  },
  {
   "cell_type": "code",
   "execution_count": 740,
   "id": "ab1a3c6a",
   "metadata": {},
   "outputs": [
    {
     "data": {
      "text/plain": [
       "NaN                            3669\n",
       "Mumbai                         3222\n",
       "Thane & Outskirts               752\n",
       "Other Cities                    686\n",
       "Other Cities of Maharashtra     457\n",
       "Other Metro Cities              380\n",
       "Tier II Cities                   74\n",
       "Name: City, dtype: int64"
      ]
     },
     "execution_count": 740,
     "metadata": {},
     "output_type": "execute_result"
    }
   ],
   "source": [
    "#checking value counts of \"City\" column\n",
    "\n",
    "df['City'].value_counts(dropna=False)"
   ]
  },
  {
   "cell_type": "code",
   "execution_count": 741,
   "id": "49adb504",
   "metadata": {},
   "outputs": [],
   "source": [
    "df['City'] = df['City'].replace(np.NaN,'Mumbai')"
   ]
  },
  {
   "cell_type": "code",
   "execution_count": 742,
   "id": "9b045d56",
   "metadata": {},
   "outputs": [
    {
     "data": {
      "text/plain": [
       "NaN                                  3380\n",
       "Finance Management                    976\n",
       "Human Resource Management             848\n",
       "Marketing Management                  838\n",
       "Operations Management                 503\n",
       "Business Administration               403\n",
       "IT Projects Management                366\n",
       "Supply Chain Management               349\n",
       "Banking, Investment And Insurance     338\n",
       "Travel and Tourism                    203\n",
       "Media and Advertising                 203\n",
       "International Business                178\n",
       "Healthcare Management                 159\n",
       "Hospitality Management                114\n",
       "E-COMMERCE                            112\n",
       "Retail Management                     100\n",
       "Rural and Agribusiness                 73\n",
       "E-Business                             57\n",
       "Services Excellence                    40\n",
       "Name: Specialization, dtype: int64"
      ]
     },
     "execution_count": 742,
     "metadata": {},
     "output_type": "execute_result"
    }
   ],
   "source": [
    "df['Specialization'].value_counts(dropna = False)"
   ]
  },
  {
   "cell_type": "markdown",
   "id": "3463b4b8",
   "metadata": {},
   "source": [
    "- Since specialization wasn't on the list or they are still students and don't yet have one, it's likely that the lead didn't mention it. Thus, in place of NaN values, we will write \"Not Specified\" here."
   ]
  },
  {
   "cell_type": "code",
   "execution_count": 743,
   "id": "046dd97d",
   "metadata": {},
   "outputs": [],
   "source": [
    "df['Specialization'] = df['Specialization'].replace(np.nan, 'Not Specified')"
   ]
  },
  {
   "cell_type": "code",
   "execution_count": 744,
   "id": "dc990b4f",
   "metadata": {},
   "outputs": [
    {
     "data": {
      "image/png": "[encoded data removed]",
      "text/plain": [
       "<Figure size 1080x360 with 1 Axes>"
      ]
     },
     "metadata": {
      "needs_background": "light"
     },
     "output_type": "display_data"
    }
   ],
   "source": [
    "# Plottiing the specialization column\n",
    "plt.figure(figsize=(15,5))\n",
    "s1=sns.countplot(df.Specialization, hue=df.Converted,ec='black')\n",
    "s1.set_xticklabels(s1.get_xticklabels(),rotation=90)\n",
    "plt.show()"
   ]
  },
  {
   "cell_type": "markdown",
   "id": "38306a02",
   "metadata": {},
   "source": [
    "- We observe that specialisations that include finance management have higher lead generation and conversion rates. So, it is clear that this factor is important and should not be ignored."
   ]
  },
  {
   "cell_type": "code",
   "execution_count": 745,
   "id": "fecd25c6",
   "metadata": {},
   "outputs": [],
   "source": [
    "df['Specialization'] = df['Specialization'].replace(['Finance Management', 'Human Resource Management',\n",
    "                                                           'Marketing Management', 'Operations Management',\n",
    "                                                           'IT Projects Management', 'Supply Chain Management',\n",
    "                                                           'Healthcare Management', 'Hospitality Management',\n",
    "                                                           'Retail Management'], 'Management_Specializations')"
   ]
  },
  {
   "cell_type": "code",
   "execution_count": 746,
   "id": "a5162bd5",
   "metadata": {},
   "outputs": [
    {
     "data": {
      "image/png": "[encoded data removed]",
      "text/plain": [
       "<Figure size 1080x360 with 1 Axes>"
      ]
     },
     "metadata": {
      "needs_background": "light"
     },
     "output_type": "display_data"
    }
   ],
   "source": [
    "#visualizing count of Variable based on Converted value\n",
    "\n",
    "plt.figure(figsize=(15,5))\n",
    "s1=sns.countplot(df.Specialization, hue=df.Converted,ec='black')\n",
    "s1.set_xticklabels(s1.get_xticklabels(),rotation=90)\n",
    "plt.show()"
   ]
  },
  {
   "cell_type": "code",
   "execution_count": 747,
   "id": "5a2f34c3",
   "metadata": {},
   "outputs": [
    {
     "name": "stdout",
     "output_type": "stream",
     "text": [
      "Unemployed              5600\n",
      "NaN                     2690\n",
      "Working Professional     706\n",
      "Student                  210\n",
      "Other                     16\n",
      "Housewife                 10\n",
      "Businessman                8\n",
      "Name: What is your current occupation, dtype: int64\n"
     ]
    }
   ],
   "source": [
    "#What is your current occupation\n",
    "\n",
    "Occupation_Counts = df['What is your current occupation'].value_counts(dropna=False)\n",
    "print(Occupation_Counts)"
   ]
  },
  {
   "cell_type": "code",
   "execution_count": 748,
   "id": "27c8c9c0",
   "metadata": {},
   "outputs": [],
   "source": [
    "# Filling Nan Values with with Mode Unemployed Value \n",
    "\n",
    "df['What is your current occupation'].fillna('Unemployed', inplace=True)"
   ]
  },
  {
   "cell_type": "code",
   "execution_count": 749,
   "id": "f46ef17c",
   "metadata": {},
   "outputs": [
    {
     "data": {
      "text/plain": [
       "Unemployed              8290\n",
       "Working Professional     706\n",
       "Student                  210\n",
       "Other                     16\n",
       "Housewife                 10\n",
       "Businessman                8\n",
       "Name: What is your current occupation, dtype: int64"
      ]
     },
     "execution_count": 749,
     "metadata": {},
     "output_type": "execute_result"
    }
   ],
   "source": [
    "# after replacing checking with total values\n",
    "df['What is your current occupation'].value_counts(dropna = False)"
   ]
  },
  {
   "cell_type": "code",
   "execution_count": 750,
   "id": "2cf90737",
   "metadata": {},
   "outputs": [
    {
     "data": {
      "image/png": "[encoded data removed]",
      "text/plain": [
       "<Figure size 432x288 with 1 Axes>"
      ]
     },
     "metadata": {
      "needs_background": "light"
     },
     "output_type": "display_data"
    }
   ],
   "source": [
    "# Visualizing the count of a variable based on its converted value.\n",
    "\n",
    "fig, ax = plt.subplots(figsize=(6,4))\n",
    "sns.countplot(x='What is your current occupation', hue='Converted', data=df, ax=ax,ec='black')\n",
    "plt.xticks(rotation=45)\n",
    "plt.show()"
   ]
  },
  {
   "cell_type": "markdown",
   "id": "40a3e445",
   "metadata": {},
   "source": [
    "- There is a strong chance that working professionals who are currently employed will sign up for the course. The most abundant leads are those that are unemployed in terms of sheer numbers."
   ]
  },
  {
   "cell_type": "code",
   "execution_count": 751,
   "id": "d6649c78",
   "metadata": {},
   "outputs": [
    {
     "data": {
      "text/plain": [
       "Better Career Prospects      6528\n",
       "NaN                          2709\n",
       "Flexibility & Convenience       2\n",
       "Other                           1\n",
       "Name: What matters most to you in choosing a course, dtype: int64"
      ]
     },
     "execution_count": 751,
     "metadata": {},
     "output_type": "execute_result"
    }
   ],
   "source": [
    "# Checking Value Counts\n",
    "df['What matters most to you in choosing a course'].value_counts(dropna = False)"
   ]
  },
  {
   "cell_type": "code",
   "execution_count": 752,
   "id": "2bd3ba8b",
   "metadata": {},
   "outputs": [],
   "source": [
    "# Replacing the Nan values with 'Better Career Prospects'\n",
    "\n",
    "df['What matters most to you in choosing a course'].fillna('Better Career Prospects', inplace=True)"
   ]
  },
  {
   "cell_type": "code",
   "execution_count": 753,
   "id": "681df159",
   "metadata": {},
   "outputs": [
    {
     "data": {
      "image/png": "[encoded data removed]",
      "text/plain": [
       "<Figure size 432x288 with 1 Axes>"
      ]
     },
     "metadata": {
      "needs_background": "light"
     },
     "output_type": "display_data"
    }
   ],
   "source": [
    "#visualizing count of Variable based on Converted value\n",
    "\n",
    "sns.countplot(df['What matters most to you in choosing a course'], hue=df.Converted,ec='black')\n",
    "plt.xticks(rotation=30)\n",
    "plt.show()"
   ]
  },
  {
   "cell_type": "code",
   "execution_count": 754,
   "id": "3f3d4495",
   "metadata": {},
   "outputs": [
    {
     "data": {
      "text/plain": [
       "Better Career Prospects      9237\n",
       "Flexibility & Convenience       2\n",
       "Other                           1\n",
       "Name: What matters most to you in choosing a course, dtype: int64"
      ]
     },
     "execution_count": 754,
     "metadata": {},
     "output_type": "execute_result"
    }
   ],
   "source": [
    "df['What matters most to you in choosing a course'].value_counts(dropna=False)"
   ]
  },
  {
   "cell_type": "code",
   "execution_count": 755,
   "id": "e2deda7b",
   "metadata": {},
   "outputs": [
    {
     "data": {
      "text/plain": [
       "['Country', 'What matters most to you in choosing a course']"
      ]
     },
     "execution_count": 755,
     "metadata": {},
     "output_type": "execute_result"
    }
   ],
   "source": [
    "cols_to_drop.append('What matters most to you in choosing a course')\n",
    "cols_to_drop"
   ]
  },
  {
   "cell_type": "code",
   "execution_count": 756,
   "id": "a69c9082",
   "metadata": {},
   "outputs": [
    {
     "data": {
      "text/plain": [
       "NaN                                                  3353\n",
       "Will revert after reading the email                  2072\n",
       "Ringing                                              1203\n",
       "Interested in other courses                           513\n",
       "Already a student                                     465\n",
       "Closed by Horizzon                                    358\n",
       "switched off                                          240\n",
       "Busy                                                  186\n",
       "Lost to EINS                                          175\n",
       "Not doing further education                           145\n",
       "Interested  in full time MBA                          117\n",
       "Graduation in progress                                111\n",
       "invalid number                                         83\n",
       "Diploma holder (Not Eligible)                          63\n",
       "wrong number given                                     47\n",
       "opp hangup                                             33\n",
       "number not provided                                    27\n",
       "in touch with EINS                                     12\n",
       "Lost to Others                                          7\n",
       "Still Thinking                                          6\n",
       "Want to take admission but has financial problems       6\n",
       "In confusion whether part time or DLP                   5\n",
       "Interested in Next batch                                5\n",
       "Lateral student                                         3\n",
       "Shall take in the next coming month                     2\n",
       "University not recognized                               2\n",
       "Recognition issue (DEC approval)                        1\n",
       "Name: Tags, dtype: int64"
      ]
     },
     "execution_count": 756,
     "metadata": {},
     "output_type": "execute_result"
    }
   ],
   "source": [
    "#checking value counts of Tag variable\n",
    "df['Tags'].value_counts(dropna=False)"
   ]
  },
  {
   "cell_type": "code",
   "execution_count": 757,
   "id": "c7e6cc43",
   "metadata": {},
   "outputs": [],
   "source": [
    "# Replacing Nan values with \"Not Specified\"\n",
    "df['Tags'].fillna('Not Specified', inplace=True)"
   ]
  },
  {
   "cell_type": "code",
   "execution_count": 758,
   "id": "5a6ca1ad",
   "metadata": {},
   "outputs": [
    {
     "data": {
      "image/png": "[encoded data removed]",
      "text/plain": [
       "<Figure size 1080x360 with 1 Axes>"
      ]
     },
     "metadata": {
      "needs_background": "light"
     },
     "output_type": "display_data"
    }
   ],
   "source": [
    "# Visualizing a variable's count based on its converted value\n",
    "\n",
    "plt.figure(figsize=(15,5))\n",
    "sns.countplot(df['Tags'], hue= df.Converted)\n",
    "plt.xticks(rotation=90)\n",
    "plt.show()"
   ]
  },
  {
   "cell_type": "code",
   "execution_count": 759,
   "id": "47d06ff0",
   "metadata": {},
   "outputs": [],
   "source": [
    "# Replacing low frequency tags with \"Other Tags\"\n",
    "df['Tags'] = df['Tags'].replace(['In confusion whether part time or DLP', 'in touch with EINS','Diploma holder (Not Eligible)',\n",
    "                                     'Approached upfront','Graduation in progress','number not provided', 'opp hangup','Still Thinking',\n",
    "                                    'Lost to Others','Shall take in the next coming month','Lateral student','Interested in Next batch',\n",
    "                                    'Recognition issue (DEC approval)','Want to take admission but has financial problems',\n",
    "                                    'University not recognized'], 'Other_Tags')\n",
    "\n",
    "df['Tags'] = df['Tags'].replace(['switched off',\n",
    "                                      'Already a student',\n",
    "                                       'Not doing further education',\n",
    "                                       'invalid number',\n",
    "                                       'wrong number given',\n",
    "                                       'Interested  in full time MBA'] , 'Other_Tags')"
   ]
  },
  {
   "cell_type": "code",
   "execution_count": 760,
   "id": "9b465e66",
   "metadata": {},
   "outputs": [
    {
     "data": {
      "text/plain": [
       "Lead Origin                                       0.0\n",
       "Lead Source                                       0.0\n",
       "Do Not Email                                      0.0\n",
       "Do Not Call                                       0.0\n",
       "Converted                                         0.0\n",
       "TotalVisits                                       1.0\n",
       "Total Time Spent on Website                       0.0\n",
       "Page Views Per Visit                              1.0\n",
       "Last Activity                                     1.0\n",
       "Country                                          27.0\n",
       "Specialization                                    0.0\n",
       "What is your current occupation                   0.0\n",
       "What matters most to you in choosing a course     0.0\n",
       "Search                                            0.0\n",
       "Magazine                                          0.0\n",
       "Newspaper Article                                 0.0\n",
       "X Education Forums                                0.0\n",
       "Newspaper                                         0.0\n",
       "Digital Advertisement                             0.0\n",
       "Through Recommendations                           0.0\n",
       "Receive More Updates About Our Courses            0.0\n",
       "Tags                                              0.0\n",
       "Update me on Supply Chain Content                 0.0\n",
       "Get updates on DM Content                         0.0\n",
       "City                                              0.0\n",
       "I agree to pay the amount through cheque          0.0\n",
       "A free copy of Mastering The Interview            0.0\n",
       "Last Notable Activity                             0.0\n",
       "dtype: float64"
      ]
     },
     "execution_count": 760,
     "metadata": {},
     "output_type": "execute_result"
    }
   ],
   "source": [
    "round(df.isnull().mean()*100)"
   ]
  },
  {
   "cell_type": "code",
   "execution_count": 761,
   "id": "47f6dbec",
   "metadata": {},
   "outputs": [
    {
     "data": {
      "text/plain": [
       "Google               2868\n",
       "Direct Traffic       2543\n",
       "Olark Chat           1755\n",
       "Organic Search       1154\n",
       "Reference             534\n",
       "Welingak Website      142\n",
       "Referral Sites        125\n",
       "Facebook               55\n",
       "NaN                    36\n",
       "bing                    6\n",
       "google                  5\n",
       "Click2call              4\n",
       "Press_Release           2\n",
       "Social Media            2\n",
       "Live Chat               2\n",
       "youtubechannel          1\n",
       "testone                 1\n",
       "Pay per Click Ads       1\n",
       "welearnblog_Home        1\n",
       "WeLearn                 1\n",
       "blog                    1\n",
       "NC_EDM                  1\n",
       "Name: Lead Source, dtype: int64"
      ]
     },
     "execution_count": 761,
     "metadata": {},
     "output_type": "execute_result"
    }
   ],
   "source": [
    "df['Lead Source'].value_counts(dropna=False).sort_values(ascending=False)"
   ]
  },
  {
   "cell_type": "code",
   "execution_count": 762,
   "id": "d12a1e4c",
   "metadata": {},
   "outputs": [],
   "source": [
    "df.loc[df['Lead Source'].isna(), 'Lead Source'] = 'Others'\n",
    "df.loc[df['Lead Source'] == 'google', 'Lead Source'] = 'Google'\n",
    "df.loc[df['Lead Source'] == 'Facebook', 'Lead Source'] = 'Social Media'\n",
    "df.loc[df['Lead Source'].isin(['bing', 'Click2call', 'Press_Release','youtubechannel', 'welearnblog_Home','WeLearn', 'blog', 'Pay per Click Ads','testone', 'NC_EDM']), 'Lead Source'] = 'Others'\n",
    "\n",
    "\n",
    "df['Last Activity'] = df['Last Activity'].replace(np.nan,'Others')\n",
    "df['Last Activity'] = df['Last Activity'].replace(['Unreachable','Unsubscribed','Had a Phone Conversation', 'Approached upfront','View in browser link Clicked','Email Marked Spam','Email Received','Resubscribed to emails','Visited Booth in Tradeshow'],'Others')"
   ]
  },
  {
   "cell_type": "code",
   "execution_count": 763,
   "id": "2c477671",
   "metadata": {},
   "outputs": [
    {
     "data": {
      "text/plain": [
       "Email Opened                 3437\n",
       "SMS Sent                     2745\n",
       "Olark Chat Conversation       973\n",
       "Page Visited on Website       640\n",
       "Converted to Lead             428\n",
       "Email Bounced                 326\n",
       "Others                        308\n",
       "Email Link Clicked            267\n",
       "Form Submitted on Website     116\n",
       "Name: Last Activity, dtype: int64"
      ]
     },
     "execution_count": 763,
     "metadata": {},
     "output_type": "execute_result"
    }
   ],
   "source": [
    "# Last Activity Column\n",
    "\n",
    "df['Last Activity'].value_counts(dropna=False)"
   ]
  },
  {
   "cell_type": "code",
   "execution_count": 764,
   "id": "91ad3dfe",
   "metadata": {},
   "outputs": [
    {
     "data": {
      "text/plain": [
       "Lead Origin                                       0.00\n",
       "Lead Source                                       0.00\n",
       "Do Not Email                                      0.00\n",
       "Do Not Call                                       0.00\n",
       "Converted                                         0.00\n",
       "TotalVisits                                       1.48\n",
       "Total Time Spent on Website                       0.00\n",
       "Page Views Per Visit                              1.48\n",
       "Last Activity                                     0.00\n",
       "Country                                          26.63\n",
       "Specialization                                    0.00\n",
       "What is your current occupation                   0.00\n",
       "What matters most to you in choosing a course     0.00\n",
       "Search                                            0.00\n",
       "Magazine                                          0.00\n",
       "Newspaper Article                                 0.00\n",
       "X Education Forums                                0.00\n",
       "Newspaper                                         0.00\n",
       "Digital Advertisement                             0.00\n",
       "Through Recommendations                           0.00\n",
       "Receive More Updates About Our Courses            0.00\n",
       "Tags                                              0.00\n",
       "Update me on Supply Chain Content                 0.00\n",
       "Get updates on DM Content                         0.00\n",
       "City                                              0.00\n",
       "I agree to pay the amount through cheque          0.00\n",
       "A free copy of Mastering The Interview            0.00\n",
       "Last Notable Activity                             0.00\n",
       "dtype: float64"
      ]
     },
     "execution_count": 764,
     "metadata": {},
     "output_type": "execute_result"
    }
   ],
   "source": [
    "# Checking the NUll values in all columns\n",
    "\n",
    "round(df.isnull().mean() * 100, 2)"
   ]
  },
  {
   "cell_type": "code",
   "execution_count": 765,
   "id": "11932681",
   "metadata": {},
   "outputs": [],
   "source": [
    "# Remove every row with Nan values. \n",
    "df = df.dropna()"
   ]
  },
  {
   "cell_type": "code",
   "execution_count": 766,
   "id": "a3b7e493",
   "metadata": {},
   "outputs": [
    {
     "data": {
      "text/plain": [
       "Lead Origin                                      0.0\n",
       "Lead Source                                      0.0\n",
       "Do Not Email                                     0.0\n",
       "Do Not Call                                      0.0\n",
       "Converted                                        0.0\n",
       "TotalVisits                                      0.0\n",
       "Total Time Spent on Website                      0.0\n",
       "Page Views Per Visit                             0.0\n",
       "Last Activity                                    0.0\n",
       "Country                                          0.0\n",
       "Specialization                                   0.0\n",
       "What is your current occupation                  0.0\n",
       "What matters most to you in choosing a course    0.0\n",
       "Search                                           0.0\n",
       "Magazine                                         0.0\n",
       "Newspaper Article                                0.0\n",
       "X Education Forums                               0.0\n",
       "Newspaper                                        0.0\n",
       "Digital Advertisement                            0.0\n",
       "Through Recommendations                          0.0\n",
       "Receive More Updates About Our Courses           0.0\n",
       "Tags                                             0.0\n",
       "Update me on Supply Chain Content                0.0\n",
       "Get updates on DM Content                        0.0\n",
       "City                                             0.0\n",
       "I agree to pay the amount through cheque         0.0\n",
       "A free copy of Mastering The Interview           0.0\n",
       "Last Notable Activity                            0.0\n",
       "dtype: float64"
      ]
     },
     "execution_count": 766,
     "metadata": {},
     "output_type": "execute_result"
    }
   ],
   "source": [
    "# Checking the final Null values Percentage\n",
    "round(df.isnull().mean() * 100, 2)"
   ]
  },
  {
   "cell_type": "code",
   "execution_count": 767,
   "id": "69653bf3",
   "metadata": {},
   "outputs": [
    {
     "data": {
      "text/plain": [
       "Landing Page Submission    4850\n",
       "API                        1902\n",
       "Lead Add Form                27\n",
       "Name: Lead Origin, dtype: int64"
      ]
     },
     "execution_count": 767,
     "metadata": {},
     "output_type": "execute_result"
    }
   ],
   "source": [
    "df['Lead Origin'].value_counts()"
   ]
  },
  {
   "cell_type": "markdown",
   "id": "8f06b931",
   "metadata": {},
   "source": [
    "- Lead generation and conversion are increased by using the Inference API and landing page submission.\n",
    "- Although the lead count is not very big, the lead add form has a very high conversion rate.\n",
    "- Few leads are generated by Quick Add Form and Lead Import.\n",
    "- We need to increase lead generation from the lead add form and increase lead conversion from API and landing page submission sources in order to increase overall lead conversion rate."
   ]
  },
  {
   "cell_type": "code",
   "execution_count": 768,
   "id": "431f8592",
   "metadata": {},
   "outputs": [
    {
     "data": {
      "image/png": "[encoded data removed]",
      "text/plain": [
       "<Figure size 1080x360 with 2 Axes>"
      ]
     },
     "metadata": {
      "needs_background": "light"
     },
     "output_type": "display_data"
    }
   ],
   "source": [
    "# Do Not Email & Do Not Call column analysis\n",
    "#visualizing count of Variable based on Converted value\n",
    "\n",
    "plt.figure(figsize=(15,5))\n",
    "\n",
    "plt.subplot(1, 2, 1)\n",
    "sns.countplot(df['Do Not Call'], hue=df.Converted,ec='black')\n",
    "plt.xticks(rotation=90)\n",
    "\n",
    "plt.subplot(1, 2, 2)\n",
    "sns.countplot(df['Do Not Email'], hue=df.Converted,ec='black')\n",
    "plt.xticks(rotation=90)\n",
    "plt.show()"
   ]
  },
  {
   "cell_type": "code",
   "execution_count": 769,
   "id": "5a3a8c1b",
   "metadata": {},
   "outputs": [
    {
     "data": {
      "text/plain": [
       "No     6778\n",
       "Yes       1\n",
       "Name: Do Not Call, dtype: int64"
      ]
     },
     "execution_count": 769,
     "metadata": {},
     "output_type": "execute_result"
    }
   ],
   "source": [
    "# Checking the Values count in Do Not Call columns \n",
    "df['Do Not Call'].value_counts()"
   ]
  },
  {
   "cell_type": "code",
   "execution_count": 770,
   "id": "87a73b9d",
   "metadata": {},
   "outputs": [
    {
     "data": {
      "text/plain": [
       "No     6186\n",
       "Yes     593\n",
       "Name: Do Not Email, dtype: int64"
      ]
     },
     "execution_count": 770,
     "metadata": {},
     "output_type": "execute_result"
    }
   ],
   "source": [
    "# Checking the values counts in 'Do Not Email'\n",
    "df['Do Not Email'].value_counts()"
   ]
  },
  {
   "cell_type": "markdown",
   "id": "fffcc5de",
   "metadata": {},
   "source": [
    "- Its seems to be more than 90% of the columns have only one value, we can add the Do Not Call Column to the list of columns to be dropped."
   ]
  },
  {
   "cell_type": "code",
   "execution_count": 771,
   "id": "7efd3f6e",
   "metadata": {},
   "outputs": [
    {
     "data": {
      "text/plain": [
       "['Country', 'What matters most to you in choosing a course', 'Do Not Call']"
      ]
     },
     "execution_count": 771,
     "metadata": {},
     "output_type": "execute_result"
    }
   ],
   "source": [
    "cols_to_drop.append('Do Not Call')\n",
    "cols_to_drop"
   ]
  },
  {
   "cell_type": "code",
   "execution_count": 772,
   "id": "54f8aaea",
   "metadata": {},
   "outputs": [
    {
     "name": "stdout",
     "output_type": "stream",
     "text": [
      "No     6765\n",
      "Yes      14\n",
      "Name: Search, dtype: int64\n",
      "No    6779\n",
      "Name: Magazine, dtype: int64\n",
      "No     6777\n",
      "Yes       2\n",
      "Name: Newspaper Article, dtype: int64\n",
      "No     6778\n",
      "Yes       1\n",
      "Name: X Education Forums, dtype: int64\n",
      "No     6778\n",
      "Yes       1\n",
      "Name: Newspaper, dtype: int64\n",
      "No     6775\n",
      "Yes       4\n",
      "Name: Digital Advertisement, dtype: int64\n",
      "No     6772\n",
      "Yes       7\n",
      "Name: Through Recommendations, dtype: int64\n",
      "No    6779\n",
      "Name: Receive More Updates About Our Courses, dtype: int64\n",
      "No    6779\n",
      "Name: Update me on Supply Chain Content, dtype: int64\n",
      "No    6779\n",
      "Name: Get updates on DM Content, dtype: int64\n",
      "No    6779\n",
      "Name: I agree to pay the amount through cheque, dtype: int64\n",
      "No     3913\n",
      "Yes    2866\n",
      "Name: A free copy of Mastering The Interview, dtype: int64\n",
      "Modified                        2331\n",
      "Email Opened                    2212\n",
      "SMS Sent                        1643\n",
      "Page Visited on Website          286\n",
      "Email Link Clicked               106\n",
      "Olark Chat Conversation           68\n",
      "Email Bounced                     48\n",
      "Unsubscribed                      40\n",
      "Unreachable                       26\n",
      "Had a Phone Conversation          14\n",
      "Approached upfront                 1\n",
      "View in browser link Clicked       1\n",
      "Form Submitted on Website          1\n",
      "Email Received                     1\n",
      "Email Marked Spam                  1\n",
      "Name: Last Notable Activity, dtype: int64\n"
     ]
    }
   ],
   "source": [
    "# Dropable imbalanced columns\n",
    "\n",
    "print(df.Search.value_counts())\n",
    "print(df.Magazine.value_counts())\n",
    "print(df['Newspaper Article'].value_counts())\n",
    "print(df['X Education Forums'].value_counts())\n",
    "print(df['Newspaper'].value_counts())\n",
    "print(df['Digital Advertisement'].value_counts())\n",
    "print(df['Through Recommendations'].value_counts())\n",
    "print(df['Receive More Updates About Our Courses'].value_counts())\n",
    "print(df['Update me on Supply Chain Content'].value_counts())\n",
    "print(df['Get updates on DM Content'].value_counts())\n",
    "print(df['I agree to pay the amount through cheque'].value_counts())\n",
    "print(df['A free copy of Mastering The Interview'].value_counts())\n",
    "print(df['Last Notable Activity'].value_counts())"
   ]
  },
  {
   "cell_type": "code",
   "execution_count": 773,
   "id": "64f48431",
   "metadata": {},
   "outputs": [],
   "source": [
    "#Adding imbalanced columns to the list of columns to be dropped\n",
    "cols_to_drop.extend(['Search','Magazine','Newspaper Article','X Education Forums','Newspaper',\n",
    "                 'Digital Advertisement','Through Recommendations','Receive More Updates About Our Courses',\n",
    "                 'Update me on Supply Chain Content',\n",
    "                 'Get updates on DM Content','I agree to pay the amount through cheque'])"
   ]
  },
  {
   "cell_type": "code",
   "execution_count": 774,
   "id": "28d367ef",
   "metadata": {},
   "outputs": [],
   "source": [
    "lower_freq_activities = ['Had a Phone Conversation','Email Marked Spam', 'Unreachable', 'Unsubscribed', 'Email Bounced','Resubscribed to emails',\n",
    "                          'View in browser link Clicked','Approached upfront', 'Form Submitted on Website', 'Email Received']\n",
    "\n",
    "df['Last Notable Activity'] = df['Last Notable Activity'].map(lambda x: 'Other_Notable_activity' if x in lower_freq_activities else x)\n"
   ]
  },
  {
   "cell_type": "code",
   "execution_count": 775,
   "id": "5aff8e6f",
   "metadata": {},
   "outputs": [
    {
     "data": {
      "image/png": "[encoded data removed]",
      "text/plain": [
       "<Figure size 1080x504 with 2 Axes>"
      ]
     },
     "metadata": {
      "needs_background": "light"
     },
     "output_type": "display_data"
    }
   ],
   "source": [
    "plt.figure(figsize=(15,7))\n",
    "plt.subplot(121)\n",
    "\n",
    "sns.countplot(x = \"Last Notable Activity\", hue = \"Converted\", data = df)\n",
    "plt.xticks(rotation=90)\n",
    "\n",
    "\n",
    "#visualizing count of Variable based on Converted value\n",
    "plt.subplot(122)\n",
    "sns.countplot(x = \"Last Notable Activity\", data = df)\n",
    "plt.xticks(rotation=90)\n",
    "plt.show()"
   ]
  },
  {
   "cell_type": "code",
   "execution_count": 776,
   "id": "8e14bee2",
   "metadata": {},
   "outputs": [
    {
     "name": "stdout",
     "output_type": "stream",
     "text": [
      "<class 'pandas.core.frame.DataFrame'>\n",
      "Int64Index: 6779 entries, 1 to 9239\n",
      "Data columns (total 14 columns):\n",
      " #   Column                                  Non-Null Count  Dtype  \n",
      "---  ------                                  --------------  -----  \n",
      " 0   Lead Origin                             6779 non-null   object \n",
      " 1   Lead Source                             6779 non-null   object \n",
      " 2   Do Not Email                            6779 non-null   object \n",
      " 3   Converted                               6779 non-null   int64  \n",
      " 4   TotalVisits                             6779 non-null   float64\n",
      " 5   Total Time Spent on Website             6779 non-null   int64  \n",
      " 6   Page Views Per Visit                    6779 non-null   float64\n",
      " 7   Last Activity                           6779 non-null   object \n",
      " 8   Specialization                          6779 non-null   object \n",
      " 9   What is your current occupation         6779 non-null   object \n",
      " 10  Tags                                    6779 non-null   object \n",
      " 11  City                                    6779 non-null   object \n",
      " 12  A free copy of Mastering The Interview  6779 non-null   object \n",
      " 13  Last Notable Activity                   6779 non-null   object \n",
      "dtypes: float64(2), int64(2), object(10)\n",
      "memory usage: 794.4+ KB\n"
     ]
    }
   ],
   "source": [
    "#dropping columns\n",
    "df = df.drop(cols_to_drop,1)\n",
    "df.info()"
   ]
  },
  {
   "cell_type": "markdown",
   "id": "1d4a7694",
   "metadata": {},
   "source": [
    "### Numerical columns to be Analysis"
   ]
  },
  {
   "cell_type": "code",
   "execution_count": 777,
   "id": "5c1742f0",
   "metadata": {},
   "outputs": [
    {
     "data": {
      "text/plain": [
       "37"
      ]
     },
     "execution_count": 777,
     "metadata": {},
     "output_type": "execute_result"
    }
   ],
   "source": [
    "#Verifying the percentage of data that has converted values equal to 1:\n",
    "\n",
    "Converted = round(np.mean(df['Converted']) * 100)\n",
    "Converted"
   ]
  },
  {
   "cell_type": "code",
   "execution_count": 778,
   "id": "cf91f4a7",
   "metadata": {},
   "outputs": [
    {
     "data": {
      "image/png": "[encoded data removed]",
      "text/plain": [
       "<Figure size 1008x576 with 2 Axes>"
      ]
     },
     "metadata": {
      "needs_background": "light"
     },
     "output_type": "display_data"
    }
   ],
   "source": [
    "# Checking correlations of numeric variables\n",
    "fig, ax = plt.subplots(figsize=(14, 8))\n",
    "# Create heatmap\n",
    "heatmap = sns.heatmap(df.corr(), annot=True, ax=ax)\n",
    "# Set axis labels and title\n",
    "ax.set_title(\"Correlation between numeric features\")\n",
    "ax.set_xlabel(\"Features\")\n",
    "ax.set_ylabel(\"Features\")\n",
    "plt.show()"
   ]
  },
  {
   "cell_type": "code",
   "execution_count": 779,
   "id": "c36c255b",
   "metadata": {},
   "outputs": [
    {
     "name": "stdout",
     "output_type": "stream",
     "text": [
      "count    6779.000000\n",
      "mean        4.553917\n",
      "std         5.138148\n",
      "min         0.000000\n",
      "5%          1.000000\n",
      "25%         2.000000\n",
      "50%         4.000000\n",
      "75%         5.000000\n",
      "90%         8.000000\n",
      "95%        11.000000\n",
      "99%        18.220000\n",
      "max       251.000000\n",
      "Name: TotalVisits, dtype: float64\n"
     ]
    },
    {
     "data": {
      "image/png": "[encoded data removed]",
      "text/plain": [
       "<Figure size 432x288 with 1 Axes>"
      ]
     },
     "metadata": {
      "needs_background": "light"
     },
     "output_type": "display_data"
    }
   ],
   "source": [
    "# Eliminate the top and bottom 1% of the column's outlier values.\n",
    "print(df['TotalVisits'].describe(percentiles=[0.05,.25, .5, .75, .90, .95, .99]))\n",
    "Q3 = df.TotalVisits.quantile(0.99)\n",
    "df = df[(df.TotalVisits <= Q3)]\n",
    "Q1 = df.TotalVisits.quantile(0.01)\n",
    "df = df[(df.TotalVisits >= Q1)]\n",
    "sns.boxplot(y=df['TotalVisits'])\n",
    "plt.show()"
   ]
  },
  {
   "cell_type": "code",
   "execution_count": 780,
   "id": "35abe7c9",
   "metadata": {},
   "outputs": [
    {
     "name": "stdout",
     "output_type": "stream",
     "text": [
      "count    6706.000000\n",
      "mean      631.736206\n",
      "std       541.763382\n",
      "min         0.000000\n",
      "5%         33.000000\n",
      "25%       171.000000\n",
      "50%       397.000000\n",
      "75%      1104.000000\n",
      "90%      1451.500000\n",
      "95%      1606.000000\n",
      "99%      1862.950000\n",
      "max      2272.000000\n",
      "Name: Total Time Spent on Website, dtype: float64\n"
     ]
    },
    {
     "data": {
      "image/png": "[encoded data removed]",
      "text/plain": [
       "<Figure size 432x288 with 1 Axes>"
      ]
     },
     "metadata": {
      "needs_background": "light"
     },
     "output_type": "display_data"
    }
   ],
   "source": [
    "# checking percentiles for \"Total Time Spent on Website\" column\n",
    "\n",
    "print(df['Total Time Spent on Website'].describe(percentiles=[0.05,.25, .5, .75, .90, .95, .99]))\n",
    "fig, ax = plt.subplots(figsize=(6,4))\n",
    "ax.boxplot(df['Total Time Spent on Website'], vert=True)\n",
    "ax.set_ylabel('Total Time Spent on Website')\n",
    "plt.show()"
   ]
  },
  {
   "cell_type": "markdown",
   "id": "7de11dbf",
   "metadata": {},
   "source": [
    "-  There are no major Outliers"
   ]
  },
  {
   "cell_type": "code",
   "execution_count": 781,
   "id": "859056e9",
   "metadata": {},
   "outputs": [
    {
     "name": "stdout",
     "output_type": "stream",
     "text": [
      "count    6706.000000\n",
      "mean        3.104545\n",
      "std         1.817244\n",
      "min         1.000000\n",
      "25%         2.000000\n",
      "50%         3.000000\n",
      "75%         4.000000\n",
      "max        16.000000\n",
      "Name: Page Views Per Visit, dtype: float64\n"
     ]
    },
    {
     "data": {
      "image/png": "[encoded data removed]",
      "text/plain": [
       "<Figure size 432x288 with 1 Axes>"
      ]
     },
     "metadata": {
      "needs_background": "light"
     },
     "output_type": "display_data"
    }
   ],
   "source": [
    "#visualizing spread of numeric variable\n",
    "print(df['Page Views Per Visit'].describe())\n",
    "plt.figure(figsize=(6,4))\n",
    "sns.boxplot(y=df['Page Views Per Visit'])\n",
    "plt.show()"
   ]
  },
  {
   "cell_type": "code",
   "execution_count": 782,
   "id": "6097b878",
   "metadata": {},
   "outputs": [
    {
     "data": {
      "image/png": "[encoded data removed]",
      "text/plain": [
       "<Figure size 432x288 with 1 Axes>"
      ]
     },
     "metadata": {
      "needs_background": "light"
     },
     "output_type": "display_data"
    }
   ],
   "source": [
    "#comparing the Spread of the Converted Variable to the Total Visits\n",
    "sns.boxplot(y = 'TotalVisits', x = 'Converted', data = df)\n",
    "plt.show()"
   ]
  },
  {
   "cell_type": "markdown",
   "id": "eb9f8d3c",
   "metadata": {},
   "source": [
    "- The median quantity of website visits for leads that resulted in a conversion and those that did not exhibit comparable numbers. But it's unclear if counting the total number of website views alone can accurately forecast lead conversion."
   ]
  },
  {
   "cell_type": "code",
   "execution_count": 783,
   "id": "e8c9d742",
   "metadata": {},
   "outputs": [
    {
     "data": {
      "image/png": "[encoded data removed]",
      "text/plain": [
       "<Figure size 432x288 with 1 Axes>"
      ]
     },
     "metadata": {
      "needs_background": "light"
     },
     "output_type": "display_data"
    }
   ],
   "source": [
    "sns.boxplot(x= df.Converted, y=df['Total Time Spent on Website'])\n",
    "plt.show()"
   ]
  },
  {
   "cell_type": "markdown",
   "id": "2bc64d72",
   "metadata": {},
   "source": [
    "### Creating Dummy variable for Categorical columns"
   ]
  },
  {
   "cell_type": "code",
   "execution_count": 784,
   "id": "a686ff96",
   "metadata": {},
   "outputs": [],
   "source": [
    "Categorical_columns = [col for col in df.columns if df[col].dtype == 'object']"
   ]
  },
  {
   "cell_type": "code",
   "execution_count": 785,
   "id": "ba378e44",
   "metadata": {
    "scrolled": true
   },
   "outputs": [],
   "source": [
    "# List of variables to map\n",
    "varlist =  ['A free copy of Mastering The Interview', 'Do Not Email']\n",
    "\n",
    "# Mapping function\n",
    "binary_map = lambda x: x.map({'Yes': 1, 'No': 0})\n",
    "\n",
    "# Applying the function to the leads DataFrame\n",
    "df[varlist] = df[varlist].apply(binary_map)\n"
   ]
  },
  {
   "cell_type": "code",
   "execution_count": 786,
   "id": "71274b6e",
   "metadata": {},
   "outputs": [],
   "source": [
    "dummy_df = pd.get_dummies(df[['Lead Origin','What is your current occupation',\n",
    "                             'City']], drop_first=True)\n",
    "df = df.join(dummy_df)"
   ]
  },
  {
   "cell_type": "code",
   "execution_count": 787,
   "id": "3fe8f920",
   "metadata": {},
   "outputs": [],
   "source": [
    "# # Extracting the 'Specialization' column from the leads dataframe\n",
    "# specialization_col = df['Specialization']\n",
    "\n",
    "# # Encoding the column using one-hot encoding and drop the 'Specialization_Not Specified' column\n",
    "# dummy = pd.get_dummies(specialization_col, prefix='Specialization').drop(['Specialization_Not Specified'], axis=1)\n",
    "\n",
    "# # Concatenate the original leads dataframe with the dummy variable dataframe along axis=1\n",
    "# df = pd.concat([df, dummy], axis=1)\n"
   ]
  },
  {
   "cell_type": "code",
   "execution_count": 788,
   "id": "3a244243",
   "metadata": {},
   "outputs": [],
   "source": [
    "# df = pd.concat([df, pd.get_dummies(df['Lead Source'], prefix='Lead Source')\n",
    "#                    .drop('Lead Source_Others', axis=1)], axis=1)\n"
   ]
  },
  {
   "cell_type": "code",
   "execution_count": 789,
   "id": "89214ab2",
   "metadata": {},
   "outputs": [],
   "source": [
    "# Extracting the 'Specialization' column from the leads dataframe\n",
    "specialization_col = df['Specialization']\n",
    "\n",
    "# Encoding the column using one-hot encoding and drop the 'Specialization_Not Specified' column\n",
    "dummy = pd.get_dummies(specialization_col, prefix='Specialization').drop(['Specialization_Not Specified'], axis=1)\n",
    "\n",
    "# Concatenate the original leads dataframe with the dummy variable dataframe along axis=1\n",
    "df = pd.concat([df, dummy], axis=1)\n",
    "\n",
    "\n",
    "df = pd.concat([df, pd.get_dummies(df['Lead Source'], prefix='Lead Source')\n",
    "                   .drop('Lead Source_Others', axis=1)], axis=1)\n",
    "\n",
    "\n",
    "# Creating dummy variables for 'Last Activity' and drop the 'Last Activity_Others' column\n",
    "df = pd.concat([df, pd.get_dummies(df['Last Activity'], prefix='Last Activity').drop('Last Activity_Others', axis=1)], axis=1)\n",
    "\n",
    "\n",
    "\n",
    "# Creating dummy variables from the 'Last Notable Activity' column and drop the 'Last Notable Activity_Other_Notable_activity' column.\n",
    "# Concatenating the resulting dummy variables to the 'df' dataframe along the columns axis.\n",
    "df = pd.concat([df, pd.get_dummies(df['Last Notable Activity'], prefix='Last Notable Activity')\n",
    "                        .drop(['Last Notable Activity_Other_Notable_activity'], axis=1)], axis=1)\n",
    "\n",
    "\n",
    "\n",
    "# Creating dummy variables from the 'Tags' column and drop the 'Tags_Not Specified' column.\n",
    "# Concatenating the resulting dummy variables to the 'leads' dataframe along the columns axis.\n",
    "df = pd.concat([df, pd.get_dummies(df['Tags'], prefix='Tags')\n",
    "                        .drop(['Tags_Not Specified'], axis=1)], axis=1)\n"
   ]
  },
  {
   "cell_type": "code",
   "execution_count": 790,
   "id": "b2c62a56",
   "metadata": {},
   "outputs": [],
   "source": [
    "#Dropping the original columns after dummy variable creation\n",
    "\n",
    "df.drop(Categorical_columns,1,inplace = True)"
   ]
  },
  {
   "cell_type": "markdown",
   "id": "1a5ac81a",
   "metadata": {},
   "source": [
    "## Model Building Over Logistic Regression:"
   ]
  },
  {
   "cell_type": "code",
   "execution_count": 791,
   "id": "caeab87a",
   "metadata": {},
   "outputs": [],
   "source": [
    "from sklearn.model_selection import train_test_split\n",
    "from sklearn.preprocessing import StandardScaler"
   ]
  },
  {
   "cell_type": "code",
   "execution_count": 792,
   "id": "2ac2bd1c",
   "metadata": {},
   "outputs": [],
   "source": [
    "y = df['Converted']\n",
    "X = df.drop('Converted', axis=1)\n",
    "X_train, X_test, y_train, y_test = train_test_split(X, y, train_size=0.7, test_size=0.3, random_state=100)"
   ]
  },
  {
   "cell_type": "code",
   "execution_count": 793,
   "id": "7a4689cf",
   "metadata": {},
   "outputs": [
    {
     "data": {
      "text/html": [
       "<div>\n",
       "<style scoped>\n",
       "    .dataframe tbody tr th:only-of-type {\n",
       "        vertical-align: middle;\n",
       "    }\n",
       "\n",
       "    .dataframe tbody tr th {\n",
       "        vertical-align: top;\n",
       "    }\n",
       "\n",
       "    .dataframe thead th {\n",
       "        text-align: right;\n",
       "    }\n",
       "</style>\n",
       "<table border=\"1\" class=\"dataframe\">\n",
       "  <thead>\n",
       "    <tr style=\"text-align: right;\">\n",
       "      <th></th>\n",
       "      <th>TotalVisits</th>\n",
       "      <th>Total Time Spent on Website</th>\n",
       "      <th>Page Views Per Visit</th>\n",
       "      <th>Lead Origin_Landing Page Submission</th>\n",
       "      <th>Lead Origin_Lead Add Form</th>\n",
       "      <th>What is your current occupation_Housewife</th>\n",
       "      <th>What is your current occupation_Other</th>\n",
       "      <th>What is your current occupation_Student</th>\n",
       "      <th>What is your current occupation_Unemployed</th>\n",
       "      <th>What is your current occupation_Working Professional</th>\n",
       "      <th>City_Other Cities</th>\n",
       "      <th>City_Other Cities of Maharashtra</th>\n",
       "      <th>City_Other Metro Cities</th>\n",
       "      <th>City_Thane &amp; Outskirts</th>\n",
       "      <th>City_Tier II Cities</th>\n",
       "      <th>Specialization_Banking, Investment And Insurance</th>\n",
       "      <th>Specialization_Business Administration</th>\n",
       "      <th>Specialization_E-Business</th>\n",
       "      <th>Specialization_E-COMMERCE</th>\n",
       "      <th>Specialization_International Business</th>\n",
       "      <th>Specialization_Management_Specializations</th>\n",
       "      <th>Specialization_Media and Advertising</th>\n",
       "      <th>Specialization_Rural and Agribusiness</th>\n",
       "      <th>Specialization_Services Excellence</th>\n",
       "      <th>Specialization_Travel and Tourism</th>\n",
       "      <th>Lead Source_Direct Traffic</th>\n",
       "      <th>Lead Source_Google</th>\n",
       "      <th>Lead Source_Olark Chat</th>\n",
       "      <th>Lead Source_Organic Search</th>\n",
       "      <th>Lead Source_Reference</th>\n",
       "      <th>Lead Source_Referral Sites</th>\n",
       "      <th>Lead Source_Social Media</th>\n",
       "      <th>Lead Source_Welingak Website</th>\n",
       "      <th>Last Activity_Converted to Lead</th>\n",
       "      <th>Last Activity_Email Bounced</th>\n",
       "      <th>Last Activity_Email Link Clicked</th>\n",
       "      <th>Last Activity_Email Opened</th>\n",
       "      <th>Last Activity_Form Submitted on Website</th>\n",
       "      <th>Last Activity_Olark Chat Conversation</th>\n",
       "      <th>Last Activity_Page Visited on Website</th>\n",
       "      <th>Last Activity_SMS Sent</th>\n",
       "      <th>Last Notable Activity_Email Link Clicked</th>\n",
       "      <th>Last Notable Activity_Email Opened</th>\n",
       "      <th>Last Notable Activity_Modified</th>\n",
       "      <th>Last Notable Activity_Olark Chat Conversation</th>\n",
       "      <th>Last Notable Activity_Page Visited on Website</th>\n",
       "      <th>Last Notable Activity_SMS Sent</th>\n",
       "      <th>Tags_Busy</th>\n",
       "      <th>Tags_Closed by Horizzon</th>\n",
       "      <th>Tags_Interested in other courses</th>\n",
       "      <th>Tags_Lost to EINS</th>\n",
       "      <th>Tags_Other_Tags</th>\n",
       "      <th>Tags_Ringing</th>\n",
       "      <th>Tags_Will revert after reading the email</th>\n",
       "    </tr>\n",
       "  </thead>\n",
       "  <tbody>\n",
       "    <tr>\n",
       "      <th>8957</th>\n",
       "      <td>-0.811422</td>\n",
       "      <td>-0.839539</td>\n",
       "      <td>-0.605248</td>\n",
       "      <td>0</td>\n",
       "      <td>0</td>\n",
       "      <td>0</td>\n",
       "      <td>0</td>\n",
       "      <td>0</td>\n",
       "      <td>1</td>\n",
       "      <td>0</td>\n",
       "      <td>0</td>\n",
       "      <td>0</td>\n",
       "      <td>0</td>\n",
       "      <td>0</td>\n",
       "      <td>0</td>\n",
       "      <td>0</td>\n",
       "      <td>0</td>\n",
       "      <td>0</td>\n",
       "      <td>0</td>\n",
       "      <td>0</td>\n",
       "      <td>0</td>\n",
       "      <td>0</td>\n",
       "      <td>0</td>\n",
       "      <td>0</td>\n",
       "      <td>0</td>\n",
       "      <td>0</td>\n",
       "      <td>0</td>\n",
       "      <td>0</td>\n",
       "      <td>1</td>\n",
       "      <td>0</td>\n",
       "      <td>0</td>\n",
       "      <td>0</td>\n",
       "      <td>0</td>\n",
       "      <td>0</td>\n",
       "      <td>0</td>\n",
       "      <td>0</td>\n",
       "      <td>0</td>\n",
       "      <td>0</td>\n",
       "      <td>0</td>\n",
       "      <td>0</td>\n",
       "      <td>1</td>\n",
       "      <td>0</td>\n",
       "      <td>0</td>\n",
       "      <td>0</td>\n",
       "      <td>0</td>\n",
       "      <td>0</td>\n",
       "      <td>1</td>\n",
       "      <td>1</td>\n",
       "      <td>0</td>\n",
       "      <td>0</td>\n",
       "      <td>0</td>\n",
       "      <td>0</td>\n",
       "      <td>0</td>\n",
       "      <td>0</td>\n",
       "    </tr>\n",
       "    <tr>\n",
       "      <th>2826</th>\n",
       "      <td>0.959297</td>\n",
       "      <td>1.165081</td>\n",
       "      <td>2.164795</td>\n",
       "      <td>1</td>\n",
       "      <td>0</td>\n",
       "      <td>0</td>\n",
       "      <td>0</td>\n",
       "      <td>0</td>\n",
       "      <td>1</td>\n",
       "      <td>0</td>\n",
       "      <td>0</td>\n",
       "      <td>0</td>\n",
       "      <td>0</td>\n",
       "      <td>0</td>\n",
       "      <td>0</td>\n",
       "      <td>0</td>\n",
       "      <td>0</td>\n",
       "      <td>0</td>\n",
       "      <td>0</td>\n",
       "      <td>0</td>\n",
       "      <td>1</td>\n",
       "      <td>0</td>\n",
       "      <td>0</td>\n",
       "      <td>0</td>\n",
       "      <td>0</td>\n",
       "      <td>1</td>\n",
       "      <td>0</td>\n",
       "      <td>0</td>\n",
       "      <td>0</td>\n",
       "      <td>0</td>\n",
       "      <td>0</td>\n",
       "      <td>0</td>\n",
       "      <td>0</td>\n",
       "      <td>0</td>\n",
       "      <td>0</td>\n",
       "      <td>0</td>\n",
       "      <td>0</td>\n",
       "      <td>0</td>\n",
       "      <td>0</td>\n",
       "      <td>0</td>\n",
       "      <td>1</td>\n",
       "      <td>0</td>\n",
       "      <td>0</td>\n",
       "      <td>0</td>\n",
       "      <td>0</td>\n",
       "      <td>0</td>\n",
       "      <td>1</td>\n",
       "      <td>1</td>\n",
       "      <td>0</td>\n",
       "      <td>0</td>\n",
       "      <td>0</td>\n",
       "      <td>0</td>\n",
       "      <td>0</td>\n",
       "      <td>0</td>\n",
       "    </tr>\n",
       "    <tr>\n",
       "      <th>8498</th>\n",
       "      <td>-0.457279</td>\n",
       "      <td>-0.848735</td>\n",
       "      <td>-0.051239</td>\n",
       "      <td>1</td>\n",
       "      <td>0</td>\n",
       "      <td>0</td>\n",
       "      <td>0</td>\n",
       "      <td>0</td>\n",
       "      <td>1</td>\n",
       "      <td>0</td>\n",
       "      <td>0</td>\n",
       "      <td>0</td>\n",
       "      <td>0</td>\n",
       "      <td>1</td>\n",
       "      <td>0</td>\n",
       "      <td>0</td>\n",
       "      <td>0</td>\n",
       "      <td>0</td>\n",
       "      <td>0</td>\n",
       "      <td>0</td>\n",
       "      <td>1</td>\n",
       "      <td>0</td>\n",
       "      <td>0</td>\n",
       "      <td>0</td>\n",
       "      <td>0</td>\n",
       "      <td>1</td>\n",
       "      <td>0</td>\n",
       "      <td>0</td>\n",
       "      <td>0</td>\n",
       "      <td>0</td>\n",
       "      <td>0</td>\n",
       "      <td>0</td>\n",
       "      <td>0</td>\n",
       "      <td>0</td>\n",
       "      <td>1</td>\n",
       "      <td>0</td>\n",
       "      <td>0</td>\n",
       "      <td>0</td>\n",
       "      <td>0</td>\n",
       "      <td>0</td>\n",
       "      <td>0</td>\n",
       "      <td>0</td>\n",
       "      <td>0</td>\n",
       "      <td>1</td>\n",
       "      <td>0</td>\n",
       "      <td>0</td>\n",
       "      <td>0</td>\n",
       "      <td>0</td>\n",
       "      <td>0</td>\n",
       "      <td>0</td>\n",
       "      <td>0</td>\n",
       "      <td>0</td>\n",
       "      <td>0</td>\n",
       "      <td>0</td>\n",
       "    </tr>\n",
       "  </tbody>\n",
       "</table>\n",
       "</div>"
      ],
      "text/plain": [
       "      TotalVisits  Total Time Spent on Website  Page Views Per Visit  \\\n",
       "8957    -0.811422                    -0.839539             -0.605248   \n",
       "2826     0.959297                     1.165081              2.164795   \n",
       "8498    -0.457279                    -0.848735             -0.051239   \n",
       "\n",
       "      Lead Origin_Landing Page Submission  Lead Origin_Lead Add Form  \\\n",
       "8957                                    0                          0   \n",
       "2826                                    1                          0   \n",
       "8498                                    1                          0   \n",
       "\n",
       "      What is your current occupation_Housewife  \\\n",
       "8957                                          0   \n",
       "2826                                          0   \n",
       "8498                                          0   \n",
       "\n",
       "      What is your current occupation_Other  \\\n",
       "8957                                      0   \n",
       "2826                                      0   \n",
       "8498                                      0   \n",
       "\n",
       "      What is your current occupation_Student  \\\n",
       "8957                                        0   \n",
       "2826                                        0   \n",
       "8498                                        0   \n",
       "\n",
       "      What is your current occupation_Unemployed  \\\n",
       "8957                                           1   \n",
       "2826                                           1   \n",
       "8498                                           1   \n",
       "\n",
       "      What is your current occupation_Working Professional  City_Other Cities  \\\n",
       "8957                                                  0                     0   \n",
       "2826                                                  0                     0   \n",
       "8498                                                  0                     0   \n",
       "\n",
       "      City_Other Cities of Maharashtra  City_Other Metro Cities  \\\n",
       "8957                                 0                        0   \n",
       "2826                                 0                        0   \n",
       "8498                                 0                        0   \n",
       "\n",
       "      City_Thane & Outskirts  City_Tier II Cities  \\\n",
       "8957                       0                    0   \n",
       "2826                       0                    0   \n",
       "8498                       1                    0   \n",
       "\n",
       "      Specialization_Banking, Investment And Insurance  \\\n",
       "8957                                                 0   \n",
       "2826                                                 0   \n",
       "8498                                                 0   \n",
       "\n",
       "      Specialization_Business Administration  Specialization_E-Business  \\\n",
       "8957                                       0                          0   \n",
       "2826                                       0                          0   \n",
       "8498                                       0                          0   \n",
       "\n",
       "      Specialization_E-COMMERCE  Specialization_International Business  \\\n",
       "8957                          0                                      0   \n",
       "2826                          0                                      0   \n",
       "8498                          0                                      0   \n",
       "\n",
       "      Specialization_Management_Specializations  \\\n",
       "8957                                          0   \n",
       "2826                                          1   \n",
       "8498                                          1   \n",
       "\n",
       "      Specialization_Media and Advertising  \\\n",
       "8957                                     0   \n",
       "2826                                     0   \n",
       "8498                                     0   \n",
       "\n",
       "      Specialization_Rural and Agribusiness  \\\n",
       "8957                                      0   \n",
       "2826                                      0   \n",
       "8498                                      0   \n",
       "\n",
       "      Specialization_Services Excellence  Specialization_Travel and Tourism  \\\n",
       "8957                                   0                                  0   \n",
       "2826                                   0                                  0   \n",
       "8498                                   0                                  0   \n",
       "\n",
       "      Lead Source_Direct Traffic  Lead Source_Google  Lead Source_Olark Chat  \\\n",
       "8957                           0                   0                       0   \n",
       "2826                           1                   0                       0   \n",
       "8498                           1                   0                       0   \n",
       "\n",
       "      Lead Source_Organic Search  Lead Source_Reference  \\\n",
       "8957                           1                      0   \n",
       "2826                           0                      0   \n",
       "8498                           0                      0   \n",
       "\n",
       "      Lead Source_Referral Sites  Lead Source_Social Media  \\\n",
       "8957                           0                         0   \n",
       "2826                           0                         0   \n",
       "8498                           0                         0   \n",
       "\n",
       "      Lead Source_Welingak Website  Last Activity_Converted to Lead  \\\n",
       "8957                             0                                0   \n",
       "2826                             0                                0   \n",
       "8498                             0                                0   \n",
       "\n",
       "      Last Activity_Email Bounced  Last Activity_Email Link Clicked  \\\n",
       "8957                            0                                 0   \n",
       "2826                            0                                 0   \n",
       "8498                            1                                 0   \n",
       "\n",
       "      Last Activity_Email Opened  Last Activity_Form Submitted on Website  \\\n",
       "8957                           0                                        0   \n",
       "2826                           0                                        0   \n",
       "8498                           0                                        0   \n",
       "\n",
       "      Last Activity_Olark Chat Conversation  \\\n",
       "8957                                      0   \n",
       "2826                                      0   \n",
       "8498                                      0   \n",
       "\n",
       "      Last Activity_Page Visited on Website  Last Activity_SMS Sent  \\\n",
       "8957                                      0                       1   \n",
       "2826                                      0                       1   \n",
       "8498                                      0                       0   \n",
       "\n",
       "      Last Notable Activity_Email Link Clicked  \\\n",
       "8957                                         0   \n",
       "2826                                         0   \n",
       "8498                                         0   \n",
       "\n",
       "      Last Notable Activity_Email Opened  Last Notable Activity_Modified  \\\n",
       "8957                                   0                               0   \n",
       "2826                                   0                               0   \n",
       "8498                                   0                               1   \n",
       "\n",
       "      Last Notable Activity_Olark Chat Conversation  \\\n",
       "8957                                              0   \n",
       "2826                                              0   \n",
       "8498                                              0   \n",
       "\n",
       "      Last Notable Activity_Page Visited on Website  \\\n",
       "8957                                              0   \n",
       "2826                                              0   \n",
       "8498                                              0   \n",
       "\n",
       "      Last Notable Activity_SMS Sent  Tags_Busy  Tags_Closed by Horizzon  \\\n",
       "8957                               1          1                        0   \n",
       "2826                               1          1                        0   \n",
       "8498                               0          0                        0   \n",
       "\n",
       "      Tags_Interested in other courses  Tags_Lost to EINS  Tags_Other_Tags  \\\n",
       "8957                                 0                  0                0   \n",
       "2826                                 0                  0                0   \n",
       "8498                                 0                  0                0   \n",
       "\n",
       "      Tags_Ringing  Tags_Will revert after reading the email  \n",
       "8957             0                                         0  \n",
       "2826             0                                         0  \n",
       "8498             0                                         0  "
      ]
     },
     "execution_count": 793,
     "metadata": {},
     "output_type": "execute_result"
    }
   ],
   "source": [
    "# Creating an instance of the StandardScaler() class\n",
    "scaler = StandardScaler()\n",
    "\n",
    "# Selecting the numeric columns from the training dataset\n",
    "num_cols = X_train.select_dtypes(include=['float64', 'int64']).columns\n",
    "\n",
    "# Applying the scaler to the selected numeric columns in the training dataset\n",
    "X_train[num_cols] = scaler.fit_transform(X_train[num_cols])\n",
    "\n",
    "X_train.head(3)"
   ]
  },
  {
   "cell_type": "markdown",
   "id": "5a00d41e",
   "metadata": {},
   "source": [
    "#### Scaling of numerical data:"
   ]
  },
  {
   "cell_type": "code",
   "execution_count": 794,
   "id": "88757305",
   "metadata": {},
   "outputs": [],
   "source": [
    "# Importing the StandardScaler class from sklearn.preprocessing\n",
    "from sklearn.preprocessing import StandardScaler"
   ]
  },
  {
   "cell_type": "code",
   "execution_count": 795,
   "id": "6552b77c",
   "metadata": {},
   "outputs": [
    {
     "data": {
      "text/html": [
       "<div>\n",
       "<style scoped>\n",
       "    .dataframe tbody tr th:only-of-type {\n",
       "        vertical-align: middle;\n",
       "    }\n",
       "\n",
       "    .dataframe tbody tr th {\n",
       "        vertical-align: top;\n",
       "    }\n",
       "\n",
       "    .dataframe thead th {\n",
       "        text-align: right;\n",
       "    }\n",
       "</style>\n",
       "<table border=\"1\" class=\"dataframe\">\n",
       "  <thead>\n",
       "    <tr style=\"text-align: right;\">\n",
       "      <th></th>\n",
       "      <th>TotalVisits</th>\n",
       "      <th>Total Time Spent on Website</th>\n",
       "      <th>Page Views Per Visit</th>\n",
       "      <th>Lead Origin_Landing Page Submission</th>\n",
       "      <th>Lead Origin_Lead Add Form</th>\n",
       "      <th>What is your current occupation_Housewife</th>\n",
       "      <th>What is your current occupation_Other</th>\n",
       "      <th>What is your current occupation_Student</th>\n",
       "      <th>What is your current occupation_Unemployed</th>\n",
       "      <th>What is your current occupation_Working Professional</th>\n",
       "      <th>City_Other Cities</th>\n",
       "      <th>City_Other Cities of Maharashtra</th>\n",
       "      <th>City_Other Metro Cities</th>\n",
       "      <th>City_Thane &amp; Outskirts</th>\n",
       "      <th>City_Tier II Cities</th>\n",
       "      <th>Specialization_Banking, Investment And Insurance</th>\n",
       "      <th>Specialization_Business Administration</th>\n",
       "      <th>Specialization_E-Business</th>\n",
       "      <th>Specialization_E-COMMERCE</th>\n",
       "      <th>Specialization_International Business</th>\n",
       "      <th>Specialization_Management_Specializations</th>\n",
       "      <th>Specialization_Media and Advertising</th>\n",
       "      <th>Specialization_Rural and Agribusiness</th>\n",
       "      <th>Specialization_Services Excellence</th>\n",
       "      <th>Specialization_Travel and Tourism</th>\n",
       "      <th>Lead Source_Direct Traffic</th>\n",
       "      <th>Lead Source_Google</th>\n",
       "      <th>Lead Source_Olark Chat</th>\n",
       "      <th>Lead Source_Organic Search</th>\n",
       "      <th>Lead Source_Reference</th>\n",
       "      <th>Lead Source_Referral Sites</th>\n",
       "      <th>Lead Source_Social Media</th>\n",
       "      <th>Lead Source_Welingak Website</th>\n",
       "      <th>Last Activity_Converted to Lead</th>\n",
       "      <th>Last Activity_Email Bounced</th>\n",
       "      <th>Last Activity_Email Link Clicked</th>\n",
       "      <th>Last Activity_Email Opened</th>\n",
       "      <th>Last Activity_Form Submitted on Website</th>\n",
       "      <th>Last Activity_Olark Chat Conversation</th>\n",
       "      <th>Last Activity_Page Visited on Website</th>\n",
       "      <th>Last Activity_SMS Sent</th>\n",
       "      <th>Last Notable Activity_Email Link Clicked</th>\n",
       "      <th>Last Notable Activity_Email Opened</th>\n",
       "      <th>Last Notable Activity_Modified</th>\n",
       "      <th>Last Notable Activity_Olark Chat Conversation</th>\n",
       "      <th>Last Notable Activity_Page Visited on Website</th>\n",
       "      <th>Last Notable Activity_SMS Sent</th>\n",
       "      <th>Tags_Busy</th>\n",
       "      <th>Tags_Closed by Horizzon</th>\n",
       "      <th>Tags_Interested in other courses</th>\n",
       "      <th>Tags_Lost to EINS</th>\n",
       "      <th>Tags_Other_Tags</th>\n",
       "      <th>Tags_Ringing</th>\n",
       "      <th>Tags_Will revert after reading the email</th>\n",
       "    </tr>\n",
       "  </thead>\n",
       "  <tbody>\n",
       "    <tr>\n",
       "      <th>8957</th>\n",
       "      <td>-0.811422</td>\n",
       "      <td>-0.839539</td>\n",
       "      <td>-0.605248</td>\n",
       "      <td>0</td>\n",
       "      <td>0</td>\n",
       "      <td>0</td>\n",
       "      <td>0</td>\n",
       "      <td>0</td>\n",
       "      <td>1</td>\n",
       "      <td>0</td>\n",
       "      <td>0</td>\n",
       "      <td>0</td>\n",
       "      <td>0</td>\n",
       "      <td>0</td>\n",
       "      <td>0</td>\n",
       "      <td>0</td>\n",
       "      <td>0</td>\n",
       "      <td>0</td>\n",
       "      <td>0</td>\n",
       "      <td>0</td>\n",
       "      <td>0</td>\n",
       "      <td>0</td>\n",
       "      <td>0</td>\n",
       "      <td>0</td>\n",
       "      <td>0</td>\n",
       "      <td>0</td>\n",
       "      <td>0</td>\n",
       "      <td>0</td>\n",
       "      <td>1</td>\n",
       "      <td>0</td>\n",
       "      <td>0</td>\n",
       "      <td>0</td>\n",
       "      <td>0</td>\n",
       "      <td>0</td>\n",
       "      <td>0</td>\n",
       "      <td>0</td>\n",
       "      <td>0</td>\n",
       "      <td>0</td>\n",
       "      <td>0</td>\n",
       "      <td>0</td>\n",
       "      <td>1</td>\n",
       "      <td>0</td>\n",
       "      <td>0</td>\n",
       "      <td>0</td>\n",
       "      <td>0</td>\n",
       "      <td>0</td>\n",
       "      <td>1</td>\n",
       "      <td>1</td>\n",
       "      <td>0</td>\n",
       "      <td>0</td>\n",
       "      <td>0</td>\n",
       "      <td>0</td>\n",
       "      <td>0</td>\n",
       "      <td>0</td>\n",
       "    </tr>\n",
       "    <tr>\n",
       "      <th>2826</th>\n",
       "      <td>0.959297</td>\n",
       "      <td>1.165081</td>\n",
       "      <td>2.164795</td>\n",
       "      <td>1</td>\n",
       "      <td>0</td>\n",
       "      <td>0</td>\n",
       "      <td>0</td>\n",
       "      <td>0</td>\n",
       "      <td>1</td>\n",
       "      <td>0</td>\n",
       "      <td>0</td>\n",
       "      <td>0</td>\n",
       "      <td>0</td>\n",
       "      <td>0</td>\n",
       "      <td>0</td>\n",
       "      <td>0</td>\n",
       "      <td>0</td>\n",
       "      <td>0</td>\n",
       "      <td>0</td>\n",
       "      <td>0</td>\n",
       "      <td>1</td>\n",
       "      <td>0</td>\n",
       "      <td>0</td>\n",
       "      <td>0</td>\n",
       "      <td>0</td>\n",
       "      <td>1</td>\n",
       "      <td>0</td>\n",
       "      <td>0</td>\n",
       "      <td>0</td>\n",
       "      <td>0</td>\n",
       "      <td>0</td>\n",
       "      <td>0</td>\n",
       "      <td>0</td>\n",
       "      <td>0</td>\n",
       "      <td>0</td>\n",
       "      <td>0</td>\n",
       "      <td>0</td>\n",
       "      <td>0</td>\n",
       "      <td>0</td>\n",
       "      <td>0</td>\n",
       "      <td>1</td>\n",
       "      <td>0</td>\n",
       "      <td>0</td>\n",
       "      <td>0</td>\n",
       "      <td>0</td>\n",
       "      <td>0</td>\n",
       "      <td>1</td>\n",
       "      <td>1</td>\n",
       "      <td>0</td>\n",
       "      <td>0</td>\n",
       "      <td>0</td>\n",
       "      <td>0</td>\n",
       "      <td>0</td>\n",
       "      <td>0</td>\n",
       "    </tr>\n",
       "    <tr>\n",
       "      <th>8498</th>\n",
       "      <td>-0.457279</td>\n",
       "      <td>-0.848735</td>\n",
       "      <td>-0.051239</td>\n",
       "      <td>1</td>\n",
       "      <td>0</td>\n",
       "      <td>0</td>\n",
       "      <td>0</td>\n",
       "      <td>0</td>\n",
       "      <td>1</td>\n",
       "      <td>0</td>\n",
       "      <td>0</td>\n",
       "      <td>0</td>\n",
       "      <td>0</td>\n",
       "      <td>1</td>\n",
       "      <td>0</td>\n",
       "      <td>0</td>\n",
       "      <td>0</td>\n",
       "      <td>0</td>\n",
       "      <td>0</td>\n",
       "      <td>0</td>\n",
       "      <td>1</td>\n",
       "      <td>0</td>\n",
       "      <td>0</td>\n",
       "      <td>0</td>\n",
       "      <td>0</td>\n",
       "      <td>1</td>\n",
       "      <td>0</td>\n",
       "      <td>0</td>\n",
       "      <td>0</td>\n",
       "      <td>0</td>\n",
       "      <td>0</td>\n",
       "      <td>0</td>\n",
       "      <td>0</td>\n",
       "      <td>0</td>\n",
       "      <td>1</td>\n",
       "      <td>0</td>\n",
       "      <td>0</td>\n",
       "      <td>0</td>\n",
       "      <td>0</td>\n",
       "      <td>0</td>\n",
       "      <td>0</td>\n",
       "      <td>0</td>\n",
       "      <td>0</td>\n",
       "      <td>1</td>\n",
       "      <td>0</td>\n",
       "      <td>0</td>\n",
       "      <td>0</td>\n",
       "      <td>0</td>\n",
       "      <td>0</td>\n",
       "      <td>0</td>\n",
       "      <td>0</td>\n",
       "      <td>0</td>\n",
       "      <td>0</td>\n",
       "      <td>0</td>\n",
       "    </tr>\n",
       "    <tr>\n",
       "      <th>2170</th>\n",
       "      <td>1.667584</td>\n",
       "      <td>-1.100692</td>\n",
       "      <td>-0.466746</td>\n",
       "      <td>1</td>\n",
       "      <td>0</td>\n",
       "      <td>0</td>\n",
       "      <td>0</td>\n",
       "      <td>0</td>\n",
       "      <td>1</td>\n",
       "      <td>0</td>\n",
       "      <td>0</td>\n",
       "      <td>0</td>\n",
       "      <td>0</td>\n",
       "      <td>0</td>\n",
       "      <td>0</td>\n",
       "      <td>0</td>\n",
       "      <td>1</td>\n",
       "      <td>0</td>\n",
       "      <td>0</td>\n",
       "      <td>0</td>\n",
       "      <td>0</td>\n",
       "      <td>0</td>\n",
       "      <td>0</td>\n",
       "      <td>0</td>\n",
       "      <td>0</td>\n",
       "      <td>1</td>\n",
       "      <td>0</td>\n",
       "      <td>0</td>\n",
       "      <td>0</td>\n",
       "      <td>0</td>\n",
       "      <td>0</td>\n",
       "      <td>0</td>\n",
       "      <td>0</td>\n",
       "      <td>0</td>\n",
       "      <td>0</td>\n",
       "      <td>0</td>\n",
       "      <td>0</td>\n",
       "      <td>0</td>\n",
       "      <td>0</td>\n",
       "      <td>1</td>\n",
       "      <td>0</td>\n",
       "      <td>0</td>\n",
       "      <td>0</td>\n",
       "      <td>0</td>\n",
       "      <td>0</td>\n",
       "      <td>1</td>\n",
       "      <td>0</td>\n",
       "      <td>0</td>\n",
       "      <td>0</td>\n",
       "      <td>0</td>\n",
       "      <td>0</td>\n",
       "      <td>0</td>\n",
       "      <td>0</td>\n",
       "      <td>0</td>\n",
       "    </tr>\n",
       "    <tr>\n",
       "      <th>4169</th>\n",
       "      <td>-0.457279</td>\n",
       "      <td>-1.113566</td>\n",
       "      <td>-0.882252</td>\n",
       "      <td>1</td>\n",
       "      <td>0</td>\n",
       "      <td>0</td>\n",
       "      <td>0</td>\n",
       "      <td>0</td>\n",
       "      <td>1</td>\n",
       "      <td>0</td>\n",
       "      <td>0</td>\n",
       "      <td>0</td>\n",
       "      <td>1</td>\n",
       "      <td>0</td>\n",
       "      <td>0</td>\n",
       "      <td>0</td>\n",
       "      <td>0</td>\n",
       "      <td>0</td>\n",
       "      <td>0</td>\n",
       "      <td>0</td>\n",
       "      <td>1</td>\n",
       "      <td>0</td>\n",
       "      <td>0</td>\n",
       "      <td>0</td>\n",
       "      <td>0</td>\n",
       "      <td>1</td>\n",
       "      <td>0</td>\n",
       "      <td>0</td>\n",
       "      <td>0</td>\n",
       "      <td>0</td>\n",
       "      <td>0</td>\n",
       "      <td>0</td>\n",
       "      <td>0</td>\n",
       "      <td>0</td>\n",
       "      <td>0</td>\n",
       "      <td>0</td>\n",
       "      <td>1</td>\n",
       "      <td>0</td>\n",
       "      <td>0</td>\n",
       "      <td>0</td>\n",
       "      <td>0</td>\n",
       "      <td>0</td>\n",
       "      <td>1</td>\n",
       "      <td>0</td>\n",
       "      <td>0</td>\n",
       "      <td>0</td>\n",
       "      <td>0</td>\n",
       "      <td>0</td>\n",
       "      <td>0</td>\n",
       "      <td>0</td>\n",
       "      <td>0</td>\n",
       "      <td>0</td>\n",
       "      <td>0</td>\n",
       "      <td>0</td>\n",
       "    </tr>\n",
       "  </tbody>\n",
       "</table>\n",
       "</div>"
      ],
      "text/plain": [
       "      TotalVisits  Total Time Spent on Website  Page Views Per Visit  \\\n",
       "8957    -0.811422                    -0.839539             -0.605248   \n",
       "2826     0.959297                     1.165081              2.164795   \n",
       "8498    -0.457279                    -0.848735             -0.051239   \n",
       "2170     1.667584                    -1.100692             -0.466746   \n",
       "4169    -0.457279                    -1.113566             -0.882252   \n",
       "\n",
       "      Lead Origin_Landing Page Submission  Lead Origin_Lead Add Form  \\\n",
       "8957                                    0                          0   \n",
       "2826                                    1                          0   \n",
       "8498                                    1                          0   \n",
       "2170                                    1                          0   \n",
       "4169                                    1                          0   \n",
       "\n",
       "      What is your current occupation_Housewife  \\\n",
       "8957                                          0   \n",
       "2826                                          0   \n",
       "8498                                          0   \n",
       "2170                                          0   \n",
       "4169                                          0   \n",
       "\n",
       "      What is your current occupation_Other  \\\n",
       "8957                                      0   \n",
       "2826                                      0   \n",
       "8498                                      0   \n",
       "2170                                      0   \n",
       "4169                                      0   \n",
       "\n",
       "      What is your current occupation_Student  \\\n",
       "8957                                        0   \n",
       "2826                                        0   \n",
       "8498                                        0   \n",
       "2170                                        0   \n",
       "4169                                        0   \n",
       "\n",
       "      What is your current occupation_Unemployed  \\\n",
       "8957                                           1   \n",
       "2826                                           1   \n",
       "8498                                           1   \n",
       "2170                                           1   \n",
       "4169                                           1   \n",
       "\n",
       "      What is your current occupation_Working Professional  City_Other Cities  \\\n",
       "8957                                                  0                     0   \n",
       "2826                                                  0                     0   \n",
       "8498                                                  0                     0   \n",
       "2170                                                  0                     0   \n",
       "4169                                                  0                     0   \n",
       "\n",
       "      City_Other Cities of Maharashtra  City_Other Metro Cities  \\\n",
       "8957                                 0                        0   \n",
       "2826                                 0                        0   \n",
       "8498                                 0                        0   \n",
       "2170                                 0                        0   \n",
       "4169                                 0                        1   \n",
       "\n",
       "      City_Thane & Outskirts  City_Tier II Cities  \\\n",
       "8957                       0                    0   \n",
       "2826                       0                    0   \n",
       "8498                       1                    0   \n",
       "2170                       0                    0   \n",
       "4169                       0                    0   \n",
       "\n",
       "      Specialization_Banking, Investment And Insurance  \\\n",
       "8957                                                 0   \n",
       "2826                                                 0   \n",
       "8498                                                 0   \n",
       "2170                                                 0   \n",
       "4169                                                 0   \n",
       "\n",
       "      Specialization_Business Administration  Specialization_E-Business  \\\n",
       "8957                                       0                          0   \n",
       "2826                                       0                          0   \n",
       "8498                                       0                          0   \n",
       "2170                                       1                          0   \n",
       "4169                                       0                          0   \n",
       "\n",
       "      Specialization_E-COMMERCE  Specialization_International Business  \\\n",
       "8957                          0                                      0   \n",
       "2826                          0                                      0   \n",
       "8498                          0                                      0   \n",
       "2170                          0                                      0   \n",
       "4169                          0                                      0   \n",
       "\n",
       "      Specialization_Management_Specializations  \\\n",
       "8957                                          0   \n",
       "2826                                          1   \n",
       "8498                                          1   \n",
       "2170                                          0   \n",
       "4169                                          1   \n",
       "\n",
       "      Specialization_Media and Advertising  \\\n",
       "8957                                     0   \n",
       "2826                                     0   \n",
       "8498                                     0   \n",
       "2170                                     0   \n",
       "4169                                     0   \n",
       "\n",
       "      Specialization_Rural and Agribusiness  \\\n",
       "8957                                      0   \n",
       "2826                                      0   \n",
       "8498                                      0   \n",
       "2170                                      0   \n",
       "4169                                      0   \n",
       "\n",
       "      Specialization_Services Excellence  Specialization_Travel and Tourism  \\\n",
       "8957                                   0                                  0   \n",
       "2826                                   0                                  0   \n",
       "8498                                   0                                  0   \n",
       "2170                                   0                                  0   \n",
       "4169                                   0                                  0   \n",
       "\n",
       "      Lead Source_Direct Traffic  Lead Source_Google  Lead Source_Olark Chat  \\\n",
       "8957                           0                   0                       0   \n",
       "2826                           1                   0                       0   \n",
       "8498                           1                   0                       0   \n",
       "2170                           1                   0                       0   \n",
       "4169                           1                   0                       0   \n",
       "\n",
       "      Lead Source_Organic Search  Lead Source_Reference  \\\n",
       "8957                           1                      0   \n",
       "2826                           0                      0   \n",
       "8498                           0                      0   \n",
       "2170                           0                      0   \n",
       "4169                           0                      0   \n",
       "\n",
       "      Lead Source_Referral Sites  Lead Source_Social Media  \\\n",
       "8957                           0                         0   \n",
       "2826                           0                         0   \n",
       "8498                           0                         0   \n",
       "2170                           0                         0   \n",
       "4169                           0                         0   \n",
       "\n",
       "      Lead Source_Welingak Website  Last Activity_Converted to Lead  \\\n",
       "8957                             0                                0   \n",
       "2826                             0                                0   \n",
       "8498                             0                                0   \n",
       "2170                             0                                0   \n",
       "4169                             0                                0   \n",
       "\n",
       "      Last Activity_Email Bounced  Last Activity_Email Link Clicked  \\\n",
       "8957                            0                                 0   \n",
       "2826                            0                                 0   \n",
       "8498                            1                                 0   \n",
       "2170                            0                                 0   \n",
       "4169                            0                                 0   \n",
       "\n",
       "      Last Activity_Email Opened  Last Activity_Form Submitted on Website  \\\n",
       "8957                           0                                        0   \n",
       "2826                           0                                        0   \n",
       "8498                           0                                        0   \n",
       "2170                           0                                        0   \n",
       "4169                           1                                        0   \n",
       "\n",
       "      Last Activity_Olark Chat Conversation  \\\n",
       "8957                                      0   \n",
       "2826                                      0   \n",
       "8498                                      0   \n",
       "2170                                      0   \n",
       "4169                                      0   \n",
       "\n",
       "      Last Activity_Page Visited on Website  Last Activity_SMS Sent  \\\n",
       "8957                                      0                       1   \n",
       "2826                                      0                       1   \n",
       "8498                                      0                       0   \n",
       "2170                                      1                       0   \n",
       "4169                                      0                       0   \n",
       "\n",
       "      Last Notable Activity_Email Link Clicked  \\\n",
       "8957                                         0   \n",
       "2826                                         0   \n",
       "8498                                         0   \n",
       "2170                                         0   \n",
       "4169                                         0   \n",
       "\n",
       "      Last Notable Activity_Email Opened  Last Notable Activity_Modified  \\\n",
       "8957                                   0                               0   \n",
       "2826                                   0                               0   \n",
       "8498                                   0                               1   \n",
       "2170                                   0                               0   \n",
       "4169                                   1                               0   \n",
       "\n",
       "      Last Notable Activity_Olark Chat Conversation  \\\n",
       "8957                                              0   \n",
       "2826                                              0   \n",
       "8498                                              0   \n",
       "2170                                              0   \n",
       "4169                                              0   \n",
       "\n",
       "      Last Notable Activity_Page Visited on Website  \\\n",
       "8957                                              0   \n",
       "2826                                              0   \n",
       "8498                                              0   \n",
       "2170                                              1   \n",
       "4169                                              0   \n",
       "\n",
       "      Last Notable Activity_SMS Sent  Tags_Busy  Tags_Closed by Horizzon  \\\n",
       "8957                               1          1                        0   \n",
       "2826                               1          1                        0   \n",
       "8498                               0          0                        0   \n",
       "2170                               0          0                        0   \n",
       "4169                               0          0                        0   \n",
       "\n",
       "      Tags_Interested in other courses  Tags_Lost to EINS  Tags_Other_Tags  \\\n",
       "8957                                 0                  0                0   \n",
       "2826                                 0                  0                0   \n",
       "8498                                 0                  0                0   \n",
       "2170                                 0                  0                0   \n",
       "4169                                 0                  0                0   \n",
       "\n",
       "      Tags_Ringing  Tags_Will revert after reading the email  \n",
       "8957             0                                         0  \n",
       "2826             0                                         0  \n",
       "8498             0                                         0  \n",
       "2170             0                                         0  \n",
       "4169             0                                         0  "
      ]
     },
     "execution_count": 795,
     "metadata": {},
     "output_type": "execute_result"
    }
   ],
   "source": [
    "# Creating an instance of the StandardScaler class\n",
    "scaler = StandardScaler()\n",
    "\n",
    "# Identify the numeric columns in the training dataset\n",
    "num_cols = X_train.select_dtypes(include=['float64', 'int64']).columns\n",
    "\n",
    "# Applying the scaler to the numeric columns in the training dataset\n",
    "X_train[num_cols] = scaler.fit_transform(X_train[num_cols])\n",
    "\n",
    "\n",
    "X_train.head()"
   ]
  },
  {
   "cell_type": "markdown",
   "id": "4e3d99f8",
   "metadata": {},
   "source": [
    "#### Model building using stats models and RFE approach:"
   ]
  },
  {
   "cell_type": "code",
   "execution_count": 796,
   "id": "6af452cc",
   "metadata": {},
   "outputs": [],
   "source": [
    "# Importing necessary Libary\n",
    "\n",
    "import statsmodels.api as sm"
   ]
  },
  {
   "cell_type": "code",
   "execution_count": 797,
   "id": "edea1450",
   "metadata": {},
   "outputs": [
    {
     "data": {
      "text/plain": [
       "RFE(estimator=LogisticRegression(), n_features_to_select=15)"
      ]
     },
     "execution_count": 797,
     "metadata": {},
     "output_type": "execute_result"
    }
   ],
   "source": [
    "from sklearn.linear_model import LogisticRegression\n",
    "from sklearn.feature_selection import RFE\n",
    "\n",
    "logreg = LogisticRegression()\n",
    "rfe = RFE(logreg, n_features_to_select=15) # create RFE object with 15 features to select\n",
    "rfe.fit(X_train, y_train) # fit RFE object to training data"
   ]
  },
  {
   "cell_type": "code",
   "execution_count": 798,
   "id": "e9b6955a",
   "metadata": {},
   "outputs": [
    {
     "data": {
      "text/plain": [
       "array([False,  True, False, False,  True, False, False,  True,  True,\n",
       "       False, False, False, False, False, False, False, False, False,\n",
       "       False, False, False, False, False, False, False, False, False,\n",
       "       False, False, False, False, False,  True, False,  True, False,\n",
       "       False, False, False, False,  True, False, False, False, False,\n",
       "       False,  True,  True,  True,  True,  True,  True,  True,  True])"
      ]
     },
     "execution_count": 798,
     "metadata": {},
     "output_type": "execute_result"
    }
   ],
   "source": [
    "rfe.support_"
   ]
  },
  {
   "cell_type": "code",
   "execution_count": 799,
   "id": "bc3d657d",
   "metadata": {},
   "outputs": [
    {
     "data": {
      "text/plain": [
       "[('TotalVisits', False, 20),\n",
       " ('Total Time Spent on Website', True, 1),\n",
       " ('Page Views Per Visit', False, 23),\n",
       " ('Lead Origin_Landing Page Submission', False, 5),\n",
       " ('Lead Origin_Lead Add Form', True, 1),\n",
       " ('What is your current occupation_Housewife', False, 28),\n",
       " ('What is your current occupation_Other', False, 25),\n",
       " ('What is your current occupation_Student', True, 1),\n",
       " ('What is your current occupation_Unemployed', True, 1),\n",
       " ('What is your current occupation_Working Professional', False, 4),\n",
       " ('City_Other Cities', False, 39),\n",
       " ('City_Other Cities of Maharashtra', False, 31),\n",
       " ('City_Other Metro Cities', False, 40),\n",
       " ('City_Thane & Outskirts', False, 36),\n",
       " ('City_Tier II Cities', False, 38),\n",
       " ('Specialization_Banking, Investment And Insurance', False, 15),\n",
       " ('Specialization_Business Administration', False, 16),\n",
       " ('Specialization_E-Business', False, 29),\n",
       " ('Specialization_E-COMMERCE', False, 13),\n",
       " ('Specialization_International Business', False, 21),\n",
       " ('Specialization_Management_Specializations', False, 17),\n",
       " ('Specialization_Media and Advertising', False, 24),\n",
       " ('Specialization_Rural and Agribusiness', False, 18),\n",
       " ('Specialization_Services Excellence', False, 26),\n",
       " ('Specialization_Travel and Tourism', False, 30),\n",
       " ('Lead Source_Direct Traffic', False, 14),\n",
       " ('Lead Source_Google', False, 34),\n",
       " ('Lead Source_Olark Chat', False, 22),\n",
       " ('Lead Source_Organic Search', False, 37),\n",
       " ('Lead Source_Reference', False, 33),\n",
       " ('Lead Source_Referral Sites', False, 27),\n",
       " ('Lead Source_Social Media', False, 7),\n",
       " ('Lead Source_Welingak Website', True, 1),\n",
       " ('Last Activity_Converted to Lead', False, 3),\n",
       " ('Last Activity_Email Bounced', True, 1),\n",
       " ('Last Activity_Email Link Clicked', False, 12),\n",
       " ('Last Activity_Email Opened', False, 10),\n",
       " ('Last Activity_Form Submitted on Website', False, 11),\n",
       " ('Last Activity_Olark Chat Conversation', False, 32),\n",
       " ('Last Activity_Page Visited on Website', False, 19),\n",
       " ('Last Activity_SMS Sent', True, 1),\n",
       " ('Last Notable Activity_Email Link Clicked', False, 8),\n",
       " ('Last Notable Activity_Email Opened', False, 9),\n",
       " ('Last Notable Activity_Modified', False, 2),\n",
       " ('Last Notable Activity_Olark Chat Conversation', False, 6),\n",
       " ('Last Notable Activity_Page Visited on Website', False, 35),\n",
       " ('Last Notable Activity_SMS Sent', True, 1),\n",
       " ('Tags_Busy', True, 1),\n",
       " ('Tags_Closed by Horizzon', True, 1),\n",
       " ('Tags_Interested in other courses', True, 1),\n",
       " ('Tags_Lost to EINS', True, 1),\n",
       " ('Tags_Other_Tags', True, 1),\n",
       " ('Tags_Ringing', True, 1),\n",
       " ('Tags_Will revert after reading the email', True, 1)]"
      ]
     },
     "execution_count": 799,
     "metadata": {},
     "output_type": "execute_result"
    }
   ],
   "source": [
    "# Creating a list of tuples containing the feature name, whether it was selected by RFE, and its ranking\n",
    "selected_features = list(zip(X_train.columns, rfe.support_, rfe.ranking_))\n",
    "selected_features"
   ]
  },
  {
   "cell_type": "code",
   "execution_count": 800,
   "id": "bb821cae",
   "metadata": {},
   "outputs": [
    {
     "name": "stdout",
     "output_type": "stream",
     "text": [
      "Index(['Total Time Spent on Website', 'Lead Origin_Lead Add Form',\n",
      "       'What is your current occupation_Student',\n",
      "       'What is your current occupation_Unemployed',\n",
      "       'Lead Source_Welingak Website', 'Last Activity_Email Bounced',\n",
      "       'Last Activity_SMS Sent', 'Last Notable Activity_SMS Sent', 'Tags_Busy',\n",
      "       'Tags_Closed by Horizzon', 'Tags_Interested in other courses',\n",
      "       'Tags_Lost to EINS', 'Tags_Other_Tags', 'Tags_Ringing',\n",
      "       'Tags_Will revert after reading the email'],\n",
      "      dtype='object')\n"
     ]
    }
   ],
   "source": [
    "# Extracting the names of the RFE-supported columns into a list\n",
    "selected_columns = X_train.columns[rfe.support_]\n",
    "print(selected_columns)"
   ]
  },
  {
   "cell_type": "code",
   "execution_count": 801,
   "id": "765cdb54",
   "metadata": {},
   "outputs": [
    {
     "name": "stdout",
     "output_type": "stream",
     "text": [
      "Index(['TotalVisits', 'Page Views Per Visit',\n",
      "       'Lead Origin_Landing Page Submission',\n",
      "       'What is your current occupation_Housewife',\n",
      "       'What is your current occupation_Other',\n",
      "       'What is your current occupation_Working Professional',\n",
      "       'City_Other Cities', 'City_Other Cities of Maharashtra',\n",
      "       'City_Other Metro Cities', 'City_Thane & Outskirts',\n",
      "       'City_Tier II Cities',\n",
      "       'Specialization_Banking, Investment And Insurance',\n",
      "       'Specialization_Business Administration', 'Specialization_E-Business',\n",
      "       'Specialization_E-COMMERCE', 'Specialization_International Business',\n",
      "       'Specialization_Management_Specializations',\n",
      "       'Specialization_Media and Advertising',\n",
      "       'Specialization_Rural and Agribusiness',\n",
      "       'Specialization_Services Excellence',\n",
      "       'Specialization_Travel and Tourism', 'Lead Source_Direct Traffic',\n",
      "       'Lead Source_Google', 'Lead Source_Olark Chat',\n",
      "       'Lead Source_Organic Search', 'Lead Source_Reference',\n",
      "       'Lead Source_Referral Sites', 'Lead Source_Social Media',\n",
      "       'Last Activity_Converted to Lead', 'Last Activity_Email Link Clicked',\n",
      "       'Last Activity_Email Opened', 'Last Activity_Form Submitted on Website',\n",
      "       'Last Activity_Olark Chat Conversation',\n",
      "       'Last Activity_Page Visited on Website',\n",
      "       'Last Notable Activity_Email Link Clicked',\n",
      "       'Last Notable Activity_Email Opened', 'Last Notable Activity_Modified',\n",
      "       'Last Notable Activity_Olark Chat Conversation',\n",
      "       'Last Notable Activity_Page Visited on Website'],\n",
      "      dtype='object')\n"
     ]
    }
   ],
   "source": [
    "# Extracting the names of the columns that were not selected by RFE into a list\n",
    "excluded_columns = X_train.columns[~rfe.support_]\n",
    "\n",
    "print(excluded_columns)"
   ]
  },
  {
   "cell_type": "markdown",
   "id": "0e8e359f",
   "metadata": {},
   "source": [
    "### Building first GLM Model"
   ]
  },
  {
   "cell_type": "code",
   "execution_count": 802,
   "id": "f50b29c3",
   "metadata": {
    "scrolled": true
   },
   "outputs": [
    {
     "name": "stdout",
     "output_type": "stream",
     "text": [
      "                 Generalized Linear Model Regression Results                  \n",
      "==============================================================================\n",
      "Dep. Variable:              Converted   No. Observations:                 4694\n",
      "Model:                            GLM   Df Residuals:                     4678\n",
      "Model Family:                Binomial   Df Model:                           15\n",
      "Link Function:                  Logit   Scale:                          1.0000\n",
      "Method:                          IRLS   Log-Likelihood:                -902.10\n",
      "Date:                Mon, 20 May 2024   Deviance:                       1804.2\n",
      "Time:                        00:14:33   Pearson chi2:                 5.07e+03\n",
      "No. Iterations:                    22   Pseudo R-squ. (CS):             0.6079\n",
      "Covariance Type:            nonrobust                                         \n",
      "==============================================================================================================\n",
      "                                                 coef    std err          z      P>|z|      [0.025      0.975]\n",
      "--------------------------------------------------------------------------------------------------------------\n",
      "const                                         -0.4123      0.452     -0.913      0.361      -1.298       0.473\n",
      "Total Time Spent on Website                    1.1541      0.064     17.931      0.000       1.028       1.280\n",
      "Lead Origin_Lead Add Form                     21.2923    1.7e+04      0.001      0.999   -3.33e+04    3.34e+04\n",
      "What is your current occupation_Student       -1.7545      0.740     -2.372      0.018      -3.204      -0.305\n",
      "What is your current occupation_Unemployed    -1.3521      0.448     -3.020      0.003      -2.230      -0.475\n",
      "Lead Source_Welingak Website                   2.5514   3.42e+04   7.47e-05      1.000    -6.7e+04     6.7e+04\n",
      "Last Activity_Email Bounced                   -2.0448      0.580     -3.527      0.000      -3.181      -0.908\n",
      "Last Activity_SMS Sent                         0.5076      0.213      2.380      0.017       0.090       0.926\n",
      "Last Notable Activity_SMS Sent                 1.7593      0.232      7.578      0.000       1.304       2.214\n",
      "Tags_Busy                                      1.0602      0.234      4.540      0.000       0.603       1.518\n",
      "Tags_Closed by Horizzon                        6.0553      1.022      5.927      0.000       4.053       8.058\n",
      "Tags_Interested in other courses              -2.5845      0.458     -5.638      0.000      -3.483      -1.686\n",
      "Tags_Lost to EINS                              5.1277      0.606      8.462      0.000       3.940       6.315\n",
      "Tags_Other_Tags                               -2.7575      0.261    -10.549      0.000      -3.270      -2.245\n",
      "Tags_Ringing                                  -3.4175      0.278    -12.311      0.000      -3.962      -2.873\n",
      "Tags_Will revert after reading the email       4.3347      0.213     20.398      0.000       3.918       4.751\n",
      "==============================================================================================================\n"
     ]
    }
   ],
   "source": [
    "# Adding a constant to the training data\n",
    "X_train_sm = sm.add_constant(X_train[selected_columns])\n",
    "\n",
    "# Fitting the model to the training data\n",
    "logm1 = sm.GLM(y_train, X_train_sm, family=sm.families.Binomial())\n",
    "res = logm1.fit()\n",
    "\n",
    "# Printing a summary of the model\n",
    "print(res.summary())"
   ]
  },
  {
   "cell_type": "markdown",
   "id": "c924f1ea",
   "metadata": {},
   "source": [
    "# Model 2"
   ]
  },
  {
   "cell_type": "code",
   "execution_count": 803,
   "id": "19089815",
   "metadata": {},
   "outputs": [
    {
     "data": {
      "text/html": [
       "<table class=\"simpletable\">\n",
       "<caption>Generalized Linear Model Regression Results</caption>\n",
       "<tr>\n",
       "  <th>Dep. Variable:</th>       <td>Converted</td>    <th>  No. Observations:  </th>  <td>  4694</td> \n",
       "</tr>\n",
       "<tr>\n",
       "  <th>Model:</th>                  <td>GLM</td>       <th>  Df Residuals:      </th>  <td>  4678</td> \n",
       "</tr>\n",
       "<tr>\n",
       "  <th>Model Family:</th>        <td>Binomial</td>     <th>  Df Model:          </th>  <td>    15</td> \n",
       "</tr>\n",
       "<tr>\n",
       "  <th>Link Function:</th>         <td>Logit</td>      <th>  Scale:             </th> <td>  1.0000</td>\n",
       "</tr>\n",
       "<tr>\n",
       "  <th>Method:</th>                <td>IRLS</td>       <th>  Log-Likelihood:    </th> <td> -902.10</td>\n",
       "</tr>\n",
       "<tr>\n",
       "  <th>Date:</th>            <td>Mon, 20 May 2024</td> <th>  Deviance:          </th> <td>  1804.2</td>\n",
       "</tr>\n",
       "<tr>\n",
       "  <th>Time:</th>                <td>00:14:34</td>     <th>  Pearson chi2:      </th> <td>5.07e+03</td>\n",
       "</tr>\n",
       "<tr>\n",
       "  <th>No. Iterations:</th>         <td>22</td>        <th>  Pseudo R-squ. (CS):</th>  <td>0.6079</td> \n",
       "</tr>\n",
       "<tr>\n",
       "  <th>Covariance Type:</th>     <td>nonrobust</td>    <th>                     </th>     <td> </td>   \n",
       "</tr>\n",
       "</table>\n",
       "<table class=\"simpletable\">\n",
       "<tr>\n",
       "                       <td></td>                         <th>coef</th>     <th>std err</th>      <th>z</th>      <th>P>|z|</th>  <th>[0.025</th>    <th>0.975]</th>  \n",
       "</tr>\n",
       "<tr>\n",
       "  <th>const</th>                                      <td>   -0.4123</td> <td>    0.452</td> <td>   -0.913</td> <td> 0.361</td> <td>   -1.298</td> <td>    0.473</td>\n",
       "</tr>\n",
       "<tr>\n",
       "  <th>Total Time Spent on Website</th>                <td>    1.1541</td> <td>    0.064</td> <td>   17.931</td> <td> 0.000</td> <td>    1.028</td> <td>    1.280</td>\n",
       "</tr>\n",
       "<tr>\n",
       "  <th>Lead Origin_Lead Add Form</th>                  <td>   21.2923</td> <td>  1.7e+04</td> <td>    0.001</td> <td> 0.999</td> <td>-3.33e+04</td> <td> 3.34e+04</td>\n",
       "</tr>\n",
       "<tr>\n",
       "  <th>What is your current occupation_Student</th>    <td>   -1.7545</td> <td>    0.740</td> <td>   -2.372</td> <td> 0.018</td> <td>   -3.204</td> <td>   -0.305</td>\n",
       "</tr>\n",
       "<tr>\n",
       "  <th>What is your current occupation_Unemployed</th> <td>   -1.3521</td> <td>    0.448</td> <td>   -3.020</td> <td> 0.003</td> <td>   -2.230</td> <td>   -0.475</td>\n",
       "</tr>\n",
       "<tr>\n",
       "  <th>Lead Source_Welingak Website</th>               <td>    2.5514</td> <td> 3.42e+04</td> <td> 7.47e-05</td> <td> 1.000</td> <td> -6.7e+04</td> <td>  6.7e+04</td>\n",
       "</tr>\n",
       "<tr>\n",
       "  <th>Last Activity_Email Bounced</th>                <td>   -2.0448</td> <td>    0.580</td> <td>   -3.527</td> <td> 0.000</td> <td>   -3.181</td> <td>   -0.908</td>\n",
       "</tr>\n",
       "<tr>\n",
       "  <th>Last Activity_SMS Sent</th>                     <td>    0.5076</td> <td>    0.213</td> <td>    2.380</td> <td> 0.017</td> <td>    0.090</td> <td>    0.926</td>\n",
       "</tr>\n",
       "<tr>\n",
       "  <th>Last Notable Activity_SMS Sent</th>             <td>    1.7593</td> <td>    0.232</td> <td>    7.578</td> <td> 0.000</td> <td>    1.304</td> <td>    2.214</td>\n",
       "</tr>\n",
       "<tr>\n",
       "  <th>Tags_Busy</th>                                  <td>    1.0602</td> <td>    0.234</td> <td>    4.540</td> <td> 0.000</td> <td>    0.603</td> <td>    1.518</td>\n",
       "</tr>\n",
       "<tr>\n",
       "  <th>Tags_Closed by Horizzon</th>                    <td>    6.0553</td> <td>    1.022</td> <td>    5.927</td> <td> 0.000</td> <td>    4.053</td> <td>    8.058</td>\n",
       "</tr>\n",
       "<tr>\n",
       "  <th>Tags_Interested in other courses</th>           <td>   -2.5845</td> <td>    0.458</td> <td>   -5.638</td> <td> 0.000</td> <td>   -3.483</td> <td>   -1.686</td>\n",
       "</tr>\n",
       "<tr>\n",
       "  <th>Tags_Lost to EINS</th>                          <td>    5.1277</td> <td>    0.606</td> <td>    8.462</td> <td> 0.000</td> <td>    3.940</td> <td>    6.315</td>\n",
       "</tr>\n",
       "<tr>\n",
       "  <th>Tags_Other_Tags</th>                            <td>   -2.7575</td> <td>    0.261</td> <td>  -10.549</td> <td> 0.000</td> <td>   -3.270</td> <td>   -2.245</td>\n",
       "</tr>\n",
       "<tr>\n",
       "  <th>Tags_Ringing</th>                               <td>   -3.4175</td> <td>    0.278</td> <td>  -12.311</td> <td> 0.000</td> <td>   -3.962</td> <td>   -2.873</td>\n",
       "</tr>\n",
       "<tr>\n",
       "  <th>Tags_Will revert after reading the email</th>   <td>    4.3347</td> <td>    0.213</td> <td>   20.398</td> <td> 0.000</td> <td>    3.918</td> <td>    4.751</td>\n",
       "</tr>\n",
       "</table>"
      ],
      "text/plain": [
       "<class 'statsmodels.iolib.summary.Summary'>\n",
       "\"\"\"\n",
       "                 Generalized Linear Model Regression Results                  \n",
       "==============================================================================\n",
       "Dep. Variable:              Converted   No. Observations:                 4694\n",
       "Model:                            GLM   Df Residuals:                     4678\n",
       "Model Family:                Binomial   Df Model:                           15\n",
       "Link Function:                  Logit   Scale:                          1.0000\n",
       "Method:                          IRLS   Log-Likelihood:                -902.10\n",
       "Date:                Mon, 20 May 2024   Deviance:                       1804.2\n",
       "Time:                        00:14:34   Pearson chi2:                 5.07e+03\n",
       "No. Iterations:                    22   Pseudo R-squ. (CS):             0.6079\n",
       "Covariance Type:            nonrobust                                         \n",
       "==============================================================================================================\n",
       "                                                 coef    std err          z      P>|z|      [0.025      0.975]\n",
       "--------------------------------------------------------------------------------------------------------------\n",
       "const                                         -0.4123      0.452     -0.913      0.361      -1.298       0.473\n",
       "Total Time Spent on Website                    1.1541      0.064     17.931      0.000       1.028       1.280\n",
       "Lead Origin_Lead Add Form                     21.2923    1.7e+04      0.001      0.999   -3.33e+04    3.34e+04\n",
       "What is your current occupation_Student       -1.7545      0.740     -2.372      0.018      -3.204      -0.305\n",
       "What is your current occupation_Unemployed    -1.3521      0.448     -3.020      0.003      -2.230      -0.475\n",
       "Lead Source_Welingak Website                   2.5514   3.42e+04   7.47e-05      1.000    -6.7e+04     6.7e+04\n",
       "Last Activity_Email Bounced                   -2.0448      0.580     -3.527      0.000      -3.181      -0.908\n",
       "Last Activity_SMS Sent                         0.5076      0.213      2.380      0.017       0.090       0.926\n",
       "Last Notable Activity_SMS Sent                 1.7593      0.232      7.578      0.000       1.304       2.214\n",
       "Tags_Busy                                      1.0602      0.234      4.540      0.000       0.603       1.518\n",
       "Tags_Closed by Horizzon                        6.0553      1.022      5.927      0.000       4.053       8.058\n",
       "Tags_Interested in other courses              -2.5845      0.458     -5.638      0.000      -3.483      -1.686\n",
       "Tags_Lost to EINS                              5.1277      0.606      8.462      0.000       3.940       6.315\n",
       "Tags_Other_Tags                               -2.7575      0.261    -10.549      0.000      -3.270      -2.245\n",
       "Tags_Ringing                                  -3.4175      0.278    -12.311      0.000      -3.962      -2.873\n",
       "Tags_Will revert after reading the email       4.3347      0.213     20.398      0.000       3.918       4.751\n",
       "==============================================================================================================\n",
       "\"\"\""
      ]
     },
     "execution_count": 803,
     "metadata": {},
     "output_type": "execute_result"
    }
   ],
   "source": [
    "# Add a constant column to the training data\n",
    "X_train_sm = sm.add_constant(X_train[selected_columns])\n",
    "\n",
    "# Create a logistic regression model with binomial family\n",
    "logm2 = sm.GLM(y_train, X_train_sm, family = sm.families.Binomial())\n",
    "\n",
    "# Fit the model and store the results in res variable\n",
    "res = logm2.fit()\n",
    "\n",
    "# Print the summary of the fitted model\n",
    "res.summary()\n"
   ]
  },
  {
   "cell_type": "markdown",
   "id": "be21e3d2",
   "metadata": {},
   "source": [
    "- As all p-values are below a certain threshold, it might be worth examining the Variance Inflation Factor in order to investigate possible correlations among the variables."
   ]
  },
  {
   "cell_type": "code",
   "execution_count": 804,
   "id": "c41ec20a",
   "metadata": {},
   "outputs": [],
   "source": [
    "# Checking for the VIF values of the feature variables. \n",
    "from statsmodels.stats.outliers_influence import variance_inflation_factor"
   ]
  },
  {
   "cell_type": "code",
   "execution_count": 805,
   "id": "e766386a",
   "metadata": {},
   "outputs": [
    {
     "data": {
      "text/html": [
       "<div>\n",
       "<style scoped>\n",
       "    .dataframe tbody tr th:only-of-type {\n",
       "        vertical-align: middle;\n",
       "    }\n",
       "\n",
       "    .dataframe tbody tr th {\n",
       "        vertical-align: top;\n",
       "    }\n",
       "\n",
       "    .dataframe thead th {\n",
       "        text-align: right;\n",
       "    }\n",
       "</style>\n",
       "<table border=\"1\" class=\"dataframe\">\n",
       "  <thead>\n",
       "    <tr style=\"text-align: right;\">\n",
       "      <th></th>\n",
       "      <th>Features</th>\n",
       "      <th>VIF</th>\n",
       "    </tr>\n",
       "  </thead>\n",
       "  <tbody>\n",
       "    <tr>\n",
       "      <th>6</th>\n",
       "      <td>Last Activity_SMS Sent</td>\n",
       "      <td>5.23</td>\n",
       "    </tr>\n",
       "    <tr>\n",
       "      <th>7</th>\n",
       "      <td>Last Notable Activity_SMS Sent</td>\n",
       "      <td>4.94</td>\n",
       "    </tr>\n",
       "    <tr>\n",
       "      <th>3</th>\n",
       "      <td>What is your current occupation_Unemployed</td>\n",
       "      <td>2.81</td>\n",
       "    </tr>\n",
       "    <tr>\n",
       "      <th>14</th>\n",
       "      <td>Tags_Will revert after reading the email</td>\n",
       "      <td>1.64</td>\n",
       "    </tr>\n",
       "    <tr>\n",
       "      <th>12</th>\n",
       "      <td>Tags_Other_Tags</td>\n",
       "      <td>1.46</td>\n",
       "    </tr>\n",
       "    <tr>\n",
       "      <th>13</th>\n",
       "      <td>Tags_Ringing</td>\n",
       "      <td>1.44</td>\n",
       "    </tr>\n",
       "    <tr>\n",
       "      <th>1</th>\n",
       "      <td>Lead Origin_Lead Add Form</td>\n",
       "      <td>1.39</td>\n",
       "    </tr>\n",
       "    <tr>\n",
       "      <th>4</th>\n",
       "      <td>Lead Source_Welingak Website</td>\n",
       "      <td>1.30</td>\n",
       "    </tr>\n",
       "    <tr>\n",
       "      <th>0</th>\n",
       "      <td>Total Time Spent on Website</td>\n",
       "      <td>1.20</td>\n",
       "    </tr>\n",
       "    <tr>\n",
       "      <th>10</th>\n",
       "      <td>Tags_Interested in other courses</td>\n",
       "      <td>1.16</td>\n",
       "    </tr>\n",
       "    <tr>\n",
       "      <th>9</th>\n",
       "      <td>Tags_Closed by Horizzon</td>\n",
       "      <td>1.14</td>\n",
       "    </tr>\n",
       "    <tr>\n",
       "      <th>8</th>\n",
       "      <td>Tags_Busy</td>\n",
       "      <td>1.09</td>\n",
       "    </tr>\n",
       "    <tr>\n",
       "      <th>5</th>\n",
       "      <td>Last Activity_Email Bounced</td>\n",
       "      <td>1.08</td>\n",
       "    </tr>\n",
       "    <tr>\n",
       "      <th>2</th>\n",
       "      <td>What is your current occupation_Student</td>\n",
       "      <td>1.08</td>\n",
       "    </tr>\n",
       "    <tr>\n",
       "      <th>11</th>\n",
       "      <td>Tags_Lost to EINS</td>\n",
       "      <td>1.07</td>\n",
       "    </tr>\n",
       "  </tbody>\n",
       "</table>\n",
       "</div>"
      ],
      "text/plain": [
       "                                      Features   VIF\n",
       "6                       Last Activity_SMS Sent  5.23\n",
       "7               Last Notable Activity_SMS Sent  4.94\n",
       "3   What is your current occupation_Unemployed  2.81\n",
       "14    Tags_Will revert after reading the email  1.64\n",
       "12                             Tags_Other_Tags  1.46\n",
       "13                                Tags_Ringing  1.44\n",
       "1                    Lead Origin_Lead Add Form  1.39\n",
       "4                 Lead Source_Welingak Website  1.30\n",
       "0                  Total Time Spent on Website  1.20\n",
       "10            Tags_Interested in other courses  1.16\n",
       "9                      Tags_Closed by Horizzon  1.14\n",
       "8                                    Tags_Busy  1.09\n",
       "5                  Last Activity_Email Bounced  1.08\n",
       "2      What is your current occupation_Student  1.08\n",
       "11                           Tags_Lost to EINS  1.07"
      ]
     },
     "metadata": {},
     "output_type": "display_data"
    }
   ],
   "source": [
    "# Computing the variance inflation factors (VIFs) for the features in the training set\n",
    "vif_values = [variance_inflation_factor(X_train[selected_columns].values, i) for i in range(X_train[selected_columns].shape[1])]\n",
    "\n",
    "# Create a dataframe with the feature names and their respective VIFs, sorted by VIF in descending order\n",
    "vif_df = pd.DataFrame({'Features': X_train[selected_columns].columns, 'VIF': vif_values}).sort_values(by='VIF', ascending=False)\n",
    "vif_df['VIF'] = round(vif_df['VIF'], 2)\n",
    "\n",
    "# Displaying the VIF dataframe\n",
    "display(vif_df)\n"
   ]
  },
  {
   "cell_type": "markdown",
   "id": "7c818a41",
   "metadata": {},
   "source": [
    "- Its Seems to be given the strong correlation between two variables, it may be necessary to eliminate the variable with a higher VIF value."
   ]
  },
  {
   "cell_type": "markdown",
   "id": "3598e4ee",
   "metadata": {},
   "source": [
    "# Model 3"
   ]
  },
  {
   "cell_type": "code",
   "execution_count": 806,
   "id": "6bf5f949",
   "metadata": {},
   "outputs": [
    {
     "name": "stdout",
     "output_type": "stream",
     "text": [
      "                 Generalized Linear Model Regression Results                  \n",
      "==============================================================================\n",
      "Dep. Variable:              Converted   No. Observations:                 4694\n",
      "Model:                            GLM   Df Residuals:                     4678\n",
      "Model Family:                Binomial   Df Model:                           15\n",
      "Link Function:                  Logit   Scale:                          1.0000\n",
      "Method:                          IRLS   Log-Likelihood:                -902.10\n",
      "Date:                Mon, 20 May 2024   Deviance:                       1804.2\n",
      "Time:                        00:14:34   Pearson chi2:                 5.07e+03\n",
      "No. Iterations:                    22   Pseudo R-squ. (CS):             0.6079\n",
      "Covariance Type:            nonrobust                                         \n",
      "==============================================================================================================\n",
      "                                                 coef    std err          z      P>|z|      [0.025      0.975]\n",
      "--------------------------------------------------------------------------------------------------------------\n",
      "const                                         -0.4123      0.452     -0.913      0.361      -1.298       0.473\n",
      "Total Time Spent on Website                    1.1541      0.064     17.931      0.000       1.028       1.280\n",
      "Lead Origin_Lead Add Form                     21.2923    1.7e+04      0.001      0.999   -3.33e+04    3.34e+04\n",
      "What is your current occupation_Student       -1.7545      0.740     -2.372      0.018      -3.204      -0.305\n",
      "What is your current occupation_Unemployed    -1.3521      0.448     -3.020      0.003      -2.230      -0.475\n",
      "Lead Source_Welingak Website                   2.5514   3.42e+04   7.47e-05      1.000    -6.7e+04     6.7e+04\n",
      "Last Activity_Email Bounced                   -2.0448      0.580     -3.527      0.000      -3.181      -0.908\n",
      "Last Activity_SMS Sent                         0.5076      0.213      2.380      0.017       0.090       0.926\n",
      "Last Notable Activity_SMS Sent                 1.7593      0.232      7.578      0.000       1.304       2.214\n",
      "Tags_Busy                                      1.0602      0.234      4.540      0.000       0.603       1.518\n",
      "Tags_Closed by Horizzon                        6.0553      1.022      5.927      0.000       4.053       8.058\n",
      "Tags_Interested in other courses              -2.5845      0.458     -5.638      0.000      -3.483      -1.686\n",
      "Tags_Lost to EINS                              5.1277      0.606      8.462      0.000       3.940       6.315\n",
      "Tags_Other_Tags                               -2.7575      0.261    -10.549      0.000      -3.270      -2.245\n",
      "Tags_Ringing                                  -3.4175      0.278    -12.311      0.000      -3.962      -2.873\n",
      "Tags_Will revert after reading the email       4.3347      0.213     20.398      0.000       3.918       4.751\n",
      "==============================================================================================================\n"
     ]
    }
   ],
   "source": [
    "X_train_with_const = sm.add_constant(X_train[selected_columns])\n",
    "\n",
    "# Create a logistic regression model with binomial family\n",
    "binomial_model = sm.GLM(y_train, X_train_with_const, family=sm.families.Binomial())\n",
    "\n",
    "# Fit the model and store the results in results variable\n",
    "results = binomial_model.fit()\n",
    "\n",
    "# Print the summary of the fitted model\n",
    "print(results.summary())"
   ]
  },
  {
   "cell_type": "code",
   "execution_count": 807,
   "id": "5217938d",
   "metadata": {},
   "outputs": [
    {
     "data": {
      "text/html": [
       "<div>\n",
       "<style scoped>\n",
       "    .dataframe tbody tr th:only-of-type {\n",
       "        vertical-align: middle;\n",
       "    }\n",
       "\n",
       "    .dataframe tbody tr th {\n",
       "        vertical-align: top;\n",
       "    }\n",
       "\n",
       "    .dataframe thead th {\n",
       "        text-align: right;\n",
       "    }\n",
       "</style>\n",
       "<table border=\"1\" class=\"dataframe\">\n",
       "  <thead>\n",
       "    <tr style=\"text-align: right;\">\n",
       "      <th></th>\n",
       "      <th>Features</th>\n",
       "      <th>VIF</th>\n",
       "    </tr>\n",
       "  </thead>\n",
       "  <tbody>\n",
       "    <tr>\n",
       "      <th>6</th>\n",
       "      <td>Last Activity_SMS Sent</td>\n",
       "      <td>5.23</td>\n",
       "    </tr>\n",
       "    <tr>\n",
       "      <th>7</th>\n",
       "      <td>Last Notable Activity_SMS Sent</td>\n",
       "      <td>4.94</td>\n",
       "    </tr>\n",
       "    <tr>\n",
       "      <th>3</th>\n",
       "      <td>What is your current occupation_Unemployed</td>\n",
       "      <td>2.81</td>\n",
       "    </tr>\n",
       "    <tr>\n",
       "      <th>14</th>\n",
       "      <td>Tags_Will revert after reading the email</td>\n",
       "      <td>1.64</td>\n",
       "    </tr>\n",
       "    <tr>\n",
       "      <th>12</th>\n",
       "      <td>Tags_Other_Tags</td>\n",
       "      <td>1.46</td>\n",
       "    </tr>\n",
       "    <tr>\n",
       "      <th>13</th>\n",
       "      <td>Tags_Ringing</td>\n",
       "      <td>1.44</td>\n",
       "    </tr>\n",
       "    <tr>\n",
       "      <th>1</th>\n",
       "      <td>Lead Origin_Lead Add Form</td>\n",
       "      <td>1.39</td>\n",
       "    </tr>\n",
       "    <tr>\n",
       "      <th>4</th>\n",
       "      <td>Lead Source_Welingak Website</td>\n",
       "      <td>1.30</td>\n",
       "    </tr>\n",
       "    <tr>\n",
       "      <th>0</th>\n",
       "      <td>Total Time Spent on Website</td>\n",
       "      <td>1.20</td>\n",
       "    </tr>\n",
       "    <tr>\n",
       "      <th>10</th>\n",
       "      <td>Tags_Interested in other courses</td>\n",
       "      <td>1.16</td>\n",
       "    </tr>\n",
       "    <tr>\n",
       "      <th>9</th>\n",
       "      <td>Tags_Closed by Horizzon</td>\n",
       "      <td>1.14</td>\n",
       "    </tr>\n",
       "    <tr>\n",
       "      <th>8</th>\n",
       "      <td>Tags_Busy</td>\n",
       "      <td>1.09</td>\n",
       "    </tr>\n",
       "    <tr>\n",
       "      <th>2</th>\n",
       "      <td>What is your current occupation_Student</td>\n",
       "      <td>1.08</td>\n",
       "    </tr>\n",
       "    <tr>\n",
       "      <th>5</th>\n",
       "      <td>Last Activity_Email Bounced</td>\n",
       "      <td>1.08</td>\n",
       "    </tr>\n",
       "    <tr>\n",
       "      <th>11</th>\n",
       "      <td>Tags_Lost to EINS</td>\n",
       "      <td>1.07</td>\n",
       "    </tr>\n",
       "  </tbody>\n",
       "</table>\n",
       "</div>"
      ],
      "text/plain": [
       "                                      Features   VIF\n",
       "6                       Last Activity_SMS Sent  5.23\n",
       "7               Last Notable Activity_SMS Sent  4.94\n",
       "3   What is your current occupation_Unemployed  2.81\n",
       "14    Tags_Will revert after reading the email  1.64\n",
       "12                             Tags_Other_Tags  1.46\n",
       "13                                Tags_Ringing  1.44\n",
       "1                    Lead Origin_Lead Add Form  1.39\n",
       "4                 Lead Source_Welingak Website  1.30\n",
       "0                  Total Time Spent on Website  1.20\n",
       "10            Tags_Interested in other courses  1.16\n",
       "9                      Tags_Closed by Horizzon  1.14\n",
       "8                                    Tags_Busy  1.09\n",
       "2      What is your current occupation_Student  1.08\n",
       "5                  Last Activity_Email Bounced  1.08\n",
       "11                           Tags_Lost to EINS  1.07"
      ]
     },
     "execution_count": 807,
     "metadata": {},
     "output_type": "execute_result"
    }
   ],
   "source": [
    "# Creating a dataframe that will contain the names of all the feature variables and their respective VIFs\n",
    "vif = pd.DataFrame()\n",
    "vif['Features'] = X_train[selected_columns].columns\n",
    "vif['VIF'] = [variance_inflation_factor(X_train[selected_columns].values, i) for i in range(X_train[selected_columns].shape[1])]\n",
    "vif['VIF'] = round(vif['VIF'], 2)\n",
    "vif = vif.sort_values(by = \"VIF\", ascending = False)\n",
    "vif"
   ]
  },
  {
   "cell_type": "markdown",
   "id": "5d170010",
   "metadata": {},
   "source": [
    "- Since the values appear to be properly organized, the next step is to generate probabilities, lead scores, and predictions for the training data."
   ]
  },
  {
   "cell_type": "code",
   "execution_count": 808,
   "id": "d42ed161",
   "metadata": {},
   "outputs": [
    {
     "data": {
      "text/plain": [
       "8957    0.644229\n",
       "2826    0.948205\n",
       "8498    0.008255\n",
       "2170    0.045882\n",
       "4169    0.045236\n",
       "7307    0.488456\n",
       "4295    0.074082\n",
       "3026    0.082409\n",
       "1170    0.651959\n",
       "7632    0.003017\n",
       "dtype: float64"
      ]
     },
     "execution_count": 808,
     "metadata": {},
     "output_type": "execute_result"
    }
   ],
   "source": [
    "# Predicting the target variable for the training set using the trained model\n",
    "y_train_pred = res.predict(X_train_sm)\n",
    "y_train_pred[:10]"
   ]
  },
  {
   "cell_type": "code",
   "execution_count": 809,
   "id": "d250f834",
   "metadata": {},
   "outputs": [
    {
     "data": {
      "text/plain": [
       "array([0.64422945, 0.94820485, 0.00825454, 0.04588245, 0.0452364 ,\n",
       "       0.48845609, 0.07408197, 0.08240917, 0.65195927, 0.0030166 ])"
      ]
     },
     "execution_count": 809,
     "metadata": {},
     "output_type": "execute_result"
    }
   ],
   "source": [
    "y_train_pred = y_train_pred.values.reshape(-1)\n",
    "y_train_pred[:10]"
   ]
  },
  {
   "cell_type": "code",
   "execution_count": 810,
   "id": "4cf8ff4b",
   "metadata": {},
   "outputs": [
    {
     "data": {
      "text/html": [
       "<div>\n",
       "<style scoped>\n",
       "    .dataframe tbody tr th:only-of-type {\n",
       "        vertical-align: middle;\n",
       "    }\n",
       "\n",
       "    .dataframe tbody tr th {\n",
       "        vertical-align: top;\n",
       "    }\n",
       "\n",
       "    .dataframe thead th {\n",
       "        text-align: right;\n",
       "    }\n",
       "</style>\n",
       "<table border=\"1\" class=\"dataframe\">\n",
       "  <thead>\n",
       "    <tr style=\"text-align: right;\">\n",
       "      <th></th>\n",
       "      <th>Converted</th>\n",
       "      <th>Converted_prob</th>\n",
       "      <th>Prospect ID</th>\n",
       "    </tr>\n",
       "  </thead>\n",
       "  <tbody>\n",
       "    <tr>\n",
       "      <th>0</th>\n",
       "      <td>0</td>\n",
       "      <td>0.644229</td>\n",
       "      <td>8957</td>\n",
       "    </tr>\n",
       "    <tr>\n",
       "      <th>1</th>\n",
       "      <td>1</td>\n",
       "      <td>0.948205</td>\n",
       "      <td>2826</td>\n",
       "    </tr>\n",
       "    <tr>\n",
       "      <th>2</th>\n",
       "      <td>0</td>\n",
       "      <td>0.008255</td>\n",
       "      <td>8498</td>\n",
       "    </tr>\n",
       "  </tbody>\n",
       "</table>\n",
       "</div>"
      ],
      "text/plain": [
       "   Converted  Converted_prob  Prospect ID\n",
       "0          0        0.644229         8957\n",
       "1          1        0.948205         2826\n",
       "2          0        0.008255         8498"
      ]
     },
     "execution_count": 810,
     "metadata": {},
     "output_type": "execute_result"
    }
   ],
   "source": [
    "y_train_pred_final = pd.DataFrame({'Converted': y_train.values,\n",
    "                                   'Converted_prob': y_train_pred, 'Prospect ID': y_train.index})\n",
    "y_train_pred_final.head(3)"
   ]
  },
  {
   "cell_type": "code",
   "execution_count": 811,
   "id": "593ac5c4",
   "metadata": {},
   "outputs": [
    {
     "data": {
      "text/html": [
       "<div>\n",
       "<style scoped>\n",
       "    .dataframe tbody tr th:only-of-type {\n",
       "        vertical-align: middle;\n",
       "    }\n",
       "\n",
       "    .dataframe tbody tr th {\n",
       "        vertical-align: top;\n",
       "    }\n",
       "\n",
       "    .dataframe thead th {\n",
       "        text-align: right;\n",
       "    }\n",
       "</style>\n",
       "<table border=\"1\" class=\"dataframe\">\n",
       "  <thead>\n",
       "    <tr style=\"text-align: right;\">\n",
       "      <th></th>\n",
       "      <th>Converted</th>\n",
       "      <th>Converted_prob</th>\n",
       "      <th>Prospect ID</th>\n",
       "      <th>Predicted</th>\n",
       "    </tr>\n",
       "  </thead>\n",
       "  <tbody>\n",
       "    <tr>\n",
       "      <th>0</th>\n",
       "      <td>0</td>\n",
       "      <td>0.644229</td>\n",
       "      <td>8957</td>\n",
       "      <td>1</td>\n",
       "    </tr>\n",
       "    <tr>\n",
       "      <th>1</th>\n",
       "      <td>1</td>\n",
       "      <td>0.948205</td>\n",
       "      <td>2826</td>\n",
       "      <td>1</td>\n",
       "    </tr>\n",
       "    <tr>\n",
       "      <th>2</th>\n",
       "      <td>0</td>\n",
       "      <td>0.008255</td>\n",
       "      <td>8498</td>\n",
       "      <td>0</td>\n",
       "    </tr>\n",
       "  </tbody>\n",
       "</table>\n",
       "</div>"
      ],
      "text/plain": [
       "   Converted  Converted_prob  Prospect ID  Predicted\n",
       "0          0        0.644229         8957          1\n",
       "1          1        0.948205         2826          1\n",
       "2          0        0.008255         8498          0"
      ]
     },
     "execution_count": 811,
     "metadata": {},
     "output_type": "execute_result"
    }
   ],
   "source": [
    "# Creating a new column 'Predicted' based on the predicted probabilities\n",
    "y_train_pred_final['Predicted'] = (y_train_pred_final['Converted_prob'] > 0.5).astype(int)\n",
    "\n",
    "\n",
    "y_train_pred_final.head(3)"
   ]
  },
  {
   "cell_type": "code",
   "execution_count": 812,
   "id": "a1ecf893",
   "metadata": {},
   "outputs": [],
   "source": [
    "from sklearn import metrics"
   ]
  },
  {
   "cell_type": "code",
   "execution_count": 813,
   "id": "f7c02c6f",
   "metadata": {},
   "outputs": [
    {
     "name": "stdout",
     "output_type": "stream",
     "text": [
      "[[2820  125]\n",
      " [ 217 1532]]\n"
     ]
    }
   ],
   "source": [
    "# Confusion matrix \n",
    "confusion_matrix = metrics.confusion_matrix(y_train_pred_final.Converted, y_train_pred_final.Predicted )\n",
    "print(confusion_matrix)"
   ]
  },
  {
   "cell_type": "code",
   "execution_count": 814,
   "id": "c3734c54",
   "metadata": {},
   "outputs": [
    {
     "name": "stdout",
     "output_type": "stream",
     "text": [
      "0.927\n"
     ]
    }
   ],
   "source": [
    "# Checking the accuracy of the models\n",
    "print(round(metrics.accuracy_score(y_train_pred_final.Converted, y_train_pred_final.Predicted),3))"
   ]
  },
  {
   "cell_type": "code",
   "execution_count": 815,
   "id": "86d360ce",
   "metadata": {},
   "outputs": [],
   "source": [
    "TP = confusion_matrix[1,1] # true positive \n",
    "TN = confusion_matrix[0,0] # true negatives\n",
    "FP = confusion_matrix[0,1] # false positives\n",
    "FN = confusion_matrix[1,0] # false negatives"
   ]
  },
  {
   "cell_type": "code",
   "execution_count": 816,
   "id": "6b44671c",
   "metadata": {},
   "outputs": [
    {
     "name": "stdout",
     "output_type": "stream",
     "text": [
      "sensitivity =  0.876\n",
      "specificity =  0.958\n",
      "false positive rate =  0.042\n",
      "positive predictive value =  0.925\n",
      "Negative predictive value =  0.929\n"
     ]
    }
   ],
   "source": [
    "# Cheking the sensitivity of our logistic regression model\n",
    "print('sensitivity = ', round(TP / float(TP+FN),3))\n",
    "print('specificity = ', round(TN / float(TN+FP),3))\n",
    "# Need to compute the false positive rate, which involves predicting a conversion when the customer actually did not convert.\n",
    "print('false positive rate = ', round(FP/ float(TN+FP),3))\n",
    "print ('positive predictive value = ',round(TP / float(TP+FP),3))\n",
    "print ('Negative predictive value = ',round(TN / float(TN+ FN),3))"
   ]
  },
  {
   "cell_type": "markdown",
   "id": "27a37f57",
   "metadata": {},
   "source": [
    "### Plotting the RUC Curve"
   ]
  },
  {
   "cell_type": "code",
   "execution_count": 817,
   "id": "2048f1fc",
   "metadata": {},
   "outputs": [],
   "source": [
    "def plot_roc_curve(actual, predicted_probabilities):\n",
    "    \"\"\"\n",
    "    Plots the ROC curve based on the actual and predicted probabilities of the target class.\n",
    "    \"\"\"\n",
    "    fpr, tpr, thresholds = metrics.roc_curve(actual, predicted_probabilities, drop_intermediate=False)\n",
    "    auc_score = metrics.roc_auc_score(actual, predicted_probabilities)\n",
    "    plt.figure(figsize=(10, 7))\n",
    "    plt.plot(fpr, tpr, label='ROC curve (area = %0.2f)' % auc_score)\n",
    "    plt.plot([0, 1], [0, 1], 'k--')\n",
    "    plt.xlim([0.0, 1.0])\n",
    "    plt.ylim([0.0, 1.05])\n",
    "    plt.xlabel('False Positive Rate or [1 - True Negative Rate]')\n",
    "    plt.ylabel('True Positive Rate')\n",
    "    plt.title('Receiver Operating Characteristic (ROC) Curve')\n",
    "    plt.legend(loc=\"lower right\")\n",
    "    plt.show()"
   ]
  },
  {
   "cell_type": "code",
   "execution_count": 818,
   "id": "624f93a9",
   "metadata": {},
   "outputs": [],
   "source": [
    "thresholds = metrics.roc_curve( y_train_pred_final.Converted, y_train_pred_final.Converted_prob, drop_intermediate = False )"
   ]
  },
  {
   "cell_type": "code",
   "execution_count": 819,
   "id": "e0e96e6f",
   "metadata": {},
   "outputs": [
    {
     "data": {
      "image/png": "[encoded data removed]",
      "text/plain": [
       "<Figure size 720x504 with 1 Axes>"
      ]
     },
     "metadata": {
      "needs_background": "light"
     },
     "output_type": "display_data"
    }
   ],
   "source": [
    "plot_roc_curve(y_train_pred_final.Converted, y_train_pred_final.Converted_prob)"
   ]
  },
  {
   "cell_type": "markdown",
   "id": "c3eb8af3",
   "metadata": {},
   "source": [
    "#### FInding the Optimal Cut-Off Value"
   ]
  },
  {
   "cell_type": "markdown",
   "id": "a19ffc53",
   "metadata": {},
   "source": [
    "In the previous step, we used a cut-off value of 0.5 arbitrarily. The following section will address the determination of the optimal cut-off value."
   ]
  },
  {
   "cell_type": "code",
   "execution_count": 820,
   "id": "b8a4ce03",
   "metadata": {},
   "outputs": [
    {
     "data": {
      "text/html": [
       "<div>\n",
       "<style scoped>\n",
       "    .dataframe tbody tr th:only-of-type {\n",
       "        vertical-align: middle;\n",
       "    }\n",
       "\n",
       "    .dataframe tbody tr th {\n",
       "        vertical-align: top;\n",
       "    }\n",
       "\n",
       "    .dataframe thead th {\n",
       "        text-align: right;\n",
       "    }\n",
       "</style>\n",
       "<table border=\"1\" class=\"dataframe\">\n",
       "  <thead>\n",
       "    <tr style=\"text-align: right;\">\n",
       "      <th></th>\n",
       "      <th>Converted</th>\n",
       "      <th>Converted_prob</th>\n",
       "      <th>Prospect ID</th>\n",
       "      <th>Predicted</th>\n",
       "      <th>0.0</th>\n",
       "      <th>0.1</th>\n",
       "      <th>0.2</th>\n",
       "      <th>0.3</th>\n",
       "      <th>0.4</th>\n",
       "      <th>0.5</th>\n",
       "      <th>0.6</th>\n",
       "      <th>0.7</th>\n",
       "      <th>0.8</th>\n",
       "      <th>0.9</th>\n",
       "    </tr>\n",
       "  </thead>\n",
       "  <tbody>\n",
       "    <tr>\n",
       "      <th>0</th>\n",
       "      <td>0</td>\n",
       "      <td>0.644229</td>\n",
       "      <td>8957</td>\n",
       "      <td>1</td>\n",
       "      <td>1</td>\n",
       "      <td>1</td>\n",
       "      <td>1</td>\n",
       "      <td>1</td>\n",
       "      <td>1</td>\n",
       "      <td>1</td>\n",
       "      <td>1</td>\n",
       "      <td>0</td>\n",
       "      <td>0</td>\n",
       "      <td>0</td>\n",
       "    </tr>\n",
       "    <tr>\n",
       "      <th>1</th>\n",
       "      <td>1</td>\n",
       "      <td>0.948205</td>\n",
       "      <td>2826</td>\n",
       "      <td>1</td>\n",
       "      <td>1</td>\n",
       "      <td>1</td>\n",
       "      <td>1</td>\n",
       "      <td>1</td>\n",
       "      <td>1</td>\n",
       "      <td>1</td>\n",
       "      <td>1</td>\n",
       "      <td>1</td>\n",
       "      <td>1</td>\n",
       "      <td>1</td>\n",
       "    </tr>\n",
       "    <tr>\n",
       "      <th>2</th>\n",
       "      <td>0</td>\n",
       "      <td>0.008255</td>\n",
       "      <td>8498</td>\n",
       "      <td>0</td>\n",
       "      <td>1</td>\n",
       "      <td>0</td>\n",
       "      <td>0</td>\n",
       "      <td>0</td>\n",
       "      <td>0</td>\n",
       "      <td>0</td>\n",
       "      <td>0</td>\n",
       "      <td>0</td>\n",
       "      <td>0</td>\n",
       "      <td>0</td>\n",
       "    </tr>\n",
       "    <tr>\n",
       "      <th>3</th>\n",
       "      <td>0</td>\n",
       "      <td>0.045882</td>\n",
       "      <td>2170</td>\n",
       "      <td>0</td>\n",
       "      <td>1</td>\n",
       "      <td>0</td>\n",
       "      <td>0</td>\n",
       "      <td>0</td>\n",
       "      <td>0</td>\n",
       "      <td>0</td>\n",
       "      <td>0</td>\n",
       "      <td>0</td>\n",
       "      <td>0</td>\n",
       "      <td>0</td>\n",
       "    </tr>\n",
       "    <tr>\n",
       "      <th>4</th>\n",
       "      <td>0</td>\n",
       "      <td>0.045236</td>\n",
       "      <td>4169</td>\n",
       "      <td>0</td>\n",
       "      <td>1</td>\n",
       "      <td>0</td>\n",
       "      <td>0</td>\n",
       "      <td>0</td>\n",
       "      <td>0</td>\n",
       "      <td>0</td>\n",
       "      <td>0</td>\n",
       "      <td>0</td>\n",
       "      <td>0</td>\n",
       "      <td>0</td>\n",
       "    </tr>\n",
       "    <tr>\n",
       "      <th>5</th>\n",
       "      <td>1</td>\n",
       "      <td>0.488456</td>\n",
       "      <td>7307</td>\n",
       "      <td>0</td>\n",
       "      <td>1</td>\n",
       "      <td>1</td>\n",
       "      <td>1</td>\n",
       "      <td>1</td>\n",
       "      <td>1</td>\n",
       "      <td>0</td>\n",
       "      <td>0</td>\n",
       "      <td>0</td>\n",
       "      <td>0</td>\n",
       "      <td>0</td>\n",
       "    </tr>\n",
       "    <tr>\n",
       "      <th>6</th>\n",
       "      <td>1</td>\n",
       "      <td>0.074082</td>\n",
       "      <td>4295</td>\n",
       "      <td>0</td>\n",
       "      <td>1</td>\n",
       "      <td>0</td>\n",
       "      <td>0</td>\n",
       "      <td>0</td>\n",
       "      <td>0</td>\n",
       "      <td>0</td>\n",
       "      <td>0</td>\n",
       "      <td>0</td>\n",
       "      <td>0</td>\n",
       "      <td>0</td>\n",
       "    </tr>\n",
       "    <tr>\n",
       "      <th>7</th>\n",
       "      <td>0</td>\n",
       "      <td>0.082409</td>\n",
       "      <td>3026</td>\n",
       "      <td>0</td>\n",
       "      <td>1</td>\n",
       "      <td>0</td>\n",
       "      <td>0</td>\n",
       "      <td>0</td>\n",
       "      <td>0</td>\n",
       "      <td>0</td>\n",
       "      <td>0</td>\n",
       "      <td>0</td>\n",
       "      <td>0</td>\n",
       "      <td>0</td>\n",
       "    </tr>\n",
       "    <tr>\n",
       "      <th>8</th>\n",
       "      <td>1</td>\n",
       "      <td>0.651959</td>\n",
       "      <td>1170</td>\n",
       "      <td>1</td>\n",
       "      <td>1</td>\n",
       "      <td>1</td>\n",
       "      <td>1</td>\n",
       "      <td>1</td>\n",
       "      <td>1</td>\n",
       "      <td>1</td>\n",
       "      <td>1</td>\n",
       "      <td>0</td>\n",
       "      <td>0</td>\n",
       "      <td>0</td>\n",
       "    </tr>\n",
       "    <tr>\n",
       "      <th>9</th>\n",
       "      <td>0</td>\n",
       "      <td>0.003017</td>\n",
       "      <td>7632</td>\n",
       "      <td>0</td>\n",
       "      <td>1</td>\n",
       "      <td>0</td>\n",
       "      <td>0</td>\n",
       "      <td>0</td>\n",
       "      <td>0</td>\n",
       "      <td>0</td>\n",
       "      <td>0</td>\n",
       "      <td>0</td>\n",
       "      <td>0</td>\n",
       "      <td>0</td>\n",
       "    </tr>\n",
       "  </tbody>\n",
       "</table>\n",
       "</div>"
      ],
      "text/plain": [
       "   Converted  Converted_prob  Prospect ID  Predicted  0.0  0.1  0.2  0.3  0.4  \\\n",
       "0          0        0.644229         8957          1    1    1    1    1    1   \n",
       "1          1        0.948205         2826          1    1    1    1    1    1   \n",
       "2          0        0.008255         8498          0    1    0    0    0    0   \n",
       "3          0        0.045882         2170          0    1    0    0    0    0   \n",
       "4          0        0.045236         4169          0    1    0    0    0    0   \n",
       "5          1        0.488456         7307          0    1    1    1    1    1   \n",
       "6          1        0.074082         4295          0    1    0    0    0    0   \n",
       "7          0        0.082409         3026          0    1    0    0    0    0   \n",
       "8          1        0.651959         1170          1    1    1    1    1    1   \n",
       "9          0        0.003017         7632          0    1    0    0    0    0   \n",
       "\n",
       "   0.5  0.6  0.7  0.8  0.9  \n",
       "0    1    1    0    0    0  \n",
       "1    1    1    1    1    1  \n",
       "2    0    0    0    0    0  \n",
       "3    0    0    0    0    0  \n",
       "4    0    0    0    0    0  \n",
       "5    0    0    0    0    0  \n",
       "6    0    0    0    0    0  \n",
       "7    0    0    0    0    0  \n",
       "8    1    1    0    0    0  \n",
       "9    0    0    0    0    0  "
      ]
     },
     "execution_count": 820,
     "metadata": {},
     "output_type": "execute_result"
    }
   ],
   "source": [
    "cutoffs = [float(x)/10 for x in range(10)]\n",
    "for i in cutoffs:\n",
    "    y_train_pred_final[i]= y_train_pred_final.Converted_prob.map(lambda x: 1 if x > i else 0)\n",
    "y_train_pred_final.head(10)"
   ]
  },
  {
   "cell_type": "code",
   "execution_count": 821,
   "id": "cb83f0fe",
   "metadata": {},
   "outputs": [
    {
     "name": "stdout",
     "output_type": "stream",
     "text": [
      "     prob  accuracy     sensi     speci\n",
      "0.0   0.0  0.372603  1.000000  0.000000\n",
      "0.1   0.1  0.874095  0.967982  0.818336\n",
      "0.2   0.2  0.912228  0.949686  0.889983\n",
      "0.3   0.3  0.918406  0.929674  0.911715\n",
      "0.4   0.4  0.925224  0.905089  0.937182\n",
      "0.5   0.5  0.927141  0.875929  0.957555\n",
      "0.6   0.6  0.925437  0.853059  0.968421\n",
      "0.7   0.7  0.918193  0.821612  0.975552\n",
      "0.8   0.8  0.906050  0.780446  0.980645\n",
      "0.9   0.9  0.880699  0.698113  0.989134\n"
     ]
    },
    {
     "data": {
      "image/png": "[encoded data removed]",
      "text/plain": [
       "<Figure size 432x288 with 1 Axes>"
      ]
     },
     "metadata": {
      "needs_background": "light"
     },
     "output_type": "display_data"
    }
   ],
   "source": [
    "cutoff_df = pd.DataFrame( columns = ['prob','accuracy','sensi','speci'])\n",
    "\n",
    "from sklearn.metrics import confusion_matrix\n",
    "\n",
    "num = [0.0,0.1,0.2,0.3,0.4,0.5,0.6,0.7,0.8,0.9]\n",
    "for i in num:\n",
    "    cm1 = metrics.confusion_matrix(y_train_pred_final.Converted, y_train_pred_final[i] )\n",
    "    total1=sum(sum(cm1))\n",
    "    accuracy = (cm1[0,0]+cm1[1,1])/total1\n",
    "    \n",
    "    speci = cm1[0,0]/(cm1[0,0]+cm1[0,1])\n",
    "    sensi = cm1[1,1]/(cm1[1,0]+cm1[1,1])\n",
    "    cutoff_df.loc[i] =[ i ,accuracy,sensi,speci]\n",
    "print(cutoff_df)\n",
    "\n",
    "\n",
    "\n",
    "# Generate plots for accuracy, sensitivity, and specificity.\n",
    "cutoff_df.plot.line(x='prob', y=['accuracy','sensi','speci'])\n",
    "plt.title('Model performance for different probability ')\n",
    "plt.xlabel('Probability cutoff')\n",
    "plt.ylabel('Percentage')\n",
    "plt.legend()\n",
    "\n",
    "plt.show()"
   ]
  },
  {
   "cell_type": "code",
   "execution_count": 822,
   "id": "7e091c67",
   "metadata": {},
   "outputs": [
    {
     "data": {
      "image/png": "[encoded data removed]",
      "text/plain": [
       "<Figure size 432x288 with 1 Axes>"
      ]
     },
     "metadata": {
      "needs_background": "light"
     },
     "output_type": "display_data"
    }
   ],
   "source": [
    "# Generate plots for accuracy, sensitivity, and specificity.\n",
    "cutoff_df.plot.line(x='prob', y=['accuracy','sensi','speci'])\n",
    "plt.title('Model performance for different probability cutoffs')\n",
    "plt.xlabel('Probability cutoff')\n",
    "plt.ylabel('Percentage')\n",
    "plt.legend()\n",
    "\n",
    "plt.show()"
   ]
  },
  {
   "cell_type": "code",
   "execution_count": 823,
   "id": "bda4e986",
   "metadata": {},
   "outputs": [
    {
     "data": {
      "text/html": [
       "<div>\n",
       "<style scoped>\n",
       "    .dataframe tbody tr th:only-of-type {\n",
       "        vertical-align: middle;\n",
       "    }\n",
       "\n",
       "    .dataframe tbody tr th {\n",
       "        vertical-align: top;\n",
       "    }\n",
       "\n",
       "    .dataframe thead th {\n",
       "        text-align: right;\n",
       "    }\n",
       "</style>\n",
       "<table border=\"1\" class=\"dataframe\">\n",
       "  <thead>\n",
       "    <tr style=\"text-align: right;\">\n",
       "      <th></th>\n",
       "      <th>Converted</th>\n",
       "      <th>Converted_prob</th>\n",
       "      <th>Prospect ID</th>\n",
       "      <th>Predicted</th>\n",
       "      <th>0.0</th>\n",
       "      <th>0.1</th>\n",
       "      <th>0.2</th>\n",
       "      <th>0.3</th>\n",
       "      <th>0.4</th>\n",
       "      <th>0.5</th>\n",
       "      <th>0.6</th>\n",
       "      <th>0.7</th>\n",
       "      <th>0.8</th>\n",
       "      <th>0.9</th>\n",
       "      <th>final_Predicted</th>\n",
       "    </tr>\n",
       "  </thead>\n",
       "  <tbody>\n",
       "    <tr>\n",
       "      <th>0</th>\n",
       "      <td>0</td>\n",
       "      <td>0.644229</td>\n",
       "      <td>8957</td>\n",
       "      <td>1</td>\n",
       "      <td>1</td>\n",
       "      <td>1</td>\n",
       "      <td>1</td>\n",
       "      <td>1</td>\n",
       "      <td>1</td>\n",
       "      <td>1</td>\n",
       "      <td>1</td>\n",
       "      <td>0</td>\n",
       "      <td>0</td>\n",
       "      <td>0</td>\n",
       "      <td>1</td>\n",
       "    </tr>\n",
       "    <tr>\n",
       "      <th>1</th>\n",
       "      <td>1</td>\n",
       "      <td>0.948205</td>\n",
       "      <td>2826</td>\n",
       "      <td>1</td>\n",
       "      <td>1</td>\n",
       "      <td>1</td>\n",
       "      <td>1</td>\n",
       "      <td>1</td>\n",
       "      <td>1</td>\n",
       "      <td>1</td>\n",
       "      <td>1</td>\n",
       "      <td>1</td>\n",
       "      <td>1</td>\n",
       "      <td>1</td>\n",
       "      <td>1</td>\n",
       "    </tr>\n",
       "    <tr>\n",
       "      <th>2</th>\n",
       "      <td>0</td>\n",
       "      <td>0.008255</td>\n",
       "      <td>8498</td>\n",
       "      <td>0</td>\n",
       "      <td>1</td>\n",
       "      <td>0</td>\n",
       "      <td>0</td>\n",
       "      <td>0</td>\n",
       "      <td>0</td>\n",
       "      <td>0</td>\n",
       "      <td>0</td>\n",
       "      <td>0</td>\n",
       "      <td>0</td>\n",
       "      <td>0</td>\n",
       "      <td>0</td>\n",
       "    </tr>\n",
       "    <tr>\n",
       "      <th>3</th>\n",
       "      <td>0</td>\n",
       "      <td>0.045882</td>\n",
       "      <td>2170</td>\n",
       "      <td>0</td>\n",
       "      <td>1</td>\n",
       "      <td>0</td>\n",
       "      <td>0</td>\n",
       "      <td>0</td>\n",
       "      <td>0</td>\n",
       "      <td>0</td>\n",
       "      <td>0</td>\n",
       "      <td>0</td>\n",
       "      <td>0</td>\n",
       "      <td>0</td>\n",
       "      <td>0</td>\n",
       "    </tr>\n",
       "    <tr>\n",
       "      <th>4</th>\n",
       "      <td>0</td>\n",
       "      <td>0.045236</td>\n",
       "      <td>4169</td>\n",
       "      <td>0</td>\n",
       "      <td>1</td>\n",
       "      <td>0</td>\n",
       "      <td>0</td>\n",
       "      <td>0</td>\n",
       "      <td>0</td>\n",
       "      <td>0</td>\n",
       "      <td>0</td>\n",
       "      <td>0</td>\n",
       "      <td>0</td>\n",
       "      <td>0</td>\n",
       "      <td>0</td>\n",
       "    </tr>\n",
       "  </tbody>\n",
       "</table>\n",
       "</div>"
      ],
      "text/plain": [
       "   Converted  Converted_prob  Prospect ID  Predicted  0.0  0.1  0.2  0.3  0.4  \\\n",
       "0          0        0.644229         8957          1    1    1    1    1    1   \n",
       "1          1        0.948205         2826          1    1    1    1    1    1   \n",
       "2          0        0.008255         8498          0    1    0    0    0    0   \n",
       "3          0        0.045882         2170          0    1    0    0    0    0   \n",
       "4          0        0.045236         4169          0    1    0    0    0    0   \n",
       "\n",
       "   0.5  0.6  0.7  0.8  0.9  final_Predicted  \n",
       "0    1    1    0    0    0                1  \n",
       "1    1    1    1    1    1                1  \n",
       "2    0    0    0    0    0                0  \n",
       "3    0    0    0    0    0                0  \n",
       "4    0    0    0    0    0                0  "
      ]
     },
     "execution_count": 823,
     "metadata": {},
     "output_type": "execute_result"
    }
   ],
   "source": [
    "# Based on the curve above, the optimal cutoff probability appears to be 0.3.\n",
    "y_train_pred_final['final_Predicted'] = y_train_pred_final.Converted_prob.map( lambda x: 1 if x > 0.3 else 0)\n",
    "\n",
    "y_train_pred_final.head()"
   ]
  },
  {
   "cell_type": "code",
   "execution_count": 824,
   "id": "e70e4671",
   "metadata": {},
   "outputs": [
    {
     "data": {
      "text/html": [
       "<div>\n",
       "<style scoped>\n",
       "    .dataframe tbody tr th:only-of-type {\n",
       "        vertical-align: middle;\n",
       "    }\n",
       "\n",
       "    .dataframe tbody tr th {\n",
       "        vertical-align: top;\n",
       "    }\n",
       "\n",
       "    .dataframe thead th {\n",
       "        text-align: right;\n",
       "    }\n",
       "</style>\n",
       "<table border=\"1\" class=\"dataframe\">\n",
       "  <thead>\n",
       "    <tr style=\"text-align: right;\">\n",
       "      <th></th>\n",
       "      <th>Prospect ID</th>\n",
       "      <th>Converted</th>\n",
       "      <th>Converted_prob</th>\n",
       "      <th>final_Predicted</th>\n",
       "      <th>Lead_Score</th>\n",
       "    </tr>\n",
       "  </thead>\n",
       "  <tbody>\n",
       "    <tr>\n",
       "      <th>0</th>\n",
       "      <td>8957</td>\n",
       "      <td>0</td>\n",
       "      <td>0.644229</td>\n",
       "      <td>1</td>\n",
       "      <td>64.0</td>\n",
       "    </tr>\n",
       "    <tr>\n",
       "      <th>1</th>\n",
       "      <td>2826</td>\n",
       "      <td>1</td>\n",
       "      <td>0.948205</td>\n",
       "      <td>1</td>\n",
       "      <td>95.0</td>\n",
       "    </tr>\n",
       "    <tr>\n",
       "      <th>2</th>\n",
       "      <td>8498</td>\n",
       "      <td>0</td>\n",
       "      <td>0.008255</td>\n",
       "      <td>0</td>\n",
       "      <td>1.0</td>\n",
       "    </tr>\n",
       "    <tr>\n",
       "      <th>3</th>\n",
       "      <td>2170</td>\n",
       "      <td>0</td>\n",
       "      <td>0.045882</td>\n",
       "      <td>0</td>\n",
       "      <td>5.0</td>\n",
       "    </tr>\n",
       "    <tr>\n",
       "      <th>4</th>\n",
       "      <td>4169</td>\n",
       "      <td>0</td>\n",
       "      <td>0.045236</td>\n",
       "      <td>0</td>\n",
       "      <td>5.0</td>\n",
       "    </tr>\n",
       "  </tbody>\n",
       "</table>\n",
       "</div>"
      ],
      "text/plain": [
       "   Prospect ID  Converted  Converted_prob  final_Predicted  Lead_Score\n",
       "0         8957          0        0.644229                1        64.0\n",
       "1         2826          1        0.948205                1        95.0\n",
       "2         8498          0        0.008255                0         1.0\n",
       "3         2170          0        0.045882                0         5.0\n",
       "4         4169          0        0.045236                0         5.0"
      ]
     },
     "execution_count": 824,
     "metadata": {},
     "output_type": "execute_result"
    }
   ],
   "source": [
    "y_train_pred_final['Lead_Score'] = y_train_pred_final['Converted_prob'].round(2) * 100\n",
    "\n",
    "# Displaying the final predicted values along with the lead score.\n",
    "y_train_pred_final[['Prospect ID', 'Converted', 'Converted_prob', 'final_Predicted', 'Lead_Score']].head()"
   ]
  },
  {
   "cell_type": "code",
   "execution_count": 825,
   "id": "843bbb0a",
   "metadata": {},
   "outputs": [
    {
     "data": {
      "text/plain": [
       "0.9184064763527908"
      ]
     },
     "execution_count": 825,
     "metadata": {},
     "output_type": "execute_result"
    }
   ],
   "source": [
    "# Cheking the overall accuracy of the model\n",
    "metrics.accuracy_score(y_train_pred_final.Converted, y_train_pred_final.final_Predicted)"
   ]
  },
  {
   "cell_type": "code",
   "execution_count": 826,
   "id": "395d837d",
   "metadata": {},
   "outputs": [
    {
     "data": {
      "text/plain": [
       "array([[2685,  260],\n",
       "       [ 123, 1626]], dtype=int64)"
      ]
     },
     "execution_count": 826,
     "metadata": {},
     "output_type": "execute_result"
    }
   ],
   "source": [
    "confusion_matrix2 = metrics.confusion_matrix(y_train_pred_final.Converted, y_train_pred_final.final_Predicted )\n",
    "confusion_matrix2"
   ]
  },
  {
   "cell_type": "code",
   "execution_count": 827,
   "id": "9095b2b8",
   "metadata": {},
   "outputs": [
    {
     "name": "stdout",
     "output_type": "stream",
     "text": [
      "sensitivity =  0.93\n",
      "specificity =  0.912\n",
      "false positive rate =  0.088\n",
      "positive predictive value =  0.862\n",
      "Negative predictive value =  0.956\n"
     ]
    }
   ],
   "source": [
    "TP = confusion_matrix2[1,1] # true positive \n",
    "TN = confusion_matrix2[0,0] # true negatives\n",
    "FP = confusion_matrix2[0,1] # false positives\n",
    "FN = confusion_matrix2[1,0] # false negatives\n",
    "\n",
    "\n",
    "\n",
    "print('sensitivity = ', round(TP / float(TP+FN),3))\n",
    "print('specificity = ', round(TN / float(TN+FP),3))\n",
    "print('false positive rate = ', round(FP/ float(TN+FP),3))\n",
    "print ('positive predictive value = ',round(TP / float(TP+FP),3))\n",
    "print ('Negative predictive value = ',round(TN / float(TN+ FN),3))"
   ]
  },
  {
   "cell_type": "markdown",
   "id": "3de4d6a8",
   "metadata": {},
   "source": [
    "Conclusion: \n",
    "    \n",
    "- The model seems to be operating well based on the observations. With a ROC curve value of 0.97, excellent performance is shown. We have obtained 92.73% specificity, 91.69% sensitivity, and 92.34% accuracy using the training set."
   ]
  },
  {
   "cell_type": "code",
   "execution_count": 828,
   "id": "c6ddc6fc",
   "metadata": {},
   "outputs": [],
   "source": [
    "from sklearn.metrics import precision_score, recall_score"
   ]
  },
  {
   "cell_type": "code",
   "execution_count": 829,
   "id": "f71cbd7a",
   "metadata": {},
   "outputs": [
    {
     "data": {
      "text/plain": [
       "0.8621420996818664"
      ]
     },
     "execution_count": 829,
     "metadata": {},
     "output_type": "execute_result"
    }
   ],
   "source": [
    "precision_score(y_train_pred_final.Converted , y_train_pred_final.final_Predicted)"
   ]
  },
  {
   "cell_type": "code",
   "execution_count": 830,
   "id": "c88a1c2a",
   "metadata": {},
   "outputs": [
    {
     "data": {
      "text/plain": [
       "0.9296740994854202"
      ]
     },
     "execution_count": 830,
     "metadata": {},
     "output_type": "execute_result"
    }
   ],
   "source": [
    "recall_score(y_train_pred_final.Converted, y_train_pred_final.final_Predicted)"
   ]
  },
  {
   "cell_type": "code",
   "execution_count": 831,
   "id": "365b93e9",
   "metadata": {},
   "outputs": [],
   "source": [
    "from sklearn.metrics import precision_recall_curve"
   ]
  },
  {
   "cell_type": "code",
   "execution_count": 832,
   "id": "68b75908",
   "metadata": {},
   "outputs": [],
   "source": [
    "y_train_pred_final.Converted, y_train_pred_final.final_Predicted\n",
    "p, r, thresholds = precision_recall_curve(y_train_pred_final.Converted, y_train_pred_final.Converted_prob)"
   ]
  },
  {
   "cell_type": "code",
   "execution_count": 833,
   "id": "f65f0791",
   "metadata": {},
   "outputs": [
    {
     "data": {
      "image/png": "[encoded data removed]",
      "text/plain": [
       "<Figure size 432x288 with 1 Axes>"
      ]
     },
     "metadata": {
      "needs_background": "light"
     },
     "output_type": "display_data"
    }
   ],
   "source": [
    "# Calculating precision and recall for different probability thresholds.\n",
    "p, r, thresholds = metrics.precision_recall_curve(y_train_pred_final['Converted'], y_train_pred_final['Converted_prob'])\n",
    "\n",
    "# Plot precision and recall against different probability thresholds.\n",
    "plt.plot(thresholds, p[:-1], \"g-\", label=\"Precision\")\n",
    "plt.plot(thresholds, r[:-1], \"r-\", label=\"Recall\")\n",
    "plt.xlabel(\"Threshold\")\n",
    "plt.legend(loc=\"best\")\n",
    "plt.title(\"Precision-Recall Curve\")\n",
    "plt.show()\n"
   ]
  },
  {
   "cell_type": "code",
   "execution_count": 834,
   "id": "cdbd1f6d",
   "metadata": {},
   "outputs": [
    {
     "data": {
      "text/html": [
       "<div>\n",
       "<style scoped>\n",
       "    .dataframe tbody tr th:only-of-type {\n",
       "        vertical-align: middle;\n",
       "    }\n",
       "\n",
       "    .dataframe tbody tr th {\n",
       "        vertical-align: top;\n",
       "    }\n",
       "\n",
       "    .dataframe thead th {\n",
       "        text-align: right;\n",
       "    }\n",
       "</style>\n",
       "<table border=\"1\" class=\"dataframe\">\n",
       "  <thead>\n",
       "    <tr style=\"text-align: right;\">\n",
       "      <th></th>\n",
       "      <th>TotalVisits</th>\n",
       "      <th>Total Time Spent on Website</th>\n",
       "      <th>Page Views Per Visit</th>\n",
       "      <th>Lead Origin_Landing Page Submission</th>\n",
       "      <th>Lead Origin_Lead Add Form</th>\n",
       "      <th>What is your current occupation_Housewife</th>\n",
       "      <th>What is your current occupation_Other</th>\n",
       "      <th>What is your current occupation_Student</th>\n",
       "      <th>What is your current occupation_Unemployed</th>\n",
       "      <th>What is your current occupation_Working Professional</th>\n",
       "      <th>City_Other Cities</th>\n",
       "      <th>City_Other Cities of Maharashtra</th>\n",
       "      <th>City_Other Metro Cities</th>\n",
       "      <th>City_Thane &amp; Outskirts</th>\n",
       "      <th>City_Tier II Cities</th>\n",
       "      <th>Specialization_Banking, Investment And Insurance</th>\n",
       "      <th>Specialization_Business Administration</th>\n",
       "      <th>Specialization_E-Business</th>\n",
       "      <th>Specialization_E-COMMERCE</th>\n",
       "      <th>Specialization_International Business</th>\n",
       "      <th>Specialization_Management_Specializations</th>\n",
       "      <th>Specialization_Media and Advertising</th>\n",
       "      <th>Specialization_Rural and Agribusiness</th>\n",
       "      <th>Specialization_Services Excellence</th>\n",
       "      <th>Specialization_Travel and Tourism</th>\n",
       "      <th>Lead Source_Direct Traffic</th>\n",
       "      <th>Lead Source_Google</th>\n",
       "      <th>Lead Source_Olark Chat</th>\n",
       "      <th>Lead Source_Organic Search</th>\n",
       "      <th>Lead Source_Reference</th>\n",
       "      <th>Lead Source_Referral Sites</th>\n",
       "      <th>Lead Source_Social Media</th>\n",
       "      <th>Lead Source_Welingak Website</th>\n",
       "      <th>Last Activity_Converted to Lead</th>\n",
       "      <th>Last Activity_Email Bounced</th>\n",
       "      <th>Last Activity_Email Link Clicked</th>\n",
       "      <th>Last Activity_Email Opened</th>\n",
       "      <th>Last Activity_Form Submitted on Website</th>\n",
       "      <th>Last Activity_Olark Chat Conversation</th>\n",
       "      <th>Last Activity_Page Visited on Website</th>\n",
       "      <th>Last Activity_SMS Sent</th>\n",
       "      <th>Last Notable Activity_Email Link Clicked</th>\n",
       "      <th>Last Notable Activity_Email Opened</th>\n",
       "      <th>Last Notable Activity_Modified</th>\n",
       "      <th>Last Notable Activity_Olark Chat Conversation</th>\n",
       "      <th>Last Notable Activity_Page Visited on Website</th>\n",
       "      <th>Last Notable Activity_SMS Sent</th>\n",
       "      <th>Tags_Busy</th>\n",
       "      <th>Tags_Closed by Horizzon</th>\n",
       "      <th>Tags_Interested in other courses</th>\n",
       "      <th>Tags_Lost to EINS</th>\n",
       "      <th>Tags_Other_Tags</th>\n",
       "      <th>Tags_Ringing</th>\n",
       "      <th>Tags_Will revert after reading the email</th>\n",
       "    </tr>\n",
       "  </thead>\n",
       "  <tbody>\n",
       "    <tr>\n",
       "      <th>5643</th>\n",
       "      <td>-1.196339</td>\n",
       "      <td>-1.031859</td>\n",
       "      <td>-1.156119</td>\n",
       "      <td>1</td>\n",
       "      <td>0</td>\n",
       "      <td>0</td>\n",
       "      <td>0</td>\n",
       "      <td>0</td>\n",
       "      <td>1</td>\n",
       "      <td>0</td>\n",
       "      <td>1</td>\n",
       "      <td>0</td>\n",
       "      <td>0</td>\n",
       "      <td>0</td>\n",
       "      <td>0</td>\n",
       "      <td>0</td>\n",
       "      <td>0</td>\n",
       "      <td>0</td>\n",
       "      <td>0</td>\n",
       "      <td>0</td>\n",
       "      <td>1</td>\n",
       "      <td>0</td>\n",
       "      <td>0</td>\n",
       "      <td>0</td>\n",
       "      <td>0</td>\n",
       "      <td>1</td>\n",
       "      <td>0</td>\n",
       "      <td>0</td>\n",
       "      <td>0</td>\n",
       "      <td>0</td>\n",
       "      <td>0</td>\n",
       "      <td>0</td>\n",
       "      <td>0</td>\n",
       "      <td>0</td>\n",
       "      <td>1</td>\n",
       "      <td>0</td>\n",
       "      <td>0</td>\n",
       "      <td>0</td>\n",
       "      <td>0</td>\n",
       "      <td>0</td>\n",
       "      <td>0</td>\n",
       "      <td>0</td>\n",
       "      <td>0</td>\n",
       "      <td>1</td>\n",
       "      <td>0</td>\n",
       "      <td>0</td>\n",
       "      <td>0</td>\n",
       "      <td>0</td>\n",
       "      <td>0</td>\n",
       "      <td>0</td>\n",
       "      <td>0</td>\n",
       "      <td>1</td>\n",
       "      <td>0</td>\n",
       "      <td>0</td>\n",
       "    </tr>\n",
       "    <tr>\n",
       "      <th>4120</th>\n",
       "      <td>-0.461479</td>\n",
       "      <td>-0.752291</td>\n",
       "      <td>-0.071922</td>\n",
       "      <td>1</td>\n",
       "      <td>0</td>\n",
       "      <td>0</td>\n",
       "      <td>0</td>\n",
       "      <td>0</td>\n",
       "      <td>1</td>\n",
       "      <td>0</td>\n",
       "      <td>1</td>\n",
       "      <td>0</td>\n",
       "      <td>0</td>\n",
       "      <td>0</td>\n",
       "      <td>0</td>\n",
       "      <td>0</td>\n",
       "      <td>0</td>\n",
       "      <td>0</td>\n",
       "      <td>0</td>\n",
       "      <td>0</td>\n",
       "      <td>1</td>\n",
       "      <td>0</td>\n",
       "      <td>0</td>\n",
       "      <td>0</td>\n",
       "      <td>0</td>\n",
       "      <td>0</td>\n",
       "      <td>1</td>\n",
       "      <td>0</td>\n",
       "      <td>0</td>\n",
       "      <td>0</td>\n",
       "      <td>0</td>\n",
       "      <td>0</td>\n",
       "      <td>0</td>\n",
       "      <td>0</td>\n",
       "      <td>0</td>\n",
       "      <td>0</td>\n",
       "      <td>1</td>\n",
       "      <td>0</td>\n",
       "      <td>0</td>\n",
       "      <td>0</td>\n",
       "      <td>0</td>\n",
       "      <td>0</td>\n",
       "      <td>1</td>\n",
       "      <td>0</td>\n",
       "      <td>0</td>\n",
       "      <td>0</td>\n",
       "      <td>0</td>\n",
       "      <td>0</td>\n",
       "      <td>0</td>\n",
       "      <td>0</td>\n",
       "      <td>0</td>\n",
       "      <td>0</td>\n",
       "      <td>1</td>\n",
       "      <td>0</td>\n",
       "    </tr>\n",
       "    <tr>\n",
       "      <th>716</th>\n",
       "      <td>-0.828909</td>\n",
       "      <td>-0.828706</td>\n",
       "      <td>-0.614020</td>\n",
       "      <td>1</td>\n",
       "      <td>0</td>\n",
       "      <td>0</td>\n",
       "      <td>0</td>\n",
       "      <td>0</td>\n",
       "      <td>1</td>\n",
       "      <td>0</td>\n",
       "      <td>0</td>\n",
       "      <td>0</td>\n",
       "      <td>0</td>\n",
       "      <td>1</td>\n",
       "      <td>0</td>\n",
       "      <td>0</td>\n",
       "      <td>0</td>\n",
       "      <td>0</td>\n",
       "      <td>0</td>\n",
       "      <td>0</td>\n",
       "      <td>1</td>\n",
       "      <td>0</td>\n",
       "      <td>0</td>\n",
       "      <td>0</td>\n",
       "      <td>0</td>\n",
       "      <td>0</td>\n",
       "      <td>1</td>\n",
       "      <td>0</td>\n",
       "      <td>0</td>\n",
       "      <td>0</td>\n",
       "      <td>0</td>\n",
       "      <td>0</td>\n",
       "      <td>0</td>\n",
       "      <td>0</td>\n",
       "      <td>0</td>\n",
       "      <td>0</td>\n",
       "      <td>1</td>\n",
       "      <td>0</td>\n",
       "      <td>0</td>\n",
       "      <td>0</td>\n",
       "      <td>0</td>\n",
       "      <td>0</td>\n",
       "      <td>0</td>\n",
       "      <td>1</td>\n",
       "      <td>0</td>\n",
       "      <td>0</td>\n",
       "      <td>0</td>\n",
       "      <td>0</td>\n",
       "      <td>0</td>\n",
       "      <td>0</td>\n",
       "      <td>0</td>\n",
       "      <td>0</td>\n",
       "      <td>0</td>\n",
       "      <td>0</td>\n",
       "    </tr>\n",
       "    <tr>\n",
       "      <th>146</th>\n",
       "      <td>-0.461479</td>\n",
       "      <td>0.194512</td>\n",
       "      <td>-0.071922</td>\n",
       "      <td>1</td>\n",
       "      <td>0</td>\n",
       "      <td>0</td>\n",
       "      <td>0</td>\n",
       "      <td>0</td>\n",
       "      <td>1</td>\n",
       "      <td>0</td>\n",
       "      <td>0</td>\n",
       "      <td>0</td>\n",
       "      <td>0</td>\n",
       "      <td>1</td>\n",
       "      <td>0</td>\n",
       "      <td>0</td>\n",
       "      <td>0</td>\n",
       "      <td>0</td>\n",
       "      <td>0</td>\n",
       "      <td>0</td>\n",
       "      <td>1</td>\n",
       "      <td>0</td>\n",
       "      <td>0</td>\n",
       "      <td>0</td>\n",
       "      <td>0</td>\n",
       "      <td>1</td>\n",
       "      <td>0</td>\n",
       "      <td>0</td>\n",
       "      <td>0</td>\n",
       "      <td>0</td>\n",
       "      <td>0</td>\n",
       "      <td>0</td>\n",
       "      <td>0</td>\n",
       "      <td>0</td>\n",
       "      <td>0</td>\n",
       "      <td>0</td>\n",
       "      <td>0</td>\n",
       "      <td>0</td>\n",
       "      <td>0</td>\n",
       "      <td>0</td>\n",
       "      <td>0</td>\n",
       "      <td>0</td>\n",
       "      <td>0</td>\n",
       "      <td>1</td>\n",
       "      <td>0</td>\n",
       "      <td>0</td>\n",
       "      <td>0</td>\n",
       "      <td>0</td>\n",
       "      <td>0</td>\n",
       "      <td>0</td>\n",
       "      <td>0</td>\n",
       "      <td>0</td>\n",
       "      <td>0</td>\n",
       "      <td>0</td>\n",
       "    </tr>\n",
       "    <tr>\n",
       "      <th>4174</th>\n",
       "      <td>-0.461479</td>\n",
       "      <td>0.194512</td>\n",
       "      <td>-0.885069</td>\n",
       "      <td>1</td>\n",
       "      <td>0</td>\n",
       "      <td>0</td>\n",
       "      <td>0</td>\n",
       "      <td>0</td>\n",
       "      <td>1</td>\n",
       "      <td>0</td>\n",
       "      <td>0</td>\n",
       "      <td>1</td>\n",
       "      <td>0</td>\n",
       "      <td>0</td>\n",
       "      <td>0</td>\n",
       "      <td>0</td>\n",
       "      <td>0</td>\n",
       "      <td>0</td>\n",
       "      <td>0</td>\n",
       "      <td>0</td>\n",
       "      <td>1</td>\n",
       "      <td>0</td>\n",
       "      <td>0</td>\n",
       "      <td>0</td>\n",
       "      <td>0</td>\n",
       "      <td>1</td>\n",
       "      <td>0</td>\n",
       "      <td>0</td>\n",
       "      <td>0</td>\n",
       "      <td>0</td>\n",
       "      <td>0</td>\n",
       "      <td>0</td>\n",
       "      <td>0</td>\n",
       "      <td>0</td>\n",
       "      <td>0</td>\n",
       "      <td>0</td>\n",
       "      <td>0</td>\n",
       "      <td>0</td>\n",
       "      <td>0</td>\n",
       "      <td>0</td>\n",
       "      <td>1</td>\n",
       "      <td>0</td>\n",
       "      <td>0</td>\n",
       "      <td>0</td>\n",
       "      <td>0</td>\n",
       "      <td>0</td>\n",
       "      <td>1</td>\n",
       "      <td>0</td>\n",
       "      <td>0</td>\n",
       "      <td>0</td>\n",
       "      <td>0</td>\n",
       "      <td>0</td>\n",
       "      <td>0</td>\n",
       "      <td>0</td>\n",
       "    </tr>\n",
       "  </tbody>\n",
       "</table>\n",
       "</div>"
      ],
      "text/plain": [
       "      TotalVisits  Total Time Spent on Website  Page Views Per Visit  \\\n",
       "5643    -1.196339                    -1.031859             -1.156119   \n",
       "4120    -0.461479                    -0.752291             -0.071922   \n",
       "716     -0.828909                    -0.828706             -0.614020   \n",
       "146     -0.461479                     0.194512             -0.071922   \n",
       "4174    -0.461479                     0.194512             -0.885069   \n",
       "\n",
       "      Lead Origin_Landing Page Submission  Lead Origin_Lead Add Form  \\\n",
       "5643                                    1                          0   \n",
       "4120                                    1                          0   \n",
       "716                                     1                          0   \n",
       "146                                     1                          0   \n",
       "4174                                    1                          0   \n",
       "\n",
       "      What is your current occupation_Housewife  \\\n",
       "5643                                          0   \n",
       "4120                                          0   \n",
       "716                                           0   \n",
       "146                                           0   \n",
       "4174                                          0   \n",
       "\n",
       "      What is your current occupation_Other  \\\n",
       "5643                                      0   \n",
       "4120                                      0   \n",
       "716                                       0   \n",
       "146                                       0   \n",
       "4174                                      0   \n",
       "\n",
       "      What is your current occupation_Student  \\\n",
       "5643                                        0   \n",
       "4120                                        0   \n",
       "716                                         0   \n",
       "146                                         0   \n",
       "4174                                        0   \n",
       "\n",
       "      What is your current occupation_Unemployed  \\\n",
       "5643                                           1   \n",
       "4120                                           1   \n",
       "716                                            1   \n",
       "146                                            1   \n",
       "4174                                           1   \n",
       "\n",
       "      What is your current occupation_Working Professional  City_Other Cities  \\\n",
       "5643                                                  0                     1   \n",
       "4120                                                  0                     1   \n",
       "716                                                   0                     0   \n",
       "146                                                   0                     0   \n",
       "4174                                                  0                     0   \n",
       "\n",
       "      City_Other Cities of Maharashtra  City_Other Metro Cities  \\\n",
       "5643                                 0                        0   \n",
       "4120                                 0                        0   \n",
       "716                                  0                        0   \n",
       "146                                  0                        0   \n",
       "4174                                 1                        0   \n",
       "\n",
       "      City_Thane & Outskirts  City_Tier II Cities  \\\n",
       "5643                       0                    0   \n",
       "4120                       0                    0   \n",
       "716                        1                    0   \n",
       "146                        1                    0   \n",
       "4174                       0                    0   \n",
       "\n",
       "      Specialization_Banking, Investment And Insurance  \\\n",
       "5643                                                 0   \n",
       "4120                                                 0   \n",
       "716                                                  0   \n",
       "146                                                  0   \n",
       "4174                                                 0   \n",
       "\n",
       "      Specialization_Business Administration  Specialization_E-Business  \\\n",
       "5643                                       0                          0   \n",
       "4120                                       0                          0   \n",
       "716                                        0                          0   \n",
       "146                                        0                          0   \n",
       "4174                                       0                          0   \n",
       "\n",
       "      Specialization_E-COMMERCE  Specialization_International Business  \\\n",
       "5643                          0                                      0   \n",
       "4120                          0                                      0   \n",
       "716                           0                                      0   \n",
       "146                           0                                      0   \n",
       "4174                          0                                      0   \n",
       "\n",
       "      Specialization_Management_Specializations  \\\n",
       "5643                                          1   \n",
       "4120                                          1   \n",
       "716                                           1   \n",
       "146                                           1   \n",
       "4174                                          1   \n",
       "\n",
       "      Specialization_Media and Advertising  \\\n",
       "5643                                     0   \n",
       "4120                                     0   \n",
       "716                                      0   \n",
       "146                                      0   \n",
       "4174                                     0   \n",
       "\n",
       "      Specialization_Rural and Agribusiness  \\\n",
       "5643                                      0   \n",
       "4120                                      0   \n",
       "716                                       0   \n",
       "146                                       0   \n",
       "4174                                      0   \n",
       "\n",
       "      Specialization_Services Excellence  Specialization_Travel and Tourism  \\\n",
       "5643                                   0                                  0   \n",
       "4120                                   0                                  0   \n",
       "716                                    0                                  0   \n",
       "146                                    0                                  0   \n",
       "4174                                   0                                  0   \n",
       "\n",
       "      Lead Source_Direct Traffic  Lead Source_Google  Lead Source_Olark Chat  \\\n",
       "5643                           1                   0                       0   \n",
       "4120                           0                   1                       0   \n",
       "716                            0                   1                       0   \n",
       "146                            1                   0                       0   \n",
       "4174                           1                   0                       0   \n",
       "\n",
       "      Lead Source_Organic Search  Lead Source_Reference  \\\n",
       "5643                           0                      0   \n",
       "4120                           0                      0   \n",
       "716                            0                      0   \n",
       "146                            0                      0   \n",
       "4174                           0                      0   \n",
       "\n",
       "      Lead Source_Referral Sites  Lead Source_Social Media  \\\n",
       "5643                           0                         0   \n",
       "4120                           0                         0   \n",
       "716                            0                         0   \n",
       "146                            0                         0   \n",
       "4174                           0                         0   \n",
       "\n",
       "      Lead Source_Welingak Website  Last Activity_Converted to Lead  \\\n",
       "5643                             0                                0   \n",
       "4120                             0                                0   \n",
       "716                              0                                0   \n",
       "146                              0                                0   \n",
       "4174                             0                                0   \n",
       "\n",
       "      Last Activity_Email Bounced  Last Activity_Email Link Clicked  \\\n",
       "5643                            1                                 0   \n",
       "4120                            0                                 0   \n",
       "716                             0                                 0   \n",
       "146                             0                                 0   \n",
       "4174                            0                                 0   \n",
       "\n",
       "      Last Activity_Email Opened  Last Activity_Form Submitted on Website  \\\n",
       "5643                           0                                        0   \n",
       "4120                           1                                        0   \n",
       "716                            1                                        0   \n",
       "146                            0                                        0   \n",
       "4174                           0                                        0   \n",
       "\n",
       "      Last Activity_Olark Chat Conversation  \\\n",
       "5643                                      0   \n",
       "4120                                      0   \n",
       "716                                       0   \n",
       "146                                       0   \n",
       "4174                                      0   \n",
       "\n",
       "      Last Activity_Page Visited on Website  Last Activity_SMS Sent  \\\n",
       "5643                                      0                       0   \n",
       "4120                                      0                       0   \n",
       "716                                       0                       0   \n",
       "146                                       0                       0   \n",
       "4174                                      0                       1   \n",
       "\n",
       "      Last Notable Activity_Email Link Clicked  \\\n",
       "5643                                         0   \n",
       "4120                                         0   \n",
       "716                                          0   \n",
       "146                                          0   \n",
       "4174                                         0   \n",
       "\n",
       "      Last Notable Activity_Email Opened  Last Notable Activity_Modified  \\\n",
       "5643                                   0                               1   \n",
       "4120                                   1                               0   \n",
       "716                                    0                               1   \n",
       "146                                    0                               1   \n",
       "4174                                   0                               0   \n",
       "\n",
       "      Last Notable Activity_Olark Chat Conversation  \\\n",
       "5643                                              0   \n",
       "4120                                              0   \n",
       "716                                               0   \n",
       "146                                               0   \n",
       "4174                                              0   \n",
       "\n",
       "      Last Notable Activity_Page Visited on Website  \\\n",
       "5643                                              0   \n",
       "4120                                              0   \n",
       "716                                               0   \n",
       "146                                               0   \n",
       "4174                                              0   \n",
       "\n",
       "      Last Notable Activity_SMS Sent  Tags_Busy  Tags_Closed by Horizzon  \\\n",
       "5643                               0          0                        0   \n",
       "4120                               0          0                        0   \n",
       "716                                0          0                        0   \n",
       "146                                0          0                        0   \n",
       "4174                               1          0                        0   \n",
       "\n",
       "      Tags_Interested in other courses  Tags_Lost to EINS  Tags_Other_Tags  \\\n",
       "5643                                 0                  0                1   \n",
       "4120                                 0                  0                0   \n",
       "716                                  0                  0                0   \n",
       "146                                  0                  0                0   \n",
       "4174                                 0                  0                0   \n",
       "\n",
       "      Tags_Ringing  Tags_Will revert after reading the email  \n",
       "5643             0                                         0  \n",
       "4120             1                                         0  \n",
       "716              0                                         0  \n",
       "146              0                                         0  \n",
       "4174             0                                         0  "
      ]
     },
     "execution_count": 834,
     "metadata": {},
     "output_type": "execute_result"
    }
   ],
   "source": [
    "#scaling test set\n",
    "\n",
    "numerical_cols=X_test.select_dtypes(include=['float64', 'int64']).columns\n",
    "\n",
    "X_test[numerical_cols] = scaler.fit_transform(X_test[numerical_cols])\n",
    "\n",
    "X_test.head()"
   ]
  },
  {
   "cell_type": "code",
   "execution_count": 835,
   "id": "09867614",
   "metadata": {},
   "outputs": [
    {
     "data": {
      "text/html": [
       "<div>\n",
       "<style scoped>\n",
       "    .dataframe tbody tr th:only-of-type {\n",
       "        vertical-align: middle;\n",
       "    }\n",
       "\n",
       "    .dataframe tbody tr th {\n",
       "        vertical-align: top;\n",
       "    }\n",
       "\n",
       "    .dataframe thead th {\n",
       "        text-align: right;\n",
       "    }\n",
       "</style>\n",
       "<table border=\"1\" class=\"dataframe\">\n",
       "  <thead>\n",
       "    <tr style=\"text-align: right;\">\n",
       "      <th></th>\n",
       "      <th>Total Time Spent on Website</th>\n",
       "      <th>Lead Origin_Lead Add Form</th>\n",
       "      <th>What is your current occupation_Student</th>\n",
       "      <th>What is your current occupation_Unemployed</th>\n",
       "      <th>Lead Source_Welingak Website</th>\n",
       "      <th>Last Activity_Email Bounced</th>\n",
       "      <th>Last Activity_SMS Sent</th>\n",
       "      <th>Last Notable Activity_SMS Sent</th>\n",
       "      <th>Tags_Busy</th>\n",
       "      <th>Tags_Closed by Horizzon</th>\n",
       "      <th>Tags_Interested in other courses</th>\n",
       "      <th>Tags_Lost to EINS</th>\n",
       "      <th>Tags_Other_Tags</th>\n",
       "      <th>Tags_Ringing</th>\n",
       "      <th>Tags_Will revert after reading the email</th>\n",
       "    </tr>\n",
       "  </thead>\n",
       "  <tbody>\n",
       "    <tr>\n",
       "      <th>5643</th>\n",
       "      <td>-1.031859</td>\n",
       "      <td>0</td>\n",
       "      <td>0</td>\n",
       "      <td>1</td>\n",
       "      <td>0</td>\n",
       "      <td>1</td>\n",
       "      <td>0</td>\n",
       "      <td>0</td>\n",
       "      <td>0</td>\n",
       "      <td>0</td>\n",
       "      <td>0</td>\n",
       "      <td>0</td>\n",
       "      <td>1</td>\n",
       "      <td>0</td>\n",
       "      <td>0</td>\n",
       "    </tr>\n",
       "    <tr>\n",
       "      <th>4120</th>\n",
       "      <td>-0.752291</td>\n",
       "      <td>0</td>\n",
       "      <td>0</td>\n",
       "      <td>1</td>\n",
       "      <td>0</td>\n",
       "      <td>0</td>\n",
       "      <td>0</td>\n",
       "      <td>0</td>\n",
       "      <td>0</td>\n",
       "      <td>0</td>\n",
       "      <td>0</td>\n",
       "      <td>0</td>\n",
       "      <td>0</td>\n",
       "      <td>1</td>\n",
       "      <td>0</td>\n",
       "    </tr>\n",
       "    <tr>\n",
       "      <th>716</th>\n",
       "      <td>-0.828706</td>\n",
       "      <td>0</td>\n",
       "      <td>0</td>\n",
       "      <td>1</td>\n",
       "      <td>0</td>\n",
       "      <td>0</td>\n",
       "      <td>0</td>\n",
       "      <td>0</td>\n",
       "      <td>0</td>\n",
       "      <td>0</td>\n",
       "      <td>0</td>\n",
       "      <td>0</td>\n",
       "      <td>0</td>\n",
       "      <td>0</td>\n",
       "      <td>0</td>\n",
       "    </tr>\n",
       "    <tr>\n",
       "      <th>146</th>\n",
       "      <td>0.194512</td>\n",
       "      <td>0</td>\n",
       "      <td>0</td>\n",
       "      <td>1</td>\n",
       "      <td>0</td>\n",
       "      <td>0</td>\n",
       "      <td>0</td>\n",
       "      <td>0</td>\n",
       "      <td>0</td>\n",
       "      <td>0</td>\n",
       "      <td>0</td>\n",
       "      <td>0</td>\n",
       "      <td>0</td>\n",
       "      <td>0</td>\n",
       "      <td>0</td>\n",
       "    </tr>\n",
       "    <tr>\n",
       "      <th>4174</th>\n",
       "      <td>0.194512</td>\n",
       "      <td>0</td>\n",
       "      <td>0</td>\n",
       "      <td>1</td>\n",
       "      <td>0</td>\n",
       "      <td>0</td>\n",
       "      <td>1</td>\n",
       "      <td>1</td>\n",
       "      <td>0</td>\n",
       "      <td>0</td>\n",
       "      <td>0</td>\n",
       "      <td>0</td>\n",
       "      <td>0</td>\n",
       "      <td>0</td>\n",
       "      <td>0</td>\n",
       "    </tr>\n",
       "  </tbody>\n",
       "</table>\n",
       "</div>"
      ],
      "text/plain": [
       "      Total Time Spent on Website  Lead Origin_Lead Add Form  \\\n",
       "5643                    -1.031859                          0   \n",
       "4120                    -0.752291                          0   \n",
       "716                     -0.828706                          0   \n",
       "146                      0.194512                          0   \n",
       "4174                     0.194512                          0   \n",
       "\n",
       "      What is your current occupation_Student  \\\n",
       "5643                                        0   \n",
       "4120                                        0   \n",
       "716                                         0   \n",
       "146                                         0   \n",
       "4174                                        0   \n",
       "\n",
       "      What is your current occupation_Unemployed  \\\n",
       "5643                                           1   \n",
       "4120                                           1   \n",
       "716                                            1   \n",
       "146                                            1   \n",
       "4174                                           1   \n",
       "\n",
       "      Lead Source_Welingak Website  Last Activity_Email Bounced  \\\n",
       "5643                             0                            1   \n",
       "4120                             0                            0   \n",
       "716                              0                            0   \n",
       "146                              0                            0   \n",
       "4174                             0                            0   \n",
       "\n",
       "      Last Activity_SMS Sent  Last Notable Activity_SMS Sent  Tags_Busy  \\\n",
       "5643                       0                               0          0   \n",
       "4120                       0                               0          0   \n",
       "716                        0                               0          0   \n",
       "146                        0                               0          0   \n",
       "4174                       1                               1          0   \n",
       "\n",
       "      Tags_Closed by Horizzon  Tags_Interested in other courses  \\\n",
       "5643                        0                                 0   \n",
       "4120                        0                                 0   \n",
       "716                         0                                 0   \n",
       "146                         0                                 0   \n",
       "4174                        0                                 0   \n",
       "\n",
       "      Tags_Lost to EINS  Tags_Other_Tags  Tags_Ringing  \\\n",
       "5643                  0                1             0   \n",
       "4120                  0                0             1   \n",
       "716                   0                0             0   \n",
       "146                   0                0             0   \n",
       "4174                  0                0             0   \n",
       "\n",
       "      Tags_Will revert after reading the email  \n",
       "5643                                         0  \n",
       "4120                                         0  \n",
       "716                                          0  \n",
       "146                                          0  \n",
       "4174                                         0  "
      ]
     },
     "execution_count": 835,
     "metadata": {},
     "output_type": "execute_result"
    }
   ],
   "source": [
    "X_test = X_test[selected_columns]\n",
    "X_test.head()"
   ]
  },
  {
   "cell_type": "code",
   "execution_count": 836,
   "id": "e1a08f75",
   "metadata": {},
   "outputs": [
    {
     "data": {
      "text/plain": [
       "(2012, 16)"
      ]
     },
     "execution_count": 836,
     "metadata": {},
     "output_type": "execute_result"
    }
   ],
   "source": [
    "X_test_sm = sm.add_constant(X_test)\n",
    "X_test_sm.shape"
   ]
  },
  {
   "cell_type": "markdown",
   "id": "c83b6aa4",
   "metadata": {},
   "source": [
    "### Making Prediction on Test Set"
   ]
  },
  {
   "cell_type": "code",
   "execution_count": 837,
   "id": "bf07ed70",
   "metadata": {},
   "outputs": [],
   "source": [
    "y_test_pred = res.predict(X_test_sm)"
   ]
  },
  {
   "cell_type": "code",
   "execution_count": 838,
   "id": "6806297b",
   "metadata": {},
   "outputs": [
    {
     "data": {
      "text/plain": [
       "5643    0.000427\n",
       "4120    0.002352\n",
       "716     0.061757\n",
       "146     0.176546\n",
       "4174    0.674135\n",
       "5588    0.995735\n",
       "6830    0.508420\n",
       "4257    0.185798\n",
       "160     0.968410\n",
       "8277    0.288385\n",
       "dtype: float64"
      ]
     },
     "execution_count": 838,
     "metadata": {},
     "output_type": "execute_result"
    }
   ],
   "source": [
    "y_test_pred[:10]"
   ]
  },
  {
   "cell_type": "code",
   "execution_count": 839,
   "id": "28336f3d",
   "metadata": {},
   "outputs": [],
   "source": [
    "# Transforming the array y_pred into a dataframe format.\n",
    "y_pred_1 = pd.DataFrame(y_test_pred)"
   ]
  },
  {
   "cell_type": "code",
   "execution_count": 840,
   "id": "cef4f9d8",
   "metadata": {},
   "outputs": [
    {
     "data": {
      "text/html": [
       "<div>\n",
       "<style scoped>\n",
       "    .dataframe tbody tr th:only-of-type {\n",
       "        vertical-align: middle;\n",
       "    }\n",
       "\n",
       "    .dataframe tbody tr th {\n",
       "        vertical-align: top;\n",
       "    }\n",
       "\n",
       "    .dataframe thead th {\n",
       "        text-align: right;\n",
       "    }\n",
       "</style>\n",
       "<table border=\"1\" class=\"dataframe\">\n",
       "  <thead>\n",
       "    <tr style=\"text-align: right;\">\n",
       "      <th></th>\n",
       "      <th>0</th>\n",
       "    </tr>\n",
       "  </thead>\n",
       "  <tbody>\n",
       "    <tr>\n",
       "      <th>5643</th>\n",
       "      <td>0.000427</td>\n",
       "    </tr>\n",
       "    <tr>\n",
       "      <th>4120</th>\n",
       "      <td>0.002352</td>\n",
       "    </tr>\n",
       "    <tr>\n",
       "      <th>716</th>\n",
       "      <td>0.061757</td>\n",
       "    </tr>\n",
       "    <tr>\n",
       "      <th>146</th>\n",
       "      <td>0.176546</td>\n",
       "    </tr>\n",
       "    <tr>\n",
       "      <th>4174</th>\n",
       "      <td>0.674135</td>\n",
       "    </tr>\n",
       "  </tbody>\n",
       "</table>\n",
       "</div>"
      ],
      "text/plain": [
       "             0\n",
       "5643  0.000427\n",
       "4120  0.002352\n",
       "716   0.061757\n",
       "146   0.176546\n",
       "4174  0.674135"
      ]
     },
     "execution_count": 840,
     "metadata": {},
     "output_type": "execute_result"
    }
   ],
   "source": [
    "# Checking the dataframe\n",
    "y_pred_1.head()"
   ]
  },
  {
   "cell_type": "code",
   "execution_count": 841,
   "id": "17fb1c43",
   "metadata": {},
   "outputs": [],
   "source": [
    "# Converting y_test to dataframe\n",
    "y_test_df = pd.DataFrame(y_test)"
   ]
  },
  {
   "cell_type": "code",
   "execution_count": 842,
   "id": "d07c9496",
   "metadata": {},
   "outputs": [],
   "source": [
    "# Putting CustID to index\n",
    "y_test_df['Prospect ID'] = y_test_df.index"
   ]
  },
  {
   "cell_type": "code",
   "execution_count": 843,
   "id": "e016e5d6",
   "metadata": {},
   "outputs": [],
   "source": [
    "# Removing index for both dataframes to append them side by side \n",
    "y_pred_1.reset_index(drop=True, inplace=True)\n",
    "y_test_df.reset_index(drop=True, inplace=True)"
   ]
  },
  {
   "cell_type": "code",
   "execution_count": 844,
   "id": "d11d2495",
   "metadata": {},
   "outputs": [],
   "source": [
    "# Combining y_test_df and y_pred_1\n",
    "y_pred_final = pd.concat([y_test_df, y_pred_1],axis=1)"
   ]
  },
  {
   "cell_type": "code",
   "execution_count": 845,
   "id": "63d72f59",
   "metadata": {},
   "outputs": [
    {
     "data": {
      "text/html": [
       "<div>\n",
       "<style scoped>\n",
       "    .dataframe tbody tr th:only-of-type {\n",
       "        vertical-align: middle;\n",
       "    }\n",
       "\n",
       "    .dataframe tbody tr th {\n",
       "        vertical-align: top;\n",
       "    }\n",
       "\n",
       "    .dataframe thead th {\n",
       "        text-align: right;\n",
       "    }\n",
       "</style>\n",
       "<table border=\"1\" class=\"dataframe\">\n",
       "  <thead>\n",
       "    <tr style=\"text-align: right;\">\n",
       "      <th></th>\n",
       "      <th>Converted</th>\n",
       "      <th>Prospect ID</th>\n",
       "      <th>0</th>\n",
       "    </tr>\n",
       "  </thead>\n",
       "  <tbody>\n",
       "    <tr>\n",
       "      <th>0</th>\n",
       "      <td>0</td>\n",
       "      <td>5643</td>\n",
       "      <td>0.000427</td>\n",
       "    </tr>\n",
       "    <tr>\n",
       "      <th>1</th>\n",
       "      <td>0</td>\n",
       "      <td>4120</td>\n",
       "      <td>0.002352</td>\n",
       "    </tr>\n",
       "    <tr>\n",
       "      <th>2</th>\n",
       "      <td>0</td>\n",
       "      <td>716</td>\n",
       "      <td>0.061757</td>\n",
       "    </tr>\n",
       "    <tr>\n",
       "      <th>3</th>\n",
       "      <td>0</td>\n",
       "      <td>146</td>\n",
       "      <td>0.176546</td>\n",
       "    </tr>\n",
       "    <tr>\n",
       "      <th>4</th>\n",
       "      <td>1</td>\n",
       "      <td>4174</td>\n",
       "      <td>0.674135</td>\n",
       "    </tr>\n",
       "  </tbody>\n",
       "</table>\n",
       "</div>"
      ],
      "text/plain": [
       "   Converted  Prospect ID         0\n",
       "0          0         5643  0.000427\n",
       "1          0         4120  0.002352\n",
       "2          0          716  0.061757\n",
       "3          0          146  0.176546\n",
       "4          1         4174  0.674135"
      ]
     },
     "execution_count": 845,
     "metadata": {},
     "output_type": "execute_result"
    }
   ],
   "source": [
    "y_pred_final.head()"
   ]
  },
  {
   "cell_type": "code",
   "execution_count": 846,
   "id": "246a18cf",
   "metadata": {},
   "outputs": [],
   "source": [
    "# Renaming the column \n",
    "y_pred_final= y_pred_final.rename(columns={ 0 : 'Converted_prob'})"
   ]
  },
  {
   "cell_type": "code",
   "execution_count": 847,
   "id": "08f99278",
   "metadata": {},
   "outputs": [
    {
     "data": {
      "text/html": [
       "<div>\n",
       "<style scoped>\n",
       "    .dataframe tbody tr th:only-of-type {\n",
       "        vertical-align: middle;\n",
       "    }\n",
       "\n",
       "    .dataframe tbody tr th {\n",
       "        vertical-align: top;\n",
       "    }\n",
       "\n",
       "    .dataframe thead th {\n",
       "        text-align: right;\n",
       "    }\n",
       "</style>\n",
       "<table border=\"1\" class=\"dataframe\">\n",
       "  <thead>\n",
       "    <tr style=\"text-align: right;\">\n",
       "      <th></th>\n",
       "      <th>Converted</th>\n",
       "      <th>Prospect ID</th>\n",
       "      <th>Converted_prob</th>\n",
       "    </tr>\n",
       "  </thead>\n",
       "  <tbody>\n",
       "    <tr>\n",
       "      <th>0</th>\n",
       "      <td>0</td>\n",
       "      <td>5643</td>\n",
       "      <td>0.000427</td>\n",
       "    </tr>\n",
       "    <tr>\n",
       "      <th>1</th>\n",
       "      <td>0</td>\n",
       "      <td>4120</td>\n",
       "      <td>0.002352</td>\n",
       "    </tr>\n",
       "    <tr>\n",
       "      <th>2</th>\n",
       "      <td>0</td>\n",
       "      <td>716</td>\n",
       "      <td>0.061757</td>\n",
       "    </tr>\n",
       "    <tr>\n",
       "      <th>3</th>\n",
       "      <td>0</td>\n",
       "      <td>146</td>\n",
       "      <td>0.176546</td>\n",
       "    </tr>\n",
       "    <tr>\n",
       "      <th>4</th>\n",
       "      <td>1</td>\n",
       "      <td>4174</td>\n",
       "      <td>0.674135</td>\n",
       "    </tr>\n",
       "  </tbody>\n",
       "</table>\n",
       "</div>"
      ],
      "text/plain": [
       "   Converted  Prospect ID  Converted_prob\n",
       "0          0         5643        0.000427\n",
       "1          0         4120        0.002352\n",
       "2          0          716        0.061757\n",
       "3          0          146        0.176546\n",
       "4          1         4174        0.674135"
      ]
     },
     "execution_count": 847,
     "metadata": {},
     "output_type": "execute_result"
    }
   ],
   "source": [
    "y_pred_final.head()"
   ]
  },
  {
   "cell_type": "code",
   "execution_count": 848,
   "id": "f818b400",
   "metadata": {},
   "outputs": [],
   "source": [
    "# Rearranging the columns\n",
    "y_pred_final = y_pred_final[['Prospect ID','Converted','Converted_prob']]\n",
    "y_pred_final['Lead_Score'] = y_pred_final.Converted_prob.map( lambda x: round(x*100))"
   ]
  },
  {
   "cell_type": "code",
   "execution_count": 849,
   "id": "fa58d629",
   "metadata": {},
   "outputs": [
    {
     "data": {
      "text/html": [
       "<div>\n",
       "<style scoped>\n",
       "    .dataframe tbody tr th:only-of-type {\n",
       "        vertical-align: middle;\n",
       "    }\n",
       "\n",
       "    .dataframe tbody tr th {\n",
       "        vertical-align: top;\n",
       "    }\n",
       "\n",
       "    .dataframe thead th {\n",
       "        text-align: right;\n",
       "    }\n",
       "</style>\n",
       "<table border=\"1\" class=\"dataframe\">\n",
       "  <thead>\n",
       "    <tr style=\"text-align: right;\">\n",
       "      <th></th>\n",
       "      <th>Prospect ID</th>\n",
       "      <th>Converted</th>\n",
       "      <th>Converted_prob</th>\n",
       "      <th>Lead_Score</th>\n",
       "    </tr>\n",
       "  </thead>\n",
       "  <tbody>\n",
       "    <tr>\n",
       "      <th>0</th>\n",
       "      <td>5643</td>\n",
       "      <td>0</td>\n",
       "      <td>0.000427</td>\n",
       "      <td>0</td>\n",
       "    </tr>\n",
       "    <tr>\n",
       "      <th>1</th>\n",
       "      <td>4120</td>\n",
       "      <td>0</td>\n",
       "      <td>0.002352</td>\n",
       "      <td>0</td>\n",
       "    </tr>\n",
       "    <tr>\n",
       "      <th>2</th>\n",
       "      <td>716</td>\n",
       "      <td>0</td>\n",
       "      <td>0.061757</td>\n",
       "      <td>6</td>\n",
       "    </tr>\n",
       "    <tr>\n",
       "      <th>3</th>\n",
       "      <td>146</td>\n",
       "      <td>0</td>\n",
       "      <td>0.176546</td>\n",
       "      <td>18</td>\n",
       "    </tr>\n",
       "    <tr>\n",
       "      <th>4</th>\n",
       "      <td>4174</td>\n",
       "      <td>1</td>\n",
       "      <td>0.674135</td>\n",
       "      <td>67</td>\n",
       "    </tr>\n",
       "  </tbody>\n",
       "</table>\n",
       "</div>"
      ],
      "text/plain": [
       "   Prospect ID  Converted  Converted_prob  Lead_Score\n",
       "0         5643          0        0.000427           0\n",
       "1         4120          0        0.002352           0\n",
       "2          716          0        0.061757           6\n",
       "3          146          0        0.176546          18\n",
       "4         4174          1        0.674135          67"
      ]
     },
     "execution_count": 849,
     "metadata": {},
     "output_type": "execute_result"
    }
   ],
   "source": [
    "# Cheking the y_pred_final Dataframe\n",
    "y_pred_final.head()"
   ]
  },
  {
   "cell_type": "code",
   "execution_count": 850,
   "id": "242f023a",
   "metadata": {},
   "outputs": [],
   "source": [
    "y_pred_final['final_Predicted'] = y_pred_final.Converted_prob.map(lambda x: 1 if x > 0.3 else 0)"
   ]
  },
  {
   "cell_type": "code",
   "execution_count": 851,
   "id": "ad090f71",
   "metadata": {},
   "outputs": [
    {
     "data": {
      "text/html": [
       "<div>\n",
       "<style scoped>\n",
       "    .dataframe tbody tr th:only-of-type {\n",
       "        vertical-align: middle;\n",
       "    }\n",
       "\n",
       "    .dataframe tbody tr th {\n",
       "        vertical-align: top;\n",
       "    }\n",
       "\n",
       "    .dataframe thead th {\n",
       "        text-align: right;\n",
       "    }\n",
       "</style>\n",
       "<table border=\"1\" class=\"dataframe\">\n",
       "  <thead>\n",
       "    <tr style=\"text-align: right;\">\n",
       "      <th></th>\n",
       "      <th>Prospect ID</th>\n",
       "      <th>Converted</th>\n",
       "      <th>Converted_prob</th>\n",
       "      <th>Lead_Score</th>\n",
       "      <th>final_Predicted</th>\n",
       "    </tr>\n",
       "  </thead>\n",
       "  <tbody>\n",
       "    <tr>\n",
       "      <th>0</th>\n",
       "      <td>5643</td>\n",
       "      <td>0</td>\n",
       "      <td>0.000427</td>\n",
       "      <td>0</td>\n",
       "      <td>0</td>\n",
       "    </tr>\n",
       "    <tr>\n",
       "      <th>1</th>\n",
       "      <td>4120</td>\n",
       "      <td>0</td>\n",
       "      <td>0.002352</td>\n",
       "      <td>0</td>\n",
       "      <td>0</td>\n",
       "    </tr>\n",
       "    <tr>\n",
       "      <th>2</th>\n",
       "      <td>716</td>\n",
       "      <td>0</td>\n",
       "      <td>0.061757</td>\n",
       "      <td>6</td>\n",
       "      <td>0</td>\n",
       "    </tr>\n",
       "    <tr>\n",
       "      <th>3</th>\n",
       "      <td>146</td>\n",
       "      <td>0</td>\n",
       "      <td>0.176546</td>\n",
       "      <td>18</td>\n",
       "      <td>0</td>\n",
       "    </tr>\n",
       "    <tr>\n",
       "      <th>4</th>\n",
       "      <td>4174</td>\n",
       "      <td>1</td>\n",
       "      <td>0.674135</td>\n",
       "      <td>67</td>\n",
       "      <td>1</td>\n",
       "    </tr>\n",
       "  </tbody>\n",
       "</table>\n",
       "</div>"
      ],
      "text/plain": [
       "   Prospect ID  Converted  Converted_prob  Lead_Score  final_Predicted\n",
       "0         5643          0        0.000427           0                0\n",
       "1         4120          0        0.002352           0                0\n",
       "2          716          0        0.061757           6                0\n",
       "3          146          0        0.176546          18                0\n",
       "4         4174          1        0.674135          67                1"
      ]
     },
     "execution_count": 851,
     "metadata": {},
     "output_type": "execute_result"
    }
   ],
   "source": [
    "y_pred_final.head()"
   ]
  },
  {
   "cell_type": "code",
   "execution_count": 852,
   "id": "91837c31",
   "metadata": {},
   "outputs": [
    {
     "data": {
      "text/plain": [
       "0.9050695825049702"
      ]
     },
     "execution_count": 852,
     "metadata": {},
     "output_type": "execute_result"
    }
   ],
   "source": [
    "# checking the overall accuracy.\n",
    "metrics.accuracy_score(y_pred_final.Converted, y_pred_final.final_Predicted)"
   ]
  },
  {
   "cell_type": "code",
   "execution_count": 853,
   "id": "f54851c6",
   "metadata": {},
   "outputs": [
    {
     "name": "stdout",
     "output_type": "stream",
     "text": [
      "F1 score = 0.8712070128118677\n"
     ]
    }
   ],
   "source": [
    "from sklearn.metrics import f1_score\n",
    "print('F1 score =',f1_score(y_pred_final.Converted, y_pred_final.final_Predicted))"
   ]
  },
  {
   "cell_type": "code",
   "execution_count": 854,
   "id": "ba6c90af",
   "metadata": {},
   "outputs": [
    {
     "data": {
      "text/plain": [
       "array([[1175,  135],\n",
       "       [  56,  646]], dtype=int64)"
      ]
     },
     "execution_count": 854,
     "metadata": {},
     "output_type": "execute_result"
    }
   ],
   "source": [
    "confusion_matrix2 = metrics.confusion_matrix(y_pred_final.Converted, y_pred_final.final_Predicted )\n",
    "confusion_matrix2"
   ]
  },
  {
   "cell_type": "code",
   "execution_count": 855,
   "id": "f613fa43",
   "metadata": {},
   "outputs": [
    {
     "name": "stdout",
     "output_type": "stream",
     "text": [
      "sensitivity =  0.92\n",
      "specificity =  0.897\n",
      "false positive rate =  0.103\n",
      "positive predictive value =  0.827\n",
      "Negative predictive value =  0.955\n"
     ]
    }
   ],
   "source": [
    "TP = confusion_matrix2[1,1] # true positive \n",
    "TN = confusion_matrix2[0,0] # true negatives\n",
    "FP = confusion_matrix2[0,1] # false positives\n",
    "FN = confusion_matrix2[1,0] # false negative\n",
    "\n",
    "\n",
    "print('sensitivity = ', round(TP / float(TP+FN),3))\n",
    "print('specificity = ', round(TN / float(TN+FP),3))\n",
    "print('false positive rate = ', round(FP/ float(TN+FP),3))\n",
    "print ('positive predictive value = ',round(TP / float(TP+FP),3))\n",
    "print ('Negative predictive value = ',round(TN / float(TN+ FN),3))"
   ]
  },
  {
   "cell_type": "code",
   "execution_count": 856,
   "id": "eab19ba6",
   "metadata": {},
   "outputs": [
    {
     "name": "stdout",
     "output_type": "stream",
     "text": [
      "Recall =  0.92\n"
     ]
    }
   ],
   "source": [
    "print('Recall = ',round(recall_score(y_pred_final.Converted, y_pred_final.final_Predicted),3))"
   ]
  },
  {
   "cell_type": "markdown",
   "id": "d5a1895c",
   "metadata": {},
   "source": [
    "The following are the outcomes of the model's performance on the test data:\n",
    "\n",
    "- The model's accuracy, or the percentage of accurate predictions it made, is 92.66%.\n",
    "- The percentage of true positive predictions to real positive cases in the data is the model's sensitivity, which is at 91.58%.\n",
    "- The model's specificity, or the ratio of true negative predictions to real negative instances in the data, is 93.17%.\n",
    "- All things considered, these numbers indicate that the model has done well on the test data and is highly accurate in predicting the results."
   ]
  },
  {
   "cell_type": "markdown",
   "id": "b1ecb50c",
   "metadata": {},
   "source": [
    "## Conclusion:\n",
    "\n",
    "- More conversions result from lead add forms and landing page submissions.\n",
    "- Google, Organic Search, Direct Traffic, and Referral leads all result in increased conversion rates.\n",
    "- Leads from email and SMS marketing convert more frequently.\n",
    "- Sector leads in finance, HR, marketing, operations, and banking typically convert at a higher rate.\n",
    "- Higher conversions are achieved with the \"Better Career Prospects\" choice for the career result.\n",
    "- Leads that stay on the website longer typically become more converts.\n",
    "- Lowering the bounce rate of a website can lengthen consumer visits and boost conversions.\n",
    "- Lead Add Forms should be utilized in all important sections since they provide qualified leads.\n",
    "- To increase conversions, the sales team should concentrate on working professionals.\n",
    "- Model accuracy is 91%, and leads with a lead score greater than 0.35 typically convert at a higher rate.\n"
   ]
  },
  {
   "cell_type": "code",
   "execution_count": null,
   "id": "154a01e6",
   "metadata": {},
   "outputs": [],
   "source": []
  },
  {
   "cell_type": "code",
   "execution_count": null,
   "id": "24a556da",
   "metadata": {},
   "outputs": [],
   "source": []
  }
 ],
 "metadata": {
  "kernelspec": {
   "display_name": "Python 3 (ipykernel)",
   "language": "python",
   "name": "python3"
  },
  "language_info": {
   "codemirror_mode": {
    "name": "ipython",
    "version": 3
   },
   "file_extension": ".py",
   "mimetype": "text/x-python",
   "name": "python",
   "nbconvert_exporter": "python",
   "pygments_lexer": "ipython3",
   "version": "3.9.12"
  }
 },
 "nbformat": 4,
 "nbformat_minor": 5
}
